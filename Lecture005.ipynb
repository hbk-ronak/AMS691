{
 "cells": [
  {
   "cell_type": "markdown",
   "metadata": {},
   "source": [
    "# Data Cleaning and Preperation Methods"
   ]
  },
  {
   "cell_type": "code",
   "execution_count": 1,
   "metadata": {},
   "outputs": [],
   "source": [
    "import scipy.stats as stats\n",
    "import pylab\n",
    "import numpy as np\n",
    "import pandas as pd\n",
    "import statsmodels.api as sm\n",
    "import mplfinance as fplt\n",
    "import math\n",
    "from matplotlib import pyplot as plt\n",
    "import scipy"
   ]
  },
  {
   "cell_type": "code",
   "execution_count": 2,
   "metadata": {},
   "outputs": [],
   "source": [
    "def FD_histogram(df, field='close'):\n",
    "    \n",
    "    q1 = df[field].quantile(.75)\n",
    "    q2 = df[field].quantile(.25)\n",
    "    n = len(df[field])\n",
    "    bin_width = 2*(q1 - q2)*(n**(-1/3))\n",
    "    num_of_bins = math.floor((df[field].max()-df[field].min())/bin_width)\n",
    "   \n",
    "    return df[field].hist(bins=num_of_bins)\n",
    "\n",
    "def get_log_return(df):\n",
    "    log_returns = pd.Series(np.log((df['close'] - df['open'])/df['open'] + 1),name='log returns')\n",
    "    return pd.concat([df,log_returns], axis=1)\n",
    "\n",
    "def qq_plot(df,field='close'):\n",
    "    sm.qqplot(np.array(df[field]),\n",
    "          loc = df[field].mean(), scale = df[field].std(), \n",
    "          line='45')\n",
    "    pylab.show()\n",
    "    \n",
    "def auto_corr(df,field='close'):\n",
    "    plt.acorr(np.array(df[field][~np.isnan(df[field])]),maxlags=10)\n",
    "    plt.title('Autocorrelation of stock ' + field + ' data')\n",
    "    plt.xlabel('Lag')\n",
    "    plt.ylabel('Autocorrelation')"
   ]
  },
  {
   "cell_type": "code",
   "execution_count": 3,
   "metadata": {},
   "outputs": [],
   "source": [
    "AAPL_timeindex = pd.read_csv(\"/Users/michael/Documents/Stony Brook/AMS 691 Fall 2020/Lecture005/AAPL_cleaned.csv\")"
   ]
  },
  {
   "cell_type": "code",
   "execution_count": 4,
   "metadata": {},
   "outputs": [
    {
     "data": {
      "text/html": [
       "<div>\n",
       "<style scoped>\n",
       "    .dataframe tbody tr th:only-of-type {\n",
       "        vertical-align: middle;\n",
       "    }\n",
       "\n",
       "    .dataframe tbody tr th {\n",
       "        vertical-align: top;\n",
       "    }\n",
       "\n",
       "    .dataframe thead th {\n",
       "        text-align: right;\n",
       "    }\n",
       "</style>\n",
       "<table border=\"1\" class=\"dataframe\">\n",
       "  <thead>\n",
       "    <tr style=\"text-align: right;\">\n",
       "      <th></th>\n",
       "      <th>Date_Time</th>\n",
       "      <th>Symbol</th>\n",
       "      <th>Trade Volume</th>\n",
       "      <th>Trade Price</th>\n",
       "      <th>Sale Condition</th>\n",
       "      <th>Trade Correction Indicator</th>\n",
       "    </tr>\n",
       "  </thead>\n",
       "  <tbody>\n",
       "    <tr>\n",
       "      <th>0</th>\n",
       "      <td>1900-01-01 09:30:00.036753311</td>\n",
       "      <td>AAPL</td>\n",
       "      <td>20</td>\n",
       "      <td>204.39</td>\n",
       "      <td>@  I</td>\n",
       "      <td>0</td>\n",
       "    </tr>\n",
       "    <tr>\n",
       "      <th>1</th>\n",
       "      <td>1900-01-01 09:30:00.079162915</td>\n",
       "      <td>AAPL</td>\n",
       "      <td>25</td>\n",
       "      <td>204.39</td>\n",
       "      <td>@  I</td>\n",
       "      <td>0</td>\n",
       "    </tr>\n",
       "    <tr>\n",
       "      <th>2</th>\n",
       "      <td>1900-01-01 09:30:00.079456147</td>\n",
       "      <td>AAPL</td>\n",
       "      <td>55</td>\n",
       "      <td>204.39</td>\n",
       "      <td>@  I</td>\n",
       "      <td>0</td>\n",
       "    </tr>\n",
       "    <tr>\n",
       "      <th>3</th>\n",
       "      <td>1900-01-01 09:30:00.085361166</td>\n",
       "      <td>AAPL</td>\n",
       "      <td>5</td>\n",
       "      <td>204.35</td>\n",
       "      <td>@  I</td>\n",
       "      <td>0</td>\n",
       "    </tr>\n",
       "    <tr>\n",
       "      <th>4</th>\n",
       "      <td>1900-01-01 09:30:00.087596718</td>\n",
       "      <td>AAPL</td>\n",
       "      <td>2</td>\n",
       "      <td>204.35</td>\n",
       "      <td>@  I</td>\n",
       "      <td>0</td>\n",
       "    </tr>\n",
       "  </tbody>\n",
       "</table>\n",
       "</div>"
      ],
      "text/plain": [
       "                       Date_Time Symbol  Trade Volume  Trade Price  \\\n",
       "0  1900-01-01 09:30:00.036753311   AAPL            20       204.39   \n",
       "1  1900-01-01 09:30:00.079162915   AAPL            25       204.39   \n",
       "2  1900-01-01 09:30:00.079456147   AAPL            55       204.39   \n",
       "3  1900-01-01 09:30:00.085361166   AAPL             5       204.35   \n",
       "4  1900-01-01 09:30:00.087596718   AAPL             2       204.35   \n",
       "\n",
       "  Sale Condition  Trade Correction Indicator  \n",
       "0           @  I                           0  \n",
       "1           @  I                           0  \n",
       "2           @  I                           0  \n",
       "3           @  I                           0  \n",
       "4           @  I                           0  "
      ]
     },
     "execution_count": 4,
     "metadata": {},
     "output_type": "execute_result"
    }
   ],
   "source": [
    "AAPL_timeindex.head()"
   ]
  },
  {
   "cell_type": "code",
   "execution_count": 5,
   "metadata": {},
   "outputs": [
    {
     "name": "stdout",
     "output_type": "stream",
     "text": [
      "<class 'pandas.core.frame.DataFrame'>\n",
      "RangeIndex: 556717 entries, 0 to 556716\n",
      "Data columns (total 6 columns):\n",
      " #   Column                      Non-Null Count   Dtype  \n",
      "---  ------                      --------------   -----  \n",
      " 0   Date_Time                   556717 non-null  object \n",
      " 1   Symbol                      556717 non-null  object \n",
      " 2   Trade Volume                556717 non-null  int64  \n",
      " 3   Trade Price                 556717 non-null  float64\n",
      " 4   Sale Condition              556717 non-null  object \n",
      " 5   Trade Correction Indicator  556717 non-null  int64  \n",
      "dtypes: float64(1), int64(2), object(3)\n",
      "memory usage: 25.5+ MB\n"
     ]
    }
   ],
   "source": [
    "AAPL_timeindex.info()"
   ]
  },
  {
   "cell_type": "code",
   "execution_count": 6,
   "metadata": {},
   "outputs": [
    {
     "name": "stdout",
     "output_type": "stream",
     "text": [
      "<class 'pandas.core.frame.DataFrame'>\n",
      "RangeIndex: 556717 entries, 0 to 556716\n",
      "Data columns (total 6 columns):\n",
      " #   Column                      Non-Null Count   Dtype         \n",
      "---  ------                      --------------   -----         \n",
      " 0   Date_Time                   556717 non-null  datetime64[ns]\n",
      " 1   Symbol                      556717 non-null  object        \n",
      " 2   Trade Volume                556717 non-null  int64         \n",
      " 3   Trade Price                 556717 non-null  float64       \n",
      " 4   Sale Condition              556717 non-null  object        \n",
      " 5   Trade Correction Indicator  556717 non-null  int64         \n",
      "dtypes: datetime64[ns](1), float64(1), int64(2), object(2)\n",
      "memory usage: 25.5+ MB\n"
     ]
    }
   ],
   "source": [
    "AAPL_timeindex[\"Date_Time\"] = pd.to_datetime(AAPL_timeindex[\"Date_Time\"])\n",
    "AAPL_timeindex.info()"
   ]
  },
  {
   "cell_type": "code",
   "execution_count": 7,
   "metadata": {},
   "outputs": [],
   "source": [
    "AAPL_timeindex = AAPL_timeindex.set_index(\"Date_Time\")"
   ]
  },
  {
   "cell_type": "code",
   "execution_count": 8,
   "metadata": {},
   "outputs": [
    {
     "data": {
      "text/html": [
       "<div>\n",
       "<style scoped>\n",
       "    .dataframe tbody tr th:only-of-type {\n",
       "        vertical-align: middle;\n",
       "    }\n",
       "\n",
       "    .dataframe tbody tr th {\n",
       "        vertical-align: top;\n",
       "    }\n",
       "\n",
       "    .dataframe thead th {\n",
       "        text-align: right;\n",
       "    }\n",
       "</style>\n",
       "<table border=\"1\" class=\"dataframe\">\n",
       "  <thead>\n",
       "    <tr style=\"text-align: right;\">\n",
       "      <th></th>\n",
       "      <th>Symbol</th>\n",
       "      <th>Trade Volume</th>\n",
       "      <th>Trade Price</th>\n",
       "      <th>Sale Condition</th>\n",
       "      <th>Trade Correction Indicator</th>\n",
       "    </tr>\n",
       "    <tr>\n",
       "      <th>Date_Time</th>\n",
       "      <th></th>\n",
       "      <th></th>\n",
       "      <th></th>\n",
       "      <th></th>\n",
       "      <th></th>\n",
       "    </tr>\n",
       "  </thead>\n",
       "  <tbody>\n",
       "    <tr>\n",
       "      <th>1900-01-01 09:30:00.036753311</th>\n",
       "      <td>AAPL</td>\n",
       "      <td>20</td>\n",
       "      <td>204.39</td>\n",
       "      <td>@  I</td>\n",
       "      <td>0</td>\n",
       "    </tr>\n",
       "    <tr>\n",
       "      <th>1900-01-01 09:30:00.079162915</th>\n",
       "      <td>AAPL</td>\n",
       "      <td>25</td>\n",
       "      <td>204.39</td>\n",
       "      <td>@  I</td>\n",
       "      <td>0</td>\n",
       "    </tr>\n",
       "    <tr>\n",
       "      <th>1900-01-01 09:30:00.079456147</th>\n",
       "      <td>AAPL</td>\n",
       "      <td>55</td>\n",
       "      <td>204.39</td>\n",
       "      <td>@  I</td>\n",
       "      <td>0</td>\n",
       "    </tr>\n",
       "    <tr>\n",
       "      <th>1900-01-01 09:30:00.085361166</th>\n",
       "      <td>AAPL</td>\n",
       "      <td>5</td>\n",
       "      <td>204.35</td>\n",
       "      <td>@  I</td>\n",
       "      <td>0</td>\n",
       "    </tr>\n",
       "    <tr>\n",
       "      <th>1900-01-01 09:30:00.087596718</th>\n",
       "      <td>AAPL</td>\n",
       "      <td>2</td>\n",
       "      <td>204.35</td>\n",
       "      <td>@  I</td>\n",
       "      <td>0</td>\n",
       "    </tr>\n",
       "  </tbody>\n",
       "</table>\n",
       "</div>"
      ],
      "text/plain": [
       "                              Symbol  Trade Volume  Trade Price  \\\n",
       "Date_Time                                                         \n",
       "1900-01-01 09:30:00.036753311   AAPL            20       204.39   \n",
       "1900-01-01 09:30:00.079162915   AAPL            25       204.39   \n",
       "1900-01-01 09:30:00.079456147   AAPL            55       204.39   \n",
       "1900-01-01 09:30:00.085361166   AAPL             5       204.35   \n",
       "1900-01-01 09:30:00.087596718   AAPL             2       204.35   \n",
       "\n",
       "                              Sale Condition  Trade Correction Indicator  \n",
       "Date_Time                                                                 \n",
       "1900-01-01 09:30:00.036753311           @  I                           0  \n",
       "1900-01-01 09:30:00.079162915           @  I                           0  \n",
       "1900-01-01 09:30:00.079456147           @  I                           0  \n",
       "1900-01-01 09:30:00.085361166           @  I                           0  \n",
       "1900-01-01 09:30:00.087596718           @  I                           0  "
      ]
     },
     "execution_count": 8,
     "metadata": {},
     "output_type": "execute_result"
    }
   ],
   "source": [
    "AAPL_timeindex.head()"
   ]
  },
  {
   "cell_type": "code",
   "execution_count": 9,
   "metadata": {},
   "outputs": [
    {
     "name": "stdout",
     "output_type": "stream",
     "text": [
      "<class 'pandas.core.frame.DataFrame'>\n",
      "DatetimeIndex: 556717 entries, 1900-01-01 09:30:00.036753311 to 1900-01-01 16:15:00.006035274\n",
      "Data columns (total 5 columns):\n",
      " #   Column                      Non-Null Count   Dtype  \n",
      "---  ------                      --------------   -----  \n",
      " 0   Symbol                      556717 non-null  object \n",
      " 1   Trade Volume                556717 non-null  int64  \n",
      " 2   Trade Price                 556717 non-null  float64\n",
      " 3   Sale Condition              556717 non-null  object \n",
      " 4   Trade Correction Indicator  556717 non-null  int64  \n",
      "dtypes: float64(1), int64(2), object(2)\n",
      "memory usage: 25.5+ MB\n"
     ]
    }
   ],
   "source": [
    "AAPL_timeindex.info()"
   ]
  },
  {
   "cell_type": "markdown",
   "metadata": {},
   "source": [
    "## Log Returns"
   ]
  },
  {
   "cell_type": "code",
   "execution_count": 10,
   "metadata": {},
   "outputs": [],
   "source": [
    "import BarSampler as bs"
   ]
  },
  {
   "cell_type": "code",
   "execution_count": 11,
   "metadata": {},
   "outputs": [
    {
     "data": {
      "text/html": [
       "<div>\n",
       "<style scoped>\n",
       "    .dataframe tbody tr th:only-of-type {\n",
       "        vertical-align: middle;\n",
       "    }\n",
       "\n",
       "    .dataframe tbody tr th {\n",
       "        vertical-align: top;\n",
       "    }\n",
       "\n",
       "    .dataframe thead th {\n",
       "        text-align: right;\n",
       "    }\n",
       "</style>\n",
       "<table border=\"1\" class=\"dataframe\">\n",
       "  <thead>\n",
       "    <tr style=\"text-align: right;\">\n",
       "      <th></th>\n",
       "      <th>open</th>\n",
       "      <th>high</th>\n",
       "      <th>low</th>\n",
       "      <th>close</th>\n",
       "      <th>Trade Volume</th>\n",
       "    </tr>\n",
       "    <tr>\n",
       "      <th>Date_Time</th>\n",
       "      <th></th>\n",
       "      <th></th>\n",
       "      <th></th>\n",
       "      <th></th>\n",
       "      <th></th>\n",
       "    </tr>\n",
       "  </thead>\n",
       "  <tbody>\n",
       "    <tr>\n",
       "      <th>1900-01-01 09:35:00</th>\n",
       "      <td>204.390</td>\n",
       "      <td>204.3900</td>\n",
       "      <td>201.63</td>\n",
       "      <td>203.1063</td>\n",
       "      <td>4172982</td>\n",
       "    </tr>\n",
       "    <tr>\n",
       "      <th>1900-01-01 09:40:00</th>\n",
       "      <td>203.080</td>\n",
       "      <td>204.3900</td>\n",
       "      <td>201.70</td>\n",
       "      <td>202.2097</td>\n",
       "      <td>1678667</td>\n",
       "    </tr>\n",
       "    <tr>\n",
       "      <th>1900-01-01 09:45:00</th>\n",
       "      <td>202.180</td>\n",
       "      <td>202.5718</td>\n",
       "      <td>201.48</td>\n",
       "      <td>201.7950</td>\n",
       "      <td>1965895</td>\n",
       "    </tr>\n",
       "    <tr>\n",
       "      <th>1900-01-01 09:50:00</th>\n",
       "      <td>201.795</td>\n",
       "      <td>202.2000</td>\n",
       "      <td>201.36</td>\n",
       "      <td>201.5200</td>\n",
       "      <td>1566717</td>\n",
       "    </tr>\n",
       "    <tr>\n",
       "      <th>1900-01-01 09:55:00</th>\n",
       "      <td>201.520</td>\n",
       "      <td>202.0900</td>\n",
       "      <td>201.33</td>\n",
       "      <td>201.6200</td>\n",
       "      <td>1349858</td>\n",
       "    </tr>\n",
       "    <tr>\n",
       "      <th>...</th>\n",
       "      <td>...</td>\n",
       "      <td>...</td>\n",
       "      <td>...</td>\n",
       "      <td>...</td>\n",
       "      <td>...</td>\n",
       "    </tr>\n",
       "    <tr>\n",
       "      <th>1900-01-01 16:00:00</th>\n",
       "      <td>201.400</td>\n",
       "      <td>201.8900</td>\n",
       "      <td>201.29</td>\n",
       "      <td>201.5900</td>\n",
       "      <td>1513092</td>\n",
       "    </tr>\n",
       "    <tr>\n",
       "      <th>1900-01-01 16:05:00</th>\n",
       "      <td>201.570</td>\n",
       "      <td>201.5900</td>\n",
       "      <td>201.57</td>\n",
       "      <td>201.5900</td>\n",
       "      <td>4547</td>\n",
       "    </tr>\n",
       "    <tr>\n",
       "      <th>1900-01-01 16:10:00</th>\n",
       "      <td>NaN</td>\n",
       "      <td>NaN</td>\n",
       "      <td>NaN</td>\n",
       "      <td>NaN</td>\n",
       "      <td>0</td>\n",
       "    </tr>\n",
       "    <tr>\n",
       "      <th>1900-01-01 16:15:00</th>\n",
       "      <td>NaN</td>\n",
       "      <td>NaN</td>\n",
       "      <td>NaN</td>\n",
       "      <td>NaN</td>\n",
       "      <td>0</td>\n",
       "    </tr>\n",
       "    <tr>\n",
       "      <th>1900-01-01 16:20:00</th>\n",
       "      <td>201.590</td>\n",
       "      <td>201.5900</td>\n",
       "      <td>201.59</td>\n",
       "      <td>201.5900</td>\n",
       "      <td>0</td>\n",
       "    </tr>\n",
       "  </tbody>\n",
       "</table>\n",
       "<p>82 rows × 5 columns</p>\n",
       "</div>"
      ],
      "text/plain": [
       "                        open      high     low     close  Trade Volume\n",
       "Date_Time                                                             \n",
       "1900-01-01 09:35:00  204.390  204.3900  201.63  203.1063       4172982\n",
       "1900-01-01 09:40:00  203.080  204.3900  201.70  202.2097       1678667\n",
       "1900-01-01 09:45:00  202.180  202.5718  201.48  201.7950       1965895\n",
       "1900-01-01 09:50:00  201.795  202.2000  201.36  201.5200       1566717\n",
       "1900-01-01 09:55:00  201.520  202.0900  201.33  201.6200       1349858\n",
       "...                      ...       ...     ...       ...           ...\n",
       "1900-01-01 16:00:00  201.400  201.8900  201.29  201.5900       1513092\n",
       "1900-01-01 16:05:00  201.570  201.5900  201.57  201.5900          4547\n",
       "1900-01-01 16:10:00      NaN       NaN     NaN       NaN             0\n",
       "1900-01-01 16:15:00      NaN       NaN     NaN       NaN             0\n",
       "1900-01-01 16:20:00  201.590  201.5900  201.59  201.5900             0\n",
       "\n",
       "[82 rows x 5 columns]"
      ]
     },
     "execution_count": 11,
     "metadata": {},
     "output_type": "execute_result"
    }
   ],
   "source": [
    "AAPL_5Minbars_vol = bs.process_time_bars(AAPL_timeindex,frequency='5Min')\n",
    "AAPL_5Minbars_vol"
   ]
  },
  {
   "cell_type": "code",
   "execution_count": 12,
   "metadata": {},
   "outputs": [],
   "source": [
    "AAPL_5Minbars = get_log_return(AAPL_5Minbars_vol)"
   ]
  },
  {
   "cell_type": "code",
   "execution_count": 13,
   "metadata": {},
   "outputs": [
    {
     "data": {
      "text/html": [
       "<div>\n",
       "<style scoped>\n",
       "    .dataframe tbody tr th:only-of-type {\n",
       "        vertical-align: middle;\n",
       "    }\n",
       "\n",
       "    .dataframe tbody tr th {\n",
       "        vertical-align: top;\n",
       "    }\n",
       "\n",
       "    .dataframe thead th {\n",
       "        text-align: right;\n",
       "    }\n",
       "</style>\n",
       "<table border=\"1\" class=\"dataframe\">\n",
       "  <thead>\n",
       "    <tr style=\"text-align: right;\">\n",
       "      <th></th>\n",
       "      <th>open</th>\n",
       "      <th>high</th>\n",
       "      <th>low</th>\n",
       "      <th>close</th>\n",
       "      <th>Trade Volume</th>\n",
       "      <th>log returns</th>\n",
       "    </tr>\n",
       "    <tr>\n",
       "      <th>Date_Time</th>\n",
       "      <th></th>\n",
       "      <th></th>\n",
       "      <th></th>\n",
       "      <th></th>\n",
       "      <th></th>\n",
       "      <th></th>\n",
       "    </tr>\n",
       "  </thead>\n",
       "  <tbody>\n",
       "    <tr>\n",
       "      <th>1900-01-01 09:35:00</th>\n",
       "      <td>204.390</td>\n",
       "      <td>204.3900</td>\n",
       "      <td>201.63</td>\n",
       "      <td>203.1063</td>\n",
       "      <td>4172982</td>\n",
       "      <td>-0.006300</td>\n",
       "    </tr>\n",
       "    <tr>\n",
       "      <th>1900-01-01 09:40:00</th>\n",
       "      <td>203.080</td>\n",
       "      <td>204.3900</td>\n",
       "      <td>201.70</td>\n",
       "      <td>202.2097</td>\n",
       "      <td>1678667</td>\n",
       "      <td>-0.004295</td>\n",
       "    </tr>\n",
       "    <tr>\n",
       "      <th>1900-01-01 09:45:00</th>\n",
       "      <td>202.180</td>\n",
       "      <td>202.5718</td>\n",
       "      <td>201.48</td>\n",
       "      <td>201.7950</td>\n",
       "      <td>1965895</td>\n",
       "      <td>-0.001906</td>\n",
       "    </tr>\n",
       "    <tr>\n",
       "      <th>1900-01-01 09:50:00</th>\n",
       "      <td>201.795</td>\n",
       "      <td>202.2000</td>\n",
       "      <td>201.36</td>\n",
       "      <td>201.5200</td>\n",
       "      <td>1566717</td>\n",
       "      <td>-0.001364</td>\n",
       "    </tr>\n",
       "    <tr>\n",
       "      <th>1900-01-01 09:55:00</th>\n",
       "      <td>201.520</td>\n",
       "      <td>202.0900</td>\n",
       "      <td>201.33</td>\n",
       "      <td>201.6200</td>\n",
       "      <td>1349858</td>\n",
       "      <td>0.000496</td>\n",
       "    </tr>\n",
       "    <tr>\n",
       "      <th>...</th>\n",
       "      <td>...</td>\n",
       "      <td>...</td>\n",
       "      <td>...</td>\n",
       "      <td>...</td>\n",
       "      <td>...</td>\n",
       "      <td>...</td>\n",
       "    </tr>\n",
       "    <tr>\n",
       "      <th>1900-01-01 16:00:00</th>\n",
       "      <td>201.400</td>\n",
       "      <td>201.8900</td>\n",
       "      <td>201.29</td>\n",
       "      <td>201.5900</td>\n",
       "      <td>1513092</td>\n",
       "      <td>0.000943</td>\n",
       "    </tr>\n",
       "    <tr>\n",
       "      <th>1900-01-01 16:05:00</th>\n",
       "      <td>201.570</td>\n",
       "      <td>201.5900</td>\n",
       "      <td>201.57</td>\n",
       "      <td>201.5900</td>\n",
       "      <td>4547</td>\n",
       "      <td>0.000099</td>\n",
       "    </tr>\n",
       "    <tr>\n",
       "      <th>1900-01-01 16:10:00</th>\n",
       "      <td>NaN</td>\n",
       "      <td>NaN</td>\n",
       "      <td>NaN</td>\n",
       "      <td>NaN</td>\n",
       "      <td>0</td>\n",
       "      <td>NaN</td>\n",
       "    </tr>\n",
       "    <tr>\n",
       "      <th>1900-01-01 16:15:00</th>\n",
       "      <td>NaN</td>\n",
       "      <td>NaN</td>\n",
       "      <td>NaN</td>\n",
       "      <td>NaN</td>\n",
       "      <td>0</td>\n",
       "      <td>NaN</td>\n",
       "    </tr>\n",
       "    <tr>\n",
       "      <th>1900-01-01 16:20:00</th>\n",
       "      <td>201.590</td>\n",
       "      <td>201.5900</td>\n",
       "      <td>201.59</td>\n",
       "      <td>201.5900</td>\n",
       "      <td>0</td>\n",
       "      <td>0.000000</td>\n",
       "    </tr>\n",
       "  </tbody>\n",
       "</table>\n",
       "<p>82 rows × 6 columns</p>\n",
       "</div>"
      ],
      "text/plain": [
       "                        open      high     low     close  Trade Volume  \\\n",
       "Date_Time                                                                \n",
       "1900-01-01 09:35:00  204.390  204.3900  201.63  203.1063       4172982   \n",
       "1900-01-01 09:40:00  203.080  204.3900  201.70  202.2097       1678667   \n",
       "1900-01-01 09:45:00  202.180  202.5718  201.48  201.7950       1965895   \n",
       "1900-01-01 09:50:00  201.795  202.2000  201.36  201.5200       1566717   \n",
       "1900-01-01 09:55:00  201.520  202.0900  201.33  201.6200       1349858   \n",
       "...                      ...       ...     ...       ...           ...   \n",
       "1900-01-01 16:00:00  201.400  201.8900  201.29  201.5900       1513092   \n",
       "1900-01-01 16:05:00  201.570  201.5900  201.57  201.5900          4547   \n",
       "1900-01-01 16:10:00      NaN       NaN     NaN       NaN             0   \n",
       "1900-01-01 16:15:00      NaN       NaN     NaN       NaN             0   \n",
       "1900-01-01 16:20:00  201.590  201.5900  201.59  201.5900             0   \n",
       "\n",
       "                     log returns  \n",
       "Date_Time                         \n",
       "1900-01-01 09:35:00    -0.006300  \n",
       "1900-01-01 09:40:00    -0.004295  \n",
       "1900-01-01 09:45:00    -0.001906  \n",
       "1900-01-01 09:50:00    -0.001364  \n",
       "1900-01-01 09:55:00     0.000496  \n",
       "...                          ...  \n",
       "1900-01-01 16:00:00     0.000943  \n",
       "1900-01-01 16:05:00     0.000099  \n",
       "1900-01-01 16:10:00          NaN  \n",
       "1900-01-01 16:15:00          NaN  \n",
       "1900-01-01 16:20:00     0.000000  \n",
       "\n",
       "[82 rows x 6 columns]"
      ]
     },
     "execution_count": 13,
     "metadata": {},
     "output_type": "execute_result"
    }
   ],
   "source": [
    "AAPL_5Minbars"
   ]
  },
  {
   "cell_type": "code",
   "execution_count": 21,
   "metadata": {},
   "outputs": [
    {
     "data": {
      "text/plain": [
       "556717"
      ]
     },
     "execution_count": 21,
     "metadata": {},
     "output_type": "execute_result"
    }
   ],
   "source": [
    "len(AAPL_timeindex)"
   ]
  },
  {
   "cell_type": "code",
   "execution_count": 14,
   "metadata": {},
   "outputs": [
    {
     "data": {
      "text/plain": [
       "<matplotlib.axes._subplots.AxesSubplot at 0x7f9cf0770358>"
      ]
     },
     "execution_count": 14,
     "metadata": {},
     "output_type": "execute_result"
    },
    {
     "data": {
      "image/png": "[encoded data removed]",
      "text/plain": [
       "<Figure size 432x288 with 1 Axes>"
      ]
     },
     "metadata": {
      "needs_background": "light"
     },
     "output_type": "display_data"
    }
   ],
   "source": [
    "FD_histogram(AAPL_5Minbars)"
   ]
  },
  {
   "cell_type": "code",
   "execution_count": 15,
   "metadata": {},
   "outputs": [
    {
     "data": {
      "text/plain": [
       "<matplotlib.axes._subplots.AxesSubplot at 0x7f9d00fafd68>"
      ]
     },
     "execution_count": 15,
     "metadata": {},
     "output_type": "execute_result"
    },
    {
     "data": {
      "image/png": "[encoded data removed]",
      "text/plain": [
       "<Figure size 432x288 with 1 Axes>"
      ]
     },
     "metadata": {
      "needs_background": "light"
     },
     "output_type": "display_data"
    }
   ],
   "source": [
    "FD_histogram(AAPL_5Minbars,field='log returns')"
   ]
  },
  {
   "cell_type": "code",
   "execution_count": 16,
   "metadata": {},
   "outputs": [
    {
     "data": {
      "image/png": "[encoded data removed]",
      "text/plain": [
       "<Figure size 432x288 with 1 Axes>"
      ]
     },
     "metadata": {
      "needs_background": "light"
     },
     "output_type": "display_data"
    }
   ],
   "source": [
    "qq_plot(AAPL_5Minbars)"
   ]
  },
  {
   "cell_type": "code",
   "execution_count": 17,
   "metadata": {},
   "outputs": [
    {
     "data": {
      "image/png": "[encoded data removed]",
      "text/plain": [
       "<Figure size 432x288 with 1 Axes>"
      ]
     },
     "metadata": {
      "needs_background": "light"
     },
     "output_type": "display_data"
    }
   ],
   "source": [
    "qq_plot(AAPL_5Minbars,field='log returns')"
   ]
  },
  {
   "cell_type": "code",
   "execution_count": 18,
   "metadata": {},
   "outputs": [
    {
     "data": {
      "image/png": "[encoded data removed]",
      "text/plain": [
       "<Figure size 432x288 with 1 Axes>"
      ]
     },
     "metadata": {
      "needs_background": "light"
     },
     "output_type": "display_data"
    }
   ],
   "source": [
    "auto_corr(AAPL_5Minbars)"
   ]
  },
  {
   "cell_type": "code",
   "execution_count": 19,
   "metadata": {},
   "outputs": [
    {
     "data": {
      "image/png": "[encoded data removed]",
      "text/plain": [
       "<Figure size 432x288 with 1 Axes>"
      ]
     },
     "metadata": {
      "needs_background": "light"
     },
     "output_type": "display_data"
    }
   ],
   "source": [
    "auto_corr(AAPL_5Minbars,field='log returns')"
   ]
  },
  {
   "cell_type": "code",
   "execution_count": 22,
   "metadata": {},
   "outputs": [],
   "source": [
    "AAPL_30Secbars = bs.process_time_bars(AAPL_timeindex,frequency='30S')"
   ]
  },
  {
   "cell_type": "code",
   "execution_count": 23,
   "metadata": {},
   "outputs": [
    {
     "data": {
      "text/html": [
       "<div>\n",
       "<style scoped>\n",
       "    .dataframe tbody tr th:only-of-type {\n",
       "        vertical-align: middle;\n",
       "    }\n",
       "\n",
       "    .dataframe tbody tr th {\n",
       "        vertical-align: top;\n",
       "    }\n",
       "\n",
       "    .dataframe thead th {\n",
       "        text-align: right;\n",
       "    }\n",
       "</style>\n",
       "<table border=\"1\" class=\"dataframe\">\n",
       "  <thead>\n",
       "    <tr style=\"text-align: right;\">\n",
       "      <th></th>\n",
       "      <th>open</th>\n",
       "      <th>high</th>\n",
       "      <th>low</th>\n",
       "      <th>close</th>\n",
       "      <th>Trade Volume</th>\n",
       "      <th>log returns</th>\n",
       "    </tr>\n",
       "    <tr>\n",
       "      <th>Date_Time</th>\n",
       "      <th></th>\n",
       "      <th></th>\n",
       "      <th></th>\n",
       "      <th></th>\n",
       "      <th></th>\n",
       "      <th></th>\n",
       "    </tr>\n",
       "  </thead>\n",
       "  <tbody>\n",
       "    <tr>\n",
       "      <th>1900-01-01 09:30:30</th>\n",
       "      <td>204.39</td>\n",
       "      <td>204.39</td>\n",
       "      <td>203.02</td>\n",
       "      <td>203.4600</td>\n",
       "      <td>991438</td>\n",
       "      <td>-0.004561</td>\n",
       "    </tr>\n",
       "    <tr>\n",
       "      <th>1900-01-01 09:31:00</th>\n",
       "      <td>203.45</td>\n",
       "      <td>204.39</td>\n",
       "      <td>203.13</td>\n",
       "      <td>203.2400</td>\n",
       "      <td>337024</td>\n",
       "      <td>-0.001033</td>\n",
       "    </tr>\n",
       "    <tr>\n",
       "      <th>1900-01-01 09:31:30</th>\n",
       "      <td>203.26</td>\n",
       "      <td>204.39</td>\n",
       "      <td>202.28</td>\n",
       "      <td>202.7097</td>\n",
       "      <td>524355</td>\n",
       "      <td>-0.002711</td>\n",
       "    </tr>\n",
       "    <tr>\n",
       "      <th>1900-01-01 09:32:00</th>\n",
       "      <td>202.69</td>\n",
       "      <td>204.39</td>\n",
       "      <td>202.30</td>\n",
       "      <td>202.4532</td>\n",
       "      <td>233685</td>\n",
       "      <td>-0.001169</td>\n",
       "    </tr>\n",
       "    <tr>\n",
       "      <th>1900-01-01 09:32:30</th>\n",
       "      <td>202.49</td>\n",
       "      <td>204.39</td>\n",
       "      <td>202.11</td>\n",
       "      <td>202.2800</td>\n",
       "      <td>373968</td>\n",
       "      <td>-0.001038</td>\n",
       "    </tr>\n",
       "    <tr>\n",
       "      <th>...</th>\n",
       "      <td>...</td>\n",
       "      <td>...</td>\n",
       "      <td>...</td>\n",
       "      <td>...</td>\n",
       "      <td>...</td>\n",
       "      <td>...</td>\n",
       "    </tr>\n",
       "    <tr>\n",
       "      <th>1900-01-01 16:13:30</th>\n",
       "      <td>NaN</td>\n",
       "      <td>NaN</td>\n",
       "      <td>NaN</td>\n",
       "      <td>NaN</td>\n",
       "      <td>0</td>\n",
       "      <td>NaN</td>\n",
       "    </tr>\n",
       "    <tr>\n",
       "      <th>1900-01-01 16:14:00</th>\n",
       "      <td>NaN</td>\n",
       "      <td>NaN</td>\n",
       "      <td>NaN</td>\n",
       "      <td>NaN</td>\n",
       "      <td>0</td>\n",
       "      <td>NaN</td>\n",
       "    </tr>\n",
       "    <tr>\n",
       "      <th>1900-01-01 16:14:30</th>\n",
       "      <td>NaN</td>\n",
       "      <td>NaN</td>\n",
       "      <td>NaN</td>\n",
       "      <td>NaN</td>\n",
       "      <td>0</td>\n",
       "      <td>NaN</td>\n",
       "    </tr>\n",
       "    <tr>\n",
       "      <th>1900-01-01 16:15:00</th>\n",
       "      <td>NaN</td>\n",
       "      <td>NaN</td>\n",
       "      <td>NaN</td>\n",
       "      <td>NaN</td>\n",
       "      <td>0</td>\n",
       "      <td>NaN</td>\n",
       "    </tr>\n",
       "    <tr>\n",
       "      <th>1900-01-01 16:15:30</th>\n",
       "      <td>201.59</td>\n",
       "      <td>201.59</td>\n",
       "      <td>201.59</td>\n",
       "      <td>201.5900</td>\n",
       "      <td>0</td>\n",
       "      <td>0.000000</td>\n",
       "    </tr>\n",
       "  </tbody>\n",
       "</table>\n",
       "<p>811 rows × 6 columns</p>\n",
       "</div>"
      ],
      "text/plain": [
       "                       open    high     low     close  Trade Volume  \\\n",
       "Date_Time                                                             \n",
       "1900-01-01 09:30:30  204.39  204.39  203.02  203.4600        991438   \n",
       "1900-01-01 09:31:00  203.45  204.39  203.13  203.2400        337024   \n",
       "1900-01-01 09:31:30  203.26  204.39  202.28  202.7097        524355   \n",
       "1900-01-01 09:32:00  202.69  204.39  202.30  202.4532        233685   \n",
       "1900-01-01 09:32:30  202.49  204.39  202.11  202.2800        373968   \n",
       "...                     ...     ...     ...       ...           ...   \n",
       "1900-01-01 16:13:30     NaN     NaN     NaN       NaN             0   \n",
       "1900-01-01 16:14:00     NaN     NaN     NaN       NaN             0   \n",
       "1900-01-01 16:14:30     NaN     NaN     NaN       NaN             0   \n",
       "1900-01-01 16:15:00     NaN     NaN     NaN       NaN             0   \n",
       "1900-01-01 16:15:30  201.59  201.59  201.59  201.5900             0   \n",
       "\n",
       "                     log returns  \n",
       "Date_Time                         \n",
       "1900-01-01 09:30:30    -0.004561  \n",
       "1900-01-01 09:31:00    -0.001033  \n",
       "1900-01-01 09:31:30    -0.002711  \n",
       "1900-01-01 09:32:00    -0.001169  \n",
       "1900-01-01 09:32:30    -0.001038  \n",
       "...                          ...  \n",
       "1900-01-01 16:13:30          NaN  \n",
       "1900-01-01 16:14:00          NaN  \n",
       "1900-01-01 16:14:30          NaN  \n",
       "1900-01-01 16:15:00          NaN  \n",
       "1900-01-01 16:15:30     0.000000  \n",
       "\n",
       "[811 rows x 6 columns]"
      ]
     },
     "execution_count": 23,
     "metadata": {},
     "output_type": "execute_result"
    }
   ],
   "source": [
    "AAPL_30Secbars = get_log_return(AAPL_30Secbars)\n",
    "AAPL_30Secbars"
   ]
  },
  {
   "cell_type": "code",
   "execution_count": 24,
   "metadata": {},
   "outputs": [
    {
     "data": {
      "text/plain": [
       "<matplotlib.axes._subplots.AxesSubplot at 0x7f9cf097ec18>"
      ]
     },
     "execution_count": 24,
     "metadata": {},
     "output_type": "execute_result"
    },
    {
     "data": {
      "image/png": "[encoded data removed]",
      "text/plain": [
       "<Figure size 432x288 with 1 Axes>"
      ]
     },
     "metadata": {
      "needs_background": "light"
     },
     "output_type": "display_data"
    }
   ],
   "source": [
    "FD_histogram(AAPL_30Secbars)"
   ]
  },
  {
   "cell_type": "code",
   "execution_count": 25,
   "metadata": {},
   "outputs": [
    {
     "data": {
      "text/plain": [
       "<matplotlib.axes._subplots.AxesSubplot at 0x7f9cd8a380b8>"
      ]
     },
     "execution_count": 25,
     "metadata": {},
     "output_type": "execute_result"
    },
    {
     "data": {
      "image/png": "[encoded data removed]",
      "text/plain": [
       "<Figure size 432x288 with 1 Axes>"
      ]
     },
     "metadata": {
      "needs_background": "light"
     },
     "output_type": "display_data"
    }
   ],
   "source": [
    "FD_histogram(AAPL_30Secbars,field='log returns')"
   ]
  },
  {
   "cell_type": "code",
   "execution_count": 26,
   "metadata": {},
   "outputs": [
    {
     "data": {
      "image/png": "[encoded data removed]",
      "text/plain": [
       "<Figure size 432x288 with 1 Axes>"
      ]
     },
     "metadata": {
      "needs_background": "light"
     },
     "output_type": "display_data"
    }
   ],
   "source": [
    "qq_plot(AAPL_30Secbars)"
   ]
  },
  {
   "cell_type": "code",
   "execution_count": 27,
   "metadata": {},
   "outputs": [
    {
     "data": {
      "image/png": "[encoded data removed]",
      "text/plain": [
       "<Figure size 432x288 with 1 Axes>"
      ]
     },
     "metadata": {
      "needs_background": "light"
     },
     "output_type": "display_data"
    }
   ],
   "source": [
    "qq_plot(AAPL_30Secbars,field='log returns')"
   ]
  },
  {
   "cell_type": "code",
   "execution_count": 28,
   "metadata": {},
   "outputs": [
    {
     "data": {
      "image/png": "[encoded data removed]",
      "text/plain": [
       "<Figure size 432x288 with 1 Axes>"
      ]
     },
     "metadata": {
      "needs_background": "light"
     },
     "output_type": "display_data"
    }
   ],
   "source": [
    "auto_corr(AAPL_30Secbars)"
   ]
  },
  {
   "cell_type": "code",
   "execution_count": 29,
   "metadata": {},
   "outputs": [
    {
     "data": {
      "image/png": "[encoded data removed]",
      "text/plain": [
       "<Figure size 432x288 with 1 Axes>"
      ]
     },
     "metadata": {
      "needs_background": "light"
     },
     "output_type": "display_data"
    }
   ],
   "source": [
    "auto_corr(AAPL_30Secbars,field='log returns')"
   ]
  },
  {
   "cell_type": "code",
   "execution_count": 30,
   "metadata": {},
   "outputs": [
    {
     "data": {
      "text/html": [
       "<div>\n",
       "<style scoped>\n",
       "    .dataframe tbody tr th:only-of-type {\n",
       "        vertical-align: middle;\n",
       "    }\n",
       "\n",
       "    .dataframe tbody tr th {\n",
       "        vertical-align: top;\n",
       "    }\n",
       "\n",
       "    .dataframe thead th {\n",
       "        text-align: right;\n",
       "    }\n",
       "</style>\n",
       "<table border=\"1\" class=\"dataframe\">\n",
       "  <thead>\n",
       "    <tr style=\"text-align: right;\">\n",
       "      <th></th>\n",
       "      <th>open</th>\n",
       "      <th>high</th>\n",
       "      <th>low</th>\n",
       "      <th>close</th>\n",
       "      <th>volume</th>\n",
       "    </tr>\n",
       "    <tr>\n",
       "      <th>Date_Time</th>\n",
       "      <th></th>\n",
       "      <th></th>\n",
       "      <th></th>\n",
       "      <th></th>\n",
       "      <th></th>\n",
       "    </tr>\n",
       "  </thead>\n",
       "  <tbody>\n",
       "    <tr>\n",
       "      <th>1900-01-01 09:30:02.323630103</th>\n",
       "      <td>204.3900</td>\n",
       "      <td>204.39</td>\n",
       "      <td>203.920</td>\n",
       "      <td>203.980</td>\n",
       "      <td>215460</td>\n",
       "    </tr>\n",
       "    <tr>\n",
       "      <th>1900-01-01 09:30:04.617693097</th>\n",
       "      <td>203.9600</td>\n",
       "      <td>204.39</td>\n",
       "      <td>203.590</td>\n",
       "      <td>203.700</td>\n",
       "      <td>157369</td>\n",
       "    </tr>\n",
       "    <tr>\n",
       "      <th>1900-01-01 09:30:09.881172719</th>\n",
       "      <td>203.6800</td>\n",
       "      <td>204.39</td>\n",
       "      <td>203.180</td>\n",
       "      <td>203.220</td>\n",
       "      <td>237522</td>\n",
       "    </tr>\n",
       "    <tr>\n",
       "      <th>1900-01-01 09:30:19.329567104</th>\n",
       "      <td>203.2300</td>\n",
       "      <td>204.39</td>\n",
       "      <td>203.020</td>\n",
       "      <td>203.390</td>\n",
       "      <td>241846</td>\n",
       "    </tr>\n",
       "    <tr>\n",
       "      <th>1900-01-01 09:30:38.905320890</th>\n",
       "      <td>203.3800</td>\n",
       "      <td>204.39</td>\n",
       "      <td>203.065</td>\n",
       "      <td>203.560</td>\n",
       "      <td>266270</td>\n",
       "    </tr>\n",
       "    <tr>\n",
       "      <th>...</th>\n",
       "      <td>...</td>\n",
       "      <td>...</td>\n",
       "      <td>...</td>\n",
       "      <td>...</td>\n",
       "      <td>...</td>\n",
       "    </tr>\n",
       "    <tr>\n",
       "      <th>1900-01-01 15:56:37.981100577</th>\n",
       "      <td>201.5900</td>\n",
       "      <td>201.68</td>\n",
       "      <td>201.470</td>\n",
       "      <td>201.560</td>\n",
       "      <td>204678</td>\n",
       "    </tr>\n",
       "    <tr>\n",
       "      <th>1900-01-01 15:57:44.633899042</th>\n",
       "      <td>201.5600</td>\n",
       "      <td>201.66</td>\n",
       "      <td>201.500</td>\n",
       "      <td>201.520</td>\n",
       "      <td>208753</td>\n",
       "    </tr>\n",
       "    <tr>\n",
       "      <th>1900-01-01 15:58:24.064348503</th>\n",
       "      <td>201.5200</td>\n",
       "      <td>201.56</td>\n",
       "      <td>201.310</td>\n",
       "      <td>201.350</td>\n",
       "      <td>212847</td>\n",
       "    </tr>\n",
       "    <tr>\n",
       "      <th>1900-01-01 15:59:24.383766579</th>\n",
       "      <td>201.3499</td>\n",
       "      <td>201.49</td>\n",
       "      <td>201.340</td>\n",
       "      <td>201.405</td>\n",
       "      <td>209398</td>\n",
       "    </tr>\n",
       "    <tr>\n",
       "      <th>1900-01-01 15:59:55.177611293</th>\n",
       "      <td>201.4100</td>\n",
       "      <td>201.56</td>\n",
       "      <td>201.290</td>\n",
       "      <td>201.340</td>\n",
       "      <td>221062</td>\n",
       "    </tr>\n",
       "  </tbody>\n",
       "</table>\n",
       "<p>278 rows × 5 columns</p>\n",
       "</div>"
      ],
      "text/plain": [
       "                                   open    high      low    close  volume\n",
       "Date_Time                                                                \n",
       "1900-01-01 09:30:02.323630103  204.3900  204.39  203.920  203.980  215460\n",
       "1900-01-01 09:30:04.617693097  203.9600  204.39  203.590  203.700  157369\n",
       "1900-01-01 09:30:09.881172719  203.6800  204.39  203.180  203.220  237522\n",
       "1900-01-01 09:30:19.329567104  203.2300  204.39  203.020  203.390  241846\n",
       "1900-01-01 09:30:38.905320890  203.3800  204.39  203.065  203.560  266270\n",
       "...                                 ...     ...      ...      ...     ...\n",
       "1900-01-01 15:56:37.981100577  201.5900  201.68  201.470  201.560  204678\n",
       "1900-01-01 15:57:44.633899042  201.5600  201.66  201.500  201.520  208753\n",
       "1900-01-01 15:58:24.064348503  201.5200  201.56  201.310  201.350  212847\n",
       "1900-01-01 15:59:24.383766579  201.3499  201.49  201.340  201.405  209398\n",
       "1900-01-01 15:59:55.177611293  201.4100  201.56  201.290  201.340  221062\n",
       "\n",
       "[278 rows x 5 columns]"
      ]
     },
     "execution_count": 30,
     "metadata": {},
     "output_type": "execute_result"
    }
   ],
   "source": [
    "AAPL_2KTickBars = bs.process_tick_bars(AAPL_timeindex,2000)\n",
    "AAPL_2KTickBars"
   ]
  },
  {
   "cell_type": "code",
   "execution_count": 31,
   "metadata": {},
   "outputs": [
    {
     "data": {
      "text/html": [
       "<div>\n",
       "<style scoped>\n",
       "    .dataframe tbody tr th:only-of-type {\n",
       "        vertical-align: middle;\n",
       "    }\n",
       "\n",
       "    .dataframe tbody tr th {\n",
       "        vertical-align: top;\n",
       "    }\n",
       "\n",
       "    .dataframe thead th {\n",
       "        text-align: right;\n",
       "    }\n",
       "</style>\n",
       "<table border=\"1\" class=\"dataframe\">\n",
       "  <thead>\n",
       "    <tr style=\"text-align: right;\">\n",
       "      <th></th>\n",
       "      <th>open</th>\n",
       "      <th>high</th>\n",
       "      <th>low</th>\n",
       "      <th>close</th>\n",
       "      <th>volume</th>\n",
       "      <th>log returns</th>\n",
       "    </tr>\n",
       "    <tr>\n",
       "      <th>Date_Time</th>\n",
       "      <th></th>\n",
       "      <th></th>\n",
       "      <th></th>\n",
       "      <th></th>\n",
       "      <th></th>\n",
       "      <th></th>\n",
       "    </tr>\n",
       "  </thead>\n",
       "  <tbody>\n",
       "    <tr>\n",
       "      <th>1900-01-01 09:30:02.323630103</th>\n",
       "      <td>204.3900</td>\n",
       "      <td>204.39</td>\n",
       "      <td>203.920</td>\n",
       "      <td>203.980</td>\n",
       "      <td>215460</td>\n",
       "      <td>-0.002008</td>\n",
       "    </tr>\n",
       "    <tr>\n",
       "      <th>1900-01-01 09:30:04.617693097</th>\n",
       "      <td>203.9600</td>\n",
       "      <td>204.39</td>\n",
       "      <td>203.590</td>\n",
       "      <td>203.700</td>\n",
       "      <td>157369</td>\n",
       "      <td>-0.001276</td>\n",
       "    </tr>\n",
       "    <tr>\n",
       "      <th>1900-01-01 09:30:09.881172719</th>\n",
       "      <td>203.6800</td>\n",
       "      <td>204.39</td>\n",
       "      <td>203.180</td>\n",
       "      <td>203.220</td>\n",
       "      <td>237522</td>\n",
       "      <td>-0.002261</td>\n",
       "    </tr>\n",
       "    <tr>\n",
       "      <th>1900-01-01 09:30:19.329567104</th>\n",
       "      <td>203.2300</td>\n",
       "      <td>204.39</td>\n",
       "      <td>203.020</td>\n",
       "      <td>203.390</td>\n",
       "      <td>241846</td>\n",
       "      <td>0.000787</td>\n",
       "    </tr>\n",
       "    <tr>\n",
       "      <th>1900-01-01 09:30:38.905320890</th>\n",
       "      <td>203.3800</td>\n",
       "      <td>204.39</td>\n",
       "      <td>203.065</td>\n",
       "      <td>203.560</td>\n",
       "      <td>266270</td>\n",
       "      <td>0.000885</td>\n",
       "    </tr>\n",
       "    <tr>\n",
       "      <th>...</th>\n",
       "      <td>...</td>\n",
       "      <td>...</td>\n",
       "      <td>...</td>\n",
       "      <td>...</td>\n",
       "      <td>...</td>\n",
       "      <td>...</td>\n",
       "    </tr>\n",
       "    <tr>\n",
       "      <th>1900-01-01 15:56:37.981100577</th>\n",
       "      <td>201.5900</td>\n",
       "      <td>201.68</td>\n",
       "      <td>201.470</td>\n",
       "      <td>201.560</td>\n",
       "      <td>204678</td>\n",
       "      <td>-0.000149</td>\n",
       "    </tr>\n",
       "    <tr>\n",
       "      <th>1900-01-01 15:57:44.633899042</th>\n",
       "      <td>201.5600</td>\n",
       "      <td>201.66</td>\n",
       "      <td>201.500</td>\n",
       "      <td>201.520</td>\n",
       "      <td>208753</td>\n",
       "      <td>-0.000198</td>\n",
       "    </tr>\n",
       "    <tr>\n",
       "      <th>1900-01-01 15:58:24.064348503</th>\n",
       "      <td>201.5200</td>\n",
       "      <td>201.56</td>\n",
       "      <td>201.310</td>\n",
       "      <td>201.350</td>\n",
       "      <td>212847</td>\n",
       "      <td>-0.000844</td>\n",
       "    </tr>\n",
       "    <tr>\n",
       "      <th>1900-01-01 15:59:24.383766579</th>\n",
       "      <td>201.3499</td>\n",
       "      <td>201.49</td>\n",
       "      <td>201.340</td>\n",
       "      <td>201.405</td>\n",
       "      <td>209398</td>\n",
       "      <td>0.000274</td>\n",
       "    </tr>\n",
       "    <tr>\n",
       "      <th>1900-01-01 15:59:55.177611293</th>\n",
       "      <td>201.4100</td>\n",
       "      <td>201.56</td>\n",
       "      <td>201.290</td>\n",
       "      <td>201.340</td>\n",
       "      <td>221062</td>\n",
       "      <td>-0.000348</td>\n",
       "    </tr>\n",
       "  </tbody>\n",
       "</table>\n",
       "<p>278 rows × 6 columns</p>\n",
       "</div>"
      ],
      "text/plain": [
       "                                   open    high      low    close  volume  \\\n",
       "Date_Time                                                                   \n",
       "1900-01-01 09:30:02.323630103  204.3900  204.39  203.920  203.980  215460   \n",
       "1900-01-01 09:30:04.617693097  203.9600  204.39  203.590  203.700  157369   \n",
       "1900-01-01 09:30:09.881172719  203.6800  204.39  203.180  203.220  237522   \n",
       "1900-01-01 09:30:19.329567104  203.2300  204.39  203.020  203.390  241846   \n",
       "1900-01-01 09:30:38.905320890  203.3800  204.39  203.065  203.560  266270   \n",
       "...                                 ...     ...      ...      ...     ...   \n",
       "1900-01-01 15:56:37.981100577  201.5900  201.68  201.470  201.560  204678   \n",
       "1900-01-01 15:57:44.633899042  201.5600  201.66  201.500  201.520  208753   \n",
       "1900-01-01 15:58:24.064348503  201.5200  201.56  201.310  201.350  212847   \n",
       "1900-01-01 15:59:24.383766579  201.3499  201.49  201.340  201.405  209398   \n",
       "1900-01-01 15:59:55.177611293  201.4100  201.56  201.290  201.340  221062   \n",
       "\n",
       "                               log returns  \n",
       "Date_Time                                   \n",
       "1900-01-01 09:30:02.323630103    -0.002008  \n",
       "1900-01-01 09:30:04.617693097    -0.001276  \n",
       "1900-01-01 09:30:09.881172719    -0.002261  \n",
       "1900-01-01 09:30:19.329567104     0.000787  \n",
       "1900-01-01 09:30:38.905320890     0.000885  \n",
       "...                                    ...  \n",
       "1900-01-01 15:56:37.981100577    -0.000149  \n",
       "1900-01-01 15:57:44.633899042    -0.000198  \n",
       "1900-01-01 15:58:24.064348503    -0.000844  \n",
       "1900-01-01 15:59:24.383766579     0.000274  \n",
       "1900-01-01 15:59:55.177611293    -0.000348  \n",
       "\n",
       "[278 rows x 6 columns]"
      ]
     },
     "execution_count": 31,
     "metadata": {},
     "output_type": "execute_result"
    }
   ],
   "source": [
    "AAPL_2KTickBars = get_log_return(AAPL_2KTickBars)\n",
    "AAPL_2KTickBars"
   ]
  },
  {
   "cell_type": "code",
   "execution_count": 32,
   "metadata": {},
   "outputs": [
    {
     "data": {
      "text/plain": [
       "<matplotlib.axes._subplots.AxesSubplot at 0x7f9cc03a0240>"
      ]
     },
     "execution_count": 32,
     "metadata": {},
     "output_type": "execute_result"
    },
    {
     "data": {
      "image/png": "[encoded data removed]",
      "text/plain": [
       "<Figure size 432x288 with 1 Axes>"
      ]
     },
     "metadata": {
      "needs_background": "light"
     },
     "output_type": "display_data"
    }
   ],
   "source": [
    "FD_histogram(AAPL_2KTickBars)"
   ]
  },
  {
   "cell_type": "code",
   "execution_count": 33,
   "metadata": {},
   "outputs": [
    {
     "data": {
      "text/plain": [
       "<matplotlib.axes._subplots.AxesSubplot at 0x7f9cf0dc8278>"
      ]
     },
     "execution_count": 33,
     "metadata": {},
     "output_type": "execute_result"
    },
    {
     "data": {
      "image/png": "[encoded data removed]",
      "text/plain": [
       "<Figure size 432x288 with 1 Axes>"
      ]
     },
     "metadata": {
      "needs_background": "light"
     },
     "output_type": "display_data"
    }
   ],
   "source": [
    "FD_histogram(AAPL_2KTickBars,field='log returns')"
   ]
  },
  {
   "cell_type": "code",
   "execution_count": 34,
   "metadata": {},
   "outputs": [
    {
     "data": {
      "image/png": "[encoded data removed]",
      "text/plain": [
       "<Figure size 432x288 with 1 Axes>"
      ]
     },
     "metadata": {
      "needs_background": "light"
     },
     "output_type": "display_data"
    }
   ],
   "source": [
    "qq_plot(AAPL_2KTickBars)"
   ]
  },
  {
   "cell_type": "code",
   "execution_count": 35,
   "metadata": {},
   "outputs": [
    {
     "data": {
      "image/png": "[encoded data removed]",
      "text/plain": [
       "<Figure size 432x288 with 1 Axes>"
      ]
     },
     "metadata": {
      "needs_background": "light"
     },
     "output_type": "display_data"
    }
   ],
   "source": [
    "qq_plot(AAPL_2KTickBars,field='log returns')"
   ]
  },
  {
   "cell_type": "code",
   "execution_count": 36,
   "metadata": {},
   "outputs": [
    {
     "data": {
      "image/png": "[encoded data removed]",
      "text/plain": [
       "<Figure size 432x288 with 1 Axes>"
      ]
     },
     "metadata": {
      "needs_background": "light"
     },
     "output_type": "display_data"
    }
   ],
   "source": [
    "auto_corr(AAPL_2KTickBars)"
   ]
  },
  {
   "cell_type": "code",
   "execution_count": 37,
   "metadata": {},
   "outputs": [
    {
     "data": {
      "image/png": "[encoded data removed]",
      "text/plain": [
       "<Figure size 432x288 with 1 Axes>"
      ]
     },
     "metadata": {
      "needs_background": "light"
     },
     "output_type": "display_data"
    }
   ],
   "source": [
    "auto_corr(AAPL_2KTickBars,field='log returns')"
   ]
  },
  {
   "cell_type": "code",
   "execution_count": 38,
   "metadata": {},
   "outputs": [
    {
     "data": {
      "text/html": [
       "<div>\n",
       "<style scoped>\n",
       "    .dataframe tbody tr th:only-of-type {\n",
       "        vertical-align: middle;\n",
       "    }\n",
       "\n",
       "    .dataframe tbody tr th {\n",
       "        vertical-align: top;\n",
       "    }\n",
       "\n",
       "    .dataframe thead th {\n",
       "        text-align: right;\n",
       "    }\n",
       "</style>\n",
       "<table border=\"1\" class=\"dataframe\">\n",
       "  <thead>\n",
       "    <tr style=\"text-align: right;\">\n",
       "      <th></th>\n",
       "      <th>open</th>\n",
       "      <th>high</th>\n",
       "      <th>low</th>\n",
       "      <th>close</th>\n",
       "      <th>volume</th>\n",
       "    </tr>\n",
       "    <tr>\n",
       "      <th>Date_Time</th>\n",
       "      <th></th>\n",
       "      <th></th>\n",
       "      <th></th>\n",
       "      <th></th>\n",
       "      <th></th>\n",
       "    </tr>\n",
       "  </thead>\n",
       "  <tbody>\n",
       "    <tr>\n",
       "      <th>1900-01-01 09:30:01.164475915</th>\n",
       "      <td>204.3900</td>\n",
       "      <td>204.39</td>\n",
       "      <td>203.92</td>\n",
       "      <td>204.1700</td>\n",
       "      <td>100006.0</td>\n",
       "    </tr>\n",
       "    <tr>\n",
       "      <th>1900-01-01 09:30:02.137931029</th>\n",
       "      <td>204.1000</td>\n",
       "      <td>204.39</td>\n",
       "      <td>203.99</td>\n",
       "      <td>204.0000</td>\n",
       "      <td>102607.0</td>\n",
       "    </tr>\n",
       "    <tr>\n",
       "      <th>1900-01-01 09:30:03.417981672</th>\n",
       "      <td>204.0000</td>\n",
       "      <td>204.39</td>\n",
       "      <td>203.79</td>\n",
       "      <td>204.1700</td>\n",
       "      <td>100418.0</td>\n",
       "    </tr>\n",
       "    <tr>\n",
       "      <th>1900-01-01 09:30:05.548371358</th>\n",
       "      <td>203.7900</td>\n",
       "      <td>204.39</td>\n",
       "      <td>203.53</td>\n",
       "      <td>203.8701</td>\n",
       "      <td>100220.0</td>\n",
       "    </tr>\n",
       "    <tr>\n",
       "      <th>1900-01-01 09:30:07.196569852</th>\n",
       "      <td>203.9599</td>\n",
       "      <td>204.39</td>\n",
       "      <td>203.48</td>\n",
       "      <td>203.4800</td>\n",
       "      <td>100400.0</td>\n",
       "    </tr>\n",
       "  </tbody>\n",
       "</table>\n",
       "</div>"
      ],
      "text/plain": [
       "                                   open    high     low     close    volume\n",
       "Date_Time                                                                  \n",
       "1900-01-01 09:30:01.164475915  204.3900  204.39  203.92  204.1700  100006.0\n",
       "1900-01-01 09:30:02.137931029  204.1000  204.39  203.99  204.0000  102607.0\n",
       "1900-01-01 09:30:03.417981672  204.0000  204.39  203.79  204.1700  100418.0\n",
       "1900-01-01 09:30:05.548371358  203.7900  204.39  203.53  203.8701  100220.0\n",
       "1900-01-01 09:30:07.196569852  203.9599  204.39  203.48  203.4800  100400.0"
      ]
     },
     "execution_count": 38,
     "metadata": {},
     "output_type": "execute_result"
    }
   ],
   "source": [
    "AAPL_100Kvolbars = bs.process_volume_bars(AAPL_timeindex,100000)\n",
    "AAPL_100Kvolbars.head()"
   ]
  },
  {
   "cell_type": "code",
   "execution_count": 39,
   "metadata": {},
   "outputs": [
    {
     "data": {
      "text/html": [
       "<div>\n",
       "<style scoped>\n",
       "    .dataframe tbody tr th:only-of-type {\n",
       "        vertical-align: middle;\n",
       "    }\n",
       "\n",
       "    .dataframe tbody tr th {\n",
       "        vertical-align: top;\n",
       "    }\n",
       "\n",
       "    .dataframe thead th {\n",
       "        text-align: right;\n",
       "    }\n",
       "</style>\n",
       "<table border=\"1\" class=\"dataframe\">\n",
       "  <thead>\n",
       "    <tr style=\"text-align: right;\">\n",
       "      <th></th>\n",
       "      <th>open</th>\n",
       "      <th>high</th>\n",
       "      <th>low</th>\n",
       "      <th>close</th>\n",
       "      <th>volume</th>\n",
       "      <th>log returns</th>\n",
       "    </tr>\n",
       "    <tr>\n",
       "      <th>Date_Time</th>\n",
       "      <th></th>\n",
       "      <th></th>\n",
       "      <th></th>\n",
       "      <th></th>\n",
       "      <th></th>\n",
       "      <th></th>\n",
       "    </tr>\n",
       "  </thead>\n",
       "  <tbody>\n",
       "    <tr>\n",
       "      <th>1900-01-01 09:30:01.164475915</th>\n",
       "      <td>204.3900</td>\n",
       "      <td>204.39</td>\n",
       "      <td>203.92</td>\n",
       "      <td>204.1700</td>\n",
       "      <td>100006.0</td>\n",
       "      <td>-0.001077</td>\n",
       "    </tr>\n",
       "    <tr>\n",
       "      <th>1900-01-01 09:30:02.137931029</th>\n",
       "      <td>204.1000</td>\n",
       "      <td>204.39</td>\n",
       "      <td>203.99</td>\n",
       "      <td>204.0000</td>\n",
       "      <td>102607.0</td>\n",
       "      <td>-0.000490</td>\n",
       "    </tr>\n",
       "    <tr>\n",
       "      <th>1900-01-01 09:30:03.417981672</th>\n",
       "      <td>204.0000</td>\n",
       "      <td>204.39</td>\n",
       "      <td>203.79</td>\n",
       "      <td>204.1700</td>\n",
       "      <td>100418.0</td>\n",
       "      <td>0.000833</td>\n",
       "    </tr>\n",
       "    <tr>\n",
       "      <th>1900-01-01 09:30:05.548371358</th>\n",
       "      <td>203.7900</td>\n",
       "      <td>204.39</td>\n",
       "      <td>203.53</td>\n",
       "      <td>203.8701</td>\n",
       "      <td>100220.0</td>\n",
       "      <td>0.000393</td>\n",
       "    </tr>\n",
       "    <tr>\n",
       "      <th>1900-01-01 09:30:07.196569852</th>\n",
       "      <td>203.9599</td>\n",
       "      <td>204.39</td>\n",
       "      <td>203.48</td>\n",
       "      <td>203.4800</td>\n",
       "      <td>100400.0</td>\n",
       "      <td>-0.002356</td>\n",
       "    </tr>\n",
       "    <tr>\n",
       "      <th>...</th>\n",
       "      <td>...</td>\n",
       "      <td>...</td>\n",
       "      <td>...</td>\n",
       "      <td>...</td>\n",
       "      <td>...</td>\n",
       "      <td>...</td>\n",
       "    </tr>\n",
       "    <tr>\n",
       "      <th>1900-01-01 15:59:12.820004377</th>\n",
       "      <td>201.4100</td>\n",
       "      <td>201.49</td>\n",
       "      <td>201.39</td>\n",
       "      <td>201.4300</td>\n",
       "      <td>100529.0</td>\n",
       "      <td>0.000099</td>\n",
       "    </tr>\n",
       "    <tr>\n",
       "      <th>1900-01-01 15:59:33.149158448</th>\n",
       "      <td>201.4300</td>\n",
       "      <td>201.50</td>\n",
       "      <td>201.39</td>\n",
       "      <td>201.4900</td>\n",
       "      <td>100001.0</td>\n",
       "      <td>0.000298</td>\n",
       "    </tr>\n",
       "    <tr>\n",
       "      <th>1900-01-01 15:59:48.220311995</th>\n",
       "      <td>201.4800</td>\n",
       "      <td>201.53</td>\n",
       "      <td>201.44</td>\n",
       "      <td>201.5300</td>\n",
       "      <td>100192.0</td>\n",
       "      <td>0.000248</td>\n",
       "    </tr>\n",
       "    <tr>\n",
       "      <th>1900-01-01 15:59:58.615691540</th>\n",
       "      <td>201.5400</td>\n",
       "      <td>201.56</td>\n",
       "      <td>201.29</td>\n",
       "      <td>201.4400</td>\n",
       "      <td>100114.0</td>\n",
       "      <td>-0.000496</td>\n",
       "    </tr>\n",
       "    <tr>\n",
       "      <th>1900-01-01 15:59:59.831218677</th>\n",
       "      <td>201.4400</td>\n",
       "      <td>201.65</td>\n",
       "      <td>201.33</td>\n",
       "      <td>201.6500</td>\n",
       "      <td>100549.0</td>\n",
       "      <td>0.001042</td>\n",
       "    </tr>\n",
       "  </tbody>\n",
       "</table>\n",
       "<p>595 rows × 6 columns</p>\n",
       "</div>"
      ],
      "text/plain": [
       "                                   open    high     low     close    volume  \\\n",
       "Date_Time                                                                     \n",
       "1900-01-01 09:30:01.164475915  204.3900  204.39  203.92  204.1700  100006.0   \n",
       "1900-01-01 09:30:02.137931029  204.1000  204.39  203.99  204.0000  102607.0   \n",
       "1900-01-01 09:30:03.417981672  204.0000  204.39  203.79  204.1700  100418.0   \n",
       "1900-01-01 09:30:05.548371358  203.7900  204.39  203.53  203.8701  100220.0   \n",
       "1900-01-01 09:30:07.196569852  203.9599  204.39  203.48  203.4800  100400.0   \n",
       "...                                 ...     ...     ...       ...       ...   \n",
       "1900-01-01 15:59:12.820004377  201.4100  201.49  201.39  201.4300  100529.0   \n",
       "1900-01-01 15:59:33.149158448  201.4300  201.50  201.39  201.4900  100001.0   \n",
       "1900-01-01 15:59:48.220311995  201.4800  201.53  201.44  201.5300  100192.0   \n",
       "1900-01-01 15:59:58.615691540  201.5400  201.56  201.29  201.4400  100114.0   \n",
       "1900-01-01 15:59:59.831218677  201.4400  201.65  201.33  201.6500  100549.0   \n",
       "\n",
       "                               log returns  \n",
       "Date_Time                                   \n",
       "1900-01-01 09:30:01.164475915    -0.001077  \n",
       "1900-01-01 09:30:02.137931029    -0.000490  \n",
       "1900-01-01 09:30:03.417981672     0.000833  \n",
       "1900-01-01 09:30:05.548371358     0.000393  \n",
       "1900-01-01 09:30:07.196569852    -0.002356  \n",
       "...                                    ...  \n",
       "1900-01-01 15:59:12.820004377     0.000099  \n",
       "1900-01-01 15:59:33.149158448     0.000298  \n",
       "1900-01-01 15:59:48.220311995     0.000248  \n",
       "1900-01-01 15:59:58.615691540    -0.000496  \n",
       "1900-01-01 15:59:59.831218677     0.001042  \n",
       "\n",
       "[595 rows x 6 columns]"
      ]
     },
     "execution_count": 39,
     "metadata": {},
     "output_type": "execute_result"
    }
   ],
   "source": [
    "AAPL_100Kvolbars = get_log_return(AAPL_100Kvolbars)\n",
    "AAPL_100Kvolbars"
   ]
  },
  {
   "cell_type": "code",
   "execution_count": 40,
   "metadata": {},
   "outputs": [
    {
     "data": {
      "text/plain": [
       "<matplotlib.axes._subplots.AxesSubplot at 0x7f9ce0dc0da0>"
      ]
     },
     "execution_count": 40,
     "metadata": {},
     "output_type": "execute_result"
    },
    {
     "data": {
      "image/png": "[encoded data removed]",
      "text/plain": [
       "<Figure size 432x288 with 1 Axes>"
      ]
     },
     "metadata": {
      "needs_background": "light"
     },
     "output_type": "display_data"
    }
   ],
   "source": [
    "FD_histogram(AAPL_100Kvolbars)"
   ]
  },
  {
   "cell_type": "code",
   "execution_count": 41,
   "metadata": {},
   "outputs": [
    {
     "data": {
      "text/plain": [
       "<matplotlib.axes._subplots.AxesSubplot at 0x7f9cc02f92e8>"
      ]
     },
     "execution_count": 41,
     "metadata": {},
     "output_type": "execute_result"
    },
    {
     "data": {
      "image/png": "[encoded data removed]",
      "text/plain": [
       "<Figure size 432x288 with 1 Axes>"
      ]
     },
     "metadata": {
      "needs_background": "light"
     },
     "output_type": "display_data"
    }
   ],
   "source": [
    "FD_histogram(AAPL_100Kvolbars,field='log returns')"
   ]
  },
  {
   "cell_type": "code",
   "execution_count": 42,
   "metadata": {
    "scrolled": true
   },
   "outputs": [
    {
     "data": {
      "image/png": "[encoded data removed]",
      "text/plain": [
       "<Figure size 432x288 with 1 Axes>"
      ]
     },
     "metadata": {
      "needs_background": "light"
     },
     "output_type": "display_data"
    }
   ],
   "source": [
    "auto_corr(AAPL_100Kvolbars)"
   ]
  },
  {
   "cell_type": "code",
   "execution_count": 43,
   "metadata": {
    "scrolled": true
   },
   "outputs": [
    {
     "data": {
      "image/png": "[encoded data removed]",
      "text/plain": [
       "<Figure size 432x288 with 1 Axes>"
      ]
     },
     "metadata": {
      "needs_background": "light"
     },
     "output_type": "display_data"
    }
   ],
   "source": [
    "auto_corr(AAPL_100Kvolbars,field='log returns')"
   ]
  },
  {
   "cell_type": "code",
   "execution_count": 44,
   "metadata": {},
   "outputs": [
    {
     "data": {
      "image/png": "[encoded data removed]",
      "text/plain": [
       "<Figure size 432x288 with 1 Axes>"
      ]
     },
     "metadata": {
      "needs_background": "light"
     },
     "output_type": "display_data"
    }
   ],
   "source": [
    "qq_plot(AAPL_100Kvolbars)"
   ]
  },
  {
   "cell_type": "code",
   "execution_count": 45,
   "metadata": {},
   "outputs": [
    {
     "data": {
      "image/png": "[encoded data removed]",
      "text/plain": [
       "<Figure size 432x288 with 1 Axes>"
      ]
     },
     "metadata": {
      "needs_background": "light"
     },
     "output_type": "display_data"
    }
   ],
   "source": [
    "qq_plot(AAPL_100Kvolbars,field='log returns')"
   ]
  },
  {
   "cell_type": "code",
   "execution_count": 46,
   "metadata": {},
   "outputs": [
    {
     "data": {
      "text/html": [
       "<div>\n",
       "<style scoped>\n",
       "    .dataframe tbody tr th:only-of-type {\n",
       "        vertical-align: middle;\n",
       "    }\n",
       "\n",
       "    .dataframe tbody tr th {\n",
       "        vertical-align: top;\n",
       "    }\n",
       "\n",
       "    .dataframe thead th {\n",
       "        text-align: right;\n",
       "    }\n",
       "</style>\n",
       "<table border=\"1\" class=\"dataframe\">\n",
       "  <thead>\n",
       "    <tr style=\"text-align: right;\">\n",
       "      <th></th>\n",
       "      <th>open</th>\n",
       "      <th>high</th>\n",
       "      <th>low</th>\n",
       "      <th>close</th>\n",
       "      <th>volume</th>\n",
       "      <th>log returns</th>\n",
       "    </tr>\n",
       "    <tr>\n",
       "      <th>Date_Time</th>\n",
       "      <th></th>\n",
       "      <th></th>\n",
       "      <th></th>\n",
       "      <th></th>\n",
       "      <th></th>\n",
       "      <th></th>\n",
       "    </tr>\n",
       "  </thead>\n",
       "  <tbody>\n",
       "    <tr>\n",
       "      <th>1900-01-01 11:16:16.754698901</th>\n",
       "      <td>200.63</td>\n",
       "      <td>200.77</td>\n",
       "      <td>199.0</td>\n",
       "      <td>199.0</td>\n",
       "      <td>101592.0</td>\n",
       "      <td>-0.008158</td>\n",
       "    </tr>\n",
       "  </tbody>\n",
       "</table>\n",
       "</div>"
      ],
      "text/plain": [
       "                                 open    high    low  close    volume  \\\n",
       "Date_Time                                                               \n",
       "1900-01-01 11:16:16.754698901  200.63  200.77  199.0  199.0  101592.0   \n",
       "\n",
       "                               log returns  \n",
       "Date_Time                                   \n",
       "1900-01-01 11:16:16.754698901    -0.008158  "
      ]
     },
     "execution_count": 46,
     "metadata": {},
     "output_type": "execute_result"
    }
   ],
   "source": [
    "AAPL_100Kvolbars[AAPL_100Kvolbars['log returns'] == AAPL_100Kvolbars['log returns'].min()]"
   ]
  },
  {
   "cell_type": "code",
   "execution_count": 47,
   "metadata": {},
   "outputs": [],
   "source": [
    "mask = (AAPL_timeindex.index > pd.to_datetime('1900-01-01 11:16:14.7546989')) & (AAPL_timeindex.index < pd.to_datetime('1900-01-01 11:16:16.7746989'))"
   ]
  },
  {
   "cell_type": "code",
   "execution_count": 48,
   "metadata": {},
   "outputs": [
    {
     "data": {
      "text/plain": [
       "array([False, False, False, ..., False, False, False])"
      ]
     },
     "execution_count": 48,
     "metadata": {},
     "output_type": "execute_result"
    }
   ],
   "source": [
    "mask"
   ]
  },
  {
   "cell_type": "code",
   "execution_count": 49,
   "metadata": {},
   "outputs": [
    {
     "data": {
      "text/html": [
       "<div>\n",
       "<style scoped>\n",
       "    .dataframe tbody tr th:only-of-type {\n",
       "        vertical-align: middle;\n",
       "    }\n",
       "\n",
       "    .dataframe tbody tr th {\n",
       "        vertical-align: top;\n",
       "    }\n",
       "\n",
       "    .dataframe thead th {\n",
       "        text-align: right;\n",
       "    }\n",
       "</style>\n",
       "<table border=\"1\" class=\"dataframe\">\n",
       "  <thead>\n",
       "    <tr style=\"text-align: right;\">\n",
       "      <th></th>\n",
       "      <th>Symbol</th>\n",
       "      <th>Trade Volume</th>\n",
       "      <th>Trade Price</th>\n",
       "      <th>Sale Condition</th>\n",
       "      <th>Trade Correction Indicator</th>\n",
       "    </tr>\n",
       "    <tr>\n",
       "      <th>Date_Time</th>\n",
       "      <th></th>\n",
       "      <th></th>\n",
       "      <th></th>\n",
       "      <th></th>\n",
       "      <th></th>\n",
       "    </tr>\n",
       "  </thead>\n",
       "  <tbody>\n",
       "    <tr>\n",
       "      <th>1900-01-01 11:16:15.412926127</th>\n",
       "      <td>AAPL</td>\n",
       "      <td>50</td>\n",
       "      <td>200.6775</td>\n",
       "      <td>@  I</td>\n",
       "      <td>0</td>\n",
       "    </tr>\n",
       "    <tr>\n",
       "      <th>1900-01-01 11:16:15.931481264</th>\n",
       "      <td>AAPL</td>\n",
       "      <td>100</td>\n",
       "      <td>200.6600</td>\n",
       "      <td>@</td>\n",
       "      <td>0</td>\n",
       "    </tr>\n",
       "    <tr>\n",
       "      <th>1900-01-01 11:16:16.578688234</th>\n",
       "      <td>AAPL</td>\n",
       "      <td>1000</td>\n",
       "      <td>200.6725</td>\n",
       "      <td>@</td>\n",
       "      <td>0</td>\n",
       "    </tr>\n",
       "    <tr>\n",
       "      <th>1900-01-01 11:16:16.695124126</th>\n",
       "      <td>AAPL</td>\n",
       "      <td>5</td>\n",
       "      <td>200.6798</td>\n",
       "      <td>@  I</td>\n",
       "      <td>0</td>\n",
       "    </tr>\n",
       "    <tr>\n",
       "      <th>1900-01-01 11:16:16.754698901</th>\n",
       "      <td>AAPL</td>\n",
       "      <td>15528</td>\n",
       "      <td>199.0000</td>\n",
       "      <td>@7 V</td>\n",
       "      <td>0</td>\n",
       "    </tr>\n",
       "    <tr>\n",
       "      <th>1900-01-01 11:16:16.764250426</th>\n",
       "      <td>AAPL</td>\n",
       "      <td>1</td>\n",
       "      <td>200.6700</td>\n",
       "      <td>@  I</td>\n",
       "      <td>0</td>\n",
       "    </tr>\n",
       "    <tr>\n",
       "      <th>1900-01-01 11:16:16.774021534</th>\n",
       "      <td>AAPL</td>\n",
       "      <td>53</td>\n",
       "      <td>200.6679</td>\n",
       "      <td>@  I</td>\n",
       "      <td>0</td>\n",
       "    </tr>\n",
       "  </tbody>\n",
       "</table>\n",
       "</div>"
      ],
      "text/plain": [
       "                              Symbol  Trade Volume  Trade Price  \\\n",
       "Date_Time                                                         \n",
       "1900-01-01 11:16:15.412926127   AAPL            50     200.6775   \n",
       "1900-01-01 11:16:15.931481264   AAPL           100     200.6600   \n",
       "1900-01-01 11:16:16.578688234   AAPL          1000     200.6725   \n",
       "1900-01-01 11:16:16.695124126   AAPL             5     200.6798   \n",
       "1900-01-01 11:16:16.754698901   AAPL         15528     199.0000   \n",
       "1900-01-01 11:16:16.764250426   AAPL             1     200.6700   \n",
       "1900-01-01 11:16:16.774021534   AAPL            53     200.6679   \n",
       "\n",
       "                              Sale Condition  Trade Correction Indicator  \n",
       "Date_Time                                                                 \n",
       "1900-01-01 11:16:15.412926127           @  I                           0  \n",
       "1900-01-01 11:16:15.931481264           @                              0  \n",
       "1900-01-01 11:16:16.578688234           @                              0  \n",
       "1900-01-01 11:16:16.695124126           @  I                           0  \n",
       "1900-01-01 11:16:16.754698901           @7 V                           0  \n",
       "1900-01-01 11:16:16.764250426           @  I                           0  \n",
       "1900-01-01 11:16:16.774021534           @  I                           0  "
      ]
     },
     "execution_count": 49,
     "metadata": {},
     "output_type": "execute_result"
    }
   ],
   "source": [
    "AAPL_timeindex.loc[mask]"
   ]
  },
  {
   "cell_type": "code",
   "execution_count": 50,
   "metadata": {},
   "outputs": [
    {
     "data": {
      "text/html": [
       "<div>\n",
       "<style scoped>\n",
       "    .dataframe tbody tr th:only-of-type {\n",
       "        vertical-align: middle;\n",
       "    }\n",
       "\n",
       "    .dataframe tbody tr th {\n",
       "        vertical-align: top;\n",
       "    }\n",
       "\n",
       "    .dataframe thead th {\n",
       "        text-align: right;\n",
       "    }\n",
       "</style>\n",
       "<table border=\"1\" class=\"dataframe\">\n",
       "  <thead>\n",
       "    <tr style=\"text-align: right;\">\n",
       "      <th></th>\n",
       "      <th>Symbol</th>\n",
       "      <th>Trade Volume</th>\n",
       "      <th>Trade Price</th>\n",
       "      <th>Sale Condition</th>\n",
       "      <th>Trade Correction Indicator</th>\n",
       "    </tr>\n",
       "    <tr>\n",
       "      <th>Date_Time</th>\n",
       "      <th></th>\n",
       "      <th></th>\n",
       "      <th></th>\n",
       "      <th></th>\n",
       "      <th></th>\n",
       "    </tr>\n",
       "  </thead>\n",
       "  <tbody>\n",
       "    <tr>\n",
       "      <th>1900-01-01 11:30:44.089609245</th>\n",
       "      <td>AAPL</td>\n",
       "      <td>5</td>\n",
       "      <td>200.8300</td>\n",
       "      <td>@7 I</td>\n",
       "      <td>0</td>\n",
       "    </tr>\n",
       "    <tr>\n",
       "      <th>1900-01-01 12:53:56.257769886</th>\n",
       "      <td>AAPL</td>\n",
       "      <td>36</td>\n",
       "      <td>200.0556</td>\n",
       "      <td>@7 I</td>\n",
       "      <td>0</td>\n",
       "    </tr>\n",
       "    <tr>\n",
       "      <th>1900-01-01 12:53:55.998496410</th>\n",
       "      <td>AAPL</td>\n",
       "      <td>36</td>\n",
       "      <td>200.0556</td>\n",
       "      <td>@7 I</td>\n",
       "      <td>0</td>\n",
       "    </tr>\n",
       "    <tr>\n",
       "      <th>1900-01-01 12:54:26.842606951</th>\n",
       "      <td>AAPL</td>\n",
       "      <td>36</td>\n",
       "      <td>200.0000</td>\n",
       "      <td>@7 I</td>\n",
       "      <td>0</td>\n",
       "    </tr>\n",
       "    <tr>\n",
       "      <th>1900-01-01 12:53:33.448625679</th>\n",
       "      <td>AAPL</td>\n",
       "      <td>36</td>\n",
       "      <td>200.0556</td>\n",
       "      <td>@7 I</td>\n",
       "      <td>0</td>\n",
       "    </tr>\n",
       "    <tr>\n",
       "      <th>...</th>\n",
       "      <td>...</td>\n",
       "      <td>...</td>\n",
       "      <td>...</td>\n",
       "      <td>...</td>\n",
       "      <td>...</td>\n",
       "    </tr>\n",
       "    <tr>\n",
       "      <th>1900-01-01 15:48:53.527380677</th>\n",
       "      <td>AAPL</td>\n",
       "      <td>31000</td>\n",
       "      <td>201.1010</td>\n",
       "      <td>@7 W</td>\n",
       "      <td>0</td>\n",
       "    </tr>\n",
       "    <tr>\n",
       "      <th>1900-01-01 13:29:05.514574160</th>\n",
       "      <td>AAPL</td>\n",
       "      <td>33750</td>\n",
       "      <td>199.7967</td>\n",
       "      <td>@7 W</td>\n",
       "      <td>0</td>\n",
       "    </tr>\n",
       "    <tr>\n",
       "      <th>1900-01-01 15:35:15.808114576</th>\n",
       "      <td>AAPL</td>\n",
       "      <td>34000</td>\n",
       "      <td>201.3500</td>\n",
       "      <td>@7 W</td>\n",
       "      <td>0</td>\n",
       "    </tr>\n",
       "    <tr>\n",
       "      <th>1900-01-01 15:24:18.048660814</th>\n",
       "      <td>AAPL</td>\n",
       "      <td>46500</td>\n",
       "      <td>201.0000</td>\n",
       "      <td>@7 W</td>\n",
       "      <td>0</td>\n",
       "    </tr>\n",
       "    <tr>\n",
       "      <th>1900-01-01 14:08:28.413115884</th>\n",
       "      <td>AAPL</td>\n",
       "      <td>60000</td>\n",
       "      <td>200.9667</td>\n",
       "      <td>@7 W</td>\n",
       "      <td>0</td>\n",
       "    </tr>\n",
       "  </tbody>\n",
       "</table>\n",
       "<p>218 rows × 5 columns</p>\n",
       "</div>"
      ],
      "text/plain": [
       "                              Symbol  Trade Volume  Trade Price  \\\n",
       "Date_Time                                                         \n",
       "1900-01-01 11:30:44.089609245   AAPL             5     200.8300   \n",
       "1900-01-01 12:53:56.257769886   AAPL            36     200.0556   \n",
       "1900-01-01 12:53:55.998496410   AAPL            36     200.0556   \n",
       "1900-01-01 12:54:26.842606951   AAPL            36     200.0000   \n",
       "1900-01-01 12:53:33.448625679   AAPL            36     200.0556   \n",
       "...                              ...           ...          ...   \n",
       "1900-01-01 15:48:53.527380677   AAPL         31000     201.1010   \n",
       "1900-01-01 13:29:05.514574160   AAPL         33750     199.7967   \n",
       "1900-01-01 15:35:15.808114576   AAPL         34000     201.3500   \n",
       "1900-01-01 15:24:18.048660814   AAPL         46500     201.0000   \n",
       "1900-01-01 14:08:28.413115884   AAPL         60000     200.9667   \n",
       "\n",
       "                              Sale Condition  Trade Correction Indicator  \n",
       "Date_Time                                                                 \n",
       "1900-01-01 11:30:44.089609245           @7 I                           0  \n",
       "1900-01-01 12:53:56.257769886           @7 I                           0  \n",
       "1900-01-01 12:53:55.998496410           @7 I                           0  \n",
       "1900-01-01 12:54:26.842606951           @7 I                           0  \n",
       "1900-01-01 12:53:33.448625679           @7 I                           0  \n",
       "...                                      ...                         ...  \n",
       "1900-01-01 15:48:53.527380677           @7 W                           0  \n",
       "1900-01-01 13:29:05.514574160           @7 W                           0  \n",
       "1900-01-01 15:35:15.808114576           @7 W                           0  \n",
       "1900-01-01 15:24:18.048660814           @7 W                           0  \n",
       "1900-01-01 14:08:28.413115884           @7 W                           0  \n",
       "\n",
       "[218 rows x 5 columns]"
      ]
     },
     "execution_count": 50,
     "metadata": {},
     "output_type": "execute_result"
    }
   ],
   "source": [
    "AAPL_timeindex[AAPL_timeindex['Sale Condition'].str.contains('7')].sort_values(by=['Trade Volume'])"
   ]
  },
  {
   "cell_type": "code",
   "execution_count": 51,
   "metadata": {},
   "outputs": [],
   "source": [
    "outlier_buffer = AAPL_timeindex[~AAPL_timeindex['Sale Condition'].str.contains('7')]"
   ]
  },
  {
   "cell_type": "code",
   "execution_count": 52,
   "metadata": {},
   "outputs": [
    {
     "data": {
      "text/html": [
       "<div>\n",
       "<style scoped>\n",
       "    .dataframe tbody tr th:only-of-type {\n",
       "        vertical-align: middle;\n",
       "    }\n",
       "\n",
       "    .dataframe tbody tr th {\n",
       "        vertical-align: top;\n",
       "    }\n",
       "\n",
       "    .dataframe thead th {\n",
       "        text-align: right;\n",
       "    }\n",
       "</style>\n",
       "<table border=\"1\" class=\"dataframe\">\n",
       "  <thead>\n",
       "    <tr style=\"text-align: right;\">\n",
       "      <th></th>\n",
       "      <th>open</th>\n",
       "      <th>high</th>\n",
       "      <th>low</th>\n",
       "      <th>close</th>\n",
       "      <th>volume</th>\n",
       "      <th>log returns</th>\n",
       "    </tr>\n",
       "    <tr>\n",
       "      <th>Date_Time</th>\n",
       "      <th></th>\n",
       "      <th></th>\n",
       "      <th></th>\n",
       "      <th></th>\n",
       "      <th></th>\n",
       "      <th></th>\n",
       "    </tr>\n",
       "  </thead>\n",
       "  <tbody>\n",
       "    <tr>\n",
       "      <th>1900-01-01 09:30:01.164475915</th>\n",
       "      <td>204.3900</td>\n",
       "      <td>204.39</td>\n",
       "      <td>203.92</td>\n",
       "      <td>204.1700</td>\n",
       "      <td>100006.0</td>\n",
       "      <td>-0.001077</td>\n",
       "    </tr>\n",
       "    <tr>\n",
       "      <th>1900-01-01 09:30:02.137931029</th>\n",
       "      <td>204.1000</td>\n",
       "      <td>204.39</td>\n",
       "      <td>203.99</td>\n",
       "      <td>204.0000</td>\n",
       "      <td>101607.0</td>\n",
       "      <td>-0.000490</td>\n",
       "    </tr>\n",
       "    <tr>\n",
       "      <th>1900-01-01 09:30:03.417981672</th>\n",
       "      <td>204.0000</td>\n",
       "      <td>204.39</td>\n",
       "      <td>203.79</td>\n",
       "      <td>204.1700</td>\n",
       "      <td>100418.0</td>\n",
       "      <td>0.000833</td>\n",
       "    </tr>\n",
       "    <tr>\n",
       "      <th>1900-01-01 09:30:05.548371358</th>\n",
       "      <td>203.7900</td>\n",
       "      <td>204.39</td>\n",
       "      <td>203.53</td>\n",
       "      <td>203.8701</td>\n",
       "      <td>100220.0</td>\n",
       "      <td>0.000393</td>\n",
       "    </tr>\n",
       "    <tr>\n",
       "      <th>1900-01-01 09:30:07.196569852</th>\n",
       "      <td>203.9599</td>\n",
       "      <td>204.39</td>\n",
       "      <td>203.48</td>\n",
       "      <td>203.4800</td>\n",
       "      <td>100400.0</td>\n",
       "      <td>-0.002356</td>\n",
       "    </tr>\n",
       "    <tr>\n",
       "      <th>...</th>\n",
       "      <td>...</td>\n",
       "      <td>...</td>\n",
       "      <td>...</td>\n",
       "      <td>...</td>\n",
       "      <td>...</td>\n",
       "      <td>...</td>\n",
       "    </tr>\n",
       "    <tr>\n",
       "      <th>1900-01-01 15:59:25.027841772</th>\n",
       "      <td>201.4400</td>\n",
       "      <td>201.46</td>\n",
       "      <td>201.39</td>\n",
       "      <td>201.4100</td>\n",
       "      <td>100031.0</td>\n",
       "      <td>-0.000149</td>\n",
       "    </tr>\n",
       "    <tr>\n",
       "      <th>1900-01-01 15:59:41.009473005</th>\n",
       "      <td>201.4100</td>\n",
       "      <td>201.50</td>\n",
       "      <td>201.39</td>\n",
       "      <td>201.4700</td>\n",
       "      <td>100210.0</td>\n",
       "      <td>0.000298</td>\n",
       "    </tr>\n",
       "    <tr>\n",
       "      <th>1900-01-01 15:59:55.056886555</th>\n",
       "      <td>201.4700</td>\n",
       "      <td>201.56</td>\n",
       "      <td>201.42</td>\n",
       "      <td>201.4200</td>\n",
       "      <td>100051.0</td>\n",
       "      <td>-0.000248</td>\n",
       "    </tr>\n",
       "    <tr>\n",
       "      <th>1900-01-01 15:59:59.318291947</th>\n",
       "      <td>201.4200</td>\n",
       "      <td>201.54</td>\n",
       "      <td>201.29</td>\n",
       "      <td>201.5400</td>\n",
       "      <td>100051.0</td>\n",
       "      <td>0.000596</td>\n",
       "    </tr>\n",
       "    <tr>\n",
       "      <th>1900-01-01 16:00:00.246734134</th>\n",
       "      <td>201.5400</td>\n",
       "      <td>201.89</td>\n",
       "      <td>201.44</td>\n",
       "      <td>201.5700</td>\n",
       "      <td>100051.0</td>\n",
       "      <td>0.000149</td>\n",
       "    </tr>\n",
       "  </tbody>\n",
       "</table>\n",
       "<p>591 rows × 6 columns</p>\n",
       "</div>"
      ],
      "text/plain": [
       "                                   open    high     low     close    volume  \\\n",
       "Date_Time                                                                     \n",
       "1900-01-01 09:30:01.164475915  204.3900  204.39  203.92  204.1700  100006.0   \n",
       "1900-01-01 09:30:02.137931029  204.1000  204.39  203.99  204.0000  101607.0   \n",
       "1900-01-01 09:30:03.417981672  204.0000  204.39  203.79  204.1700  100418.0   \n",
       "1900-01-01 09:30:05.548371358  203.7900  204.39  203.53  203.8701  100220.0   \n",
       "1900-01-01 09:30:07.196569852  203.9599  204.39  203.48  203.4800  100400.0   \n",
       "...                                 ...     ...     ...       ...       ...   \n",
       "1900-01-01 15:59:25.027841772  201.4400  201.46  201.39  201.4100  100031.0   \n",
       "1900-01-01 15:59:41.009473005  201.4100  201.50  201.39  201.4700  100210.0   \n",
       "1900-01-01 15:59:55.056886555  201.4700  201.56  201.42  201.4200  100051.0   \n",
       "1900-01-01 15:59:59.318291947  201.4200  201.54  201.29  201.5400  100051.0   \n",
       "1900-01-01 16:00:00.246734134  201.5400  201.89  201.44  201.5700  100051.0   \n",
       "\n",
       "                               log returns  \n",
       "Date_Time                                   \n",
       "1900-01-01 09:30:01.164475915    -0.001077  \n",
       "1900-01-01 09:30:02.137931029    -0.000490  \n",
       "1900-01-01 09:30:03.417981672     0.000833  \n",
       "1900-01-01 09:30:05.548371358     0.000393  \n",
       "1900-01-01 09:30:07.196569852    -0.002356  \n",
       "...                                    ...  \n",
       "1900-01-01 15:59:25.027841772    -0.000149  \n",
       "1900-01-01 15:59:41.009473005     0.000298  \n",
       "1900-01-01 15:59:55.056886555    -0.000248  \n",
       "1900-01-01 15:59:59.318291947     0.000596  \n",
       "1900-01-01 16:00:00.246734134     0.000149  \n",
       "\n",
       "[591 rows x 6 columns]"
      ]
     },
     "execution_count": 52,
     "metadata": {},
     "output_type": "execute_result"
    }
   ],
   "source": [
    "AAPL_100Kvolbars = bs.process_volume_bars(outlier_buffer,100000)\n",
    "AAPL_100Kvolbars = get_log_return(AAPL_100Kvolbars)\n",
    "AAPL_100Kvolbars"
   ]
  },
  {
   "cell_type": "code",
   "execution_count": 53,
   "metadata": {},
   "outputs": [
    {
     "data": {
      "text/plain": [
       "<matplotlib.axes._subplots.AxesSubplot at 0x7f9ce0ecccf8>"
      ]
     },
     "execution_count": 53,
     "metadata": {},
     "output_type": "execute_result"
    },
    {
     "data": {
      "image/png": "[encoded data removed]",
      "text/plain": [
       "<Figure size 432x288 with 1 Axes>"
      ]
     },
     "metadata": {
      "needs_background": "light"
     },
     "output_type": "display_data"
    }
   ],
   "source": [
    "FD_histogram(AAPL_100Kvolbars,field='log returns')"
   ]
  },
  {
   "cell_type": "code",
   "execution_count": 54,
   "metadata": {},
   "outputs": [
    {
     "data": {
      "image/png": "[encoded data removed]",
      "text/plain": [
       "<Figure size 432x288 with 1 Axes>"
      ]
     },
     "metadata": {
      "needs_background": "light"
     },
     "output_type": "display_data"
    }
   ],
   "source": [
    "qq_plot(AAPL_100Kvolbars,field='log returns')"
   ]
  },
  {
   "cell_type": "code",
   "execution_count": 55,
   "metadata": {},
   "outputs": [
    {
     "data": {
      "image/png": "[encoded data removed]",
      "text/plain": [
       "<Figure size 432x288 with 1 Axes>"
      ]
     },
     "metadata": {
      "needs_background": "light"
     },
     "output_type": "display_data"
    }
   ],
   "source": [
    "auto_corr(AAPL_100Kvolbars,field='log returns')"
   ]
  },
  {
   "cell_type": "code",
   "execution_count": 56,
   "metadata": {},
   "outputs": [
    {
     "data": {
      "text/html": [
       "<div>\n",
       "<style scoped>\n",
       "    .dataframe tbody tr th:only-of-type {\n",
       "        vertical-align: middle;\n",
       "    }\n",
       "\n",
       "    .dataframe tbody tr th {\n",
       "        vertical-align: top;\n",
       "    }\n",
       "\n",
       "    .dataframe thead th {\n",
       "        text-align: right;\n",
       "    }\n",
       "</style>\n",
       "<table border=\"1\" class=\"dataframe\">\n",
       "  <thead>\n",
       "    <tr style=\"text-align: right;\">\n",
       "      <th></th>\n",
       "      <th>log returns</th>\n",
       "    </tr>\n",
       "  </thead>\n",
       "  <tbody>\n",
       "    <tr>\n",
       "      <th>mean</th>\n",
       "      <td>-0.000028</td>\n",
       "    </tr>\n",
       "    <tr>\n",
       "      <th>median</th>\n",
       "      <td>-0.000007</td>\n",
       "    </tr>\n",
       "    <tr>\n",
       "      <th>std</th>\n",
       "      <td>0.000801</td>\n",
       "    </tr>\n",
       "    <tr>\n",
       "      <th>skew</th>\n",
       "      <td>-0.075421</td>\n",
       "    </tr>\n",
       "    <tr>\n",
       "      <th>kurt</th>\n",
       "      <td>0.608593</td>\n",
       "    </tr>\n",
       "  </tbody>\n",
       "</table>\n",
       "</div>"
      ],
      "text/plain": [
       "        log returns\n",
       "mean      -0.000028\n",
       "median    -0.000007\n",
       "std        0.000801\n",
       "skew      -0.075421\n",
       "kurt       0.608593"
      ]
     },
     "execution_count": 56,
     "metadata": {},
     "output_type": "execute_result"
    }
   ],
   "source": [
    "AAPL_100Kvolbars.agg({'log returns':['mean','median','std','skew','kurt']})"
   ]
  },
  {
   "cell_type": "code",
   "execution_count": 57,
   "metadata": {},
   "outputs": [
    {
     "data": {
      "text/html": [
       "<div>\n",
       "<style scoped>\n",
       "    .dataframe tbody tr th:only-of-type {\n",
       "        vertical-align: middle;\n",
       "    }\n",
       "\n",
       "    .dataframe tbody tr th {\n",
       "        vertical-align: top;\n",
       "    }\n",
       "\n",
       "    .dataframe thead th {\n",
       "        text-align: right;\n",
       "    }\n",
       "</style>\n",
       "<table border=\"1\" class=\"dataframe\">\n",
       "  <thead>\n",
       "    <tr style=\"text-align: right;\">\n",
       "      <th></th>\n",
       "      <th>open</th>\n",
       "      <th>high</th>\n",
       "      <th>low</th>\n",
       "      <th>close</th>\n",
       "      <th>volume</th>\n",
       "      <th>dollar</th>\n",
       "    </tr>\n",
       "    <tr>\n",
       "      <th>Date_Time</th>\n",
       "      <th></th>\n",
       "      <th></th>\n",
       "      <th></th>\n",
       "      <th></th>\n",
       "      <th></th>\n",
       "      <th></th>\n",
       "    </tr>\n",
       "  </thead>\n",
       "  <tbody>\n",
       "    <tr>\n",
       "      <th>1900-01-01 09:30:01.155351817</th>\n",
       "      <td>204.39</td>\n",
       "      <td>204.39</td>\n",
       "      <td>203.92</td>\n",
       "      <td>204.09</td>\n",
       "      <td>98041</td>\n",
       "      <td>2.002384e+07</td>\n",
       "    </tr>\n",
       "    <tr>\n",
       "      <th>1900-01-01 09:30:02.136358342</th>\n",
       "      <td>204.10</td>\n",
       "      <td>204.39</td>\n",
       "      <td>203.99</td>\n",
       "      <td>204.00</td>\n",
       "      <td>98057</td>\n",
       "      <td>2.000682e+07</td>\n",
       "    </tr>\n",
       "    <tr>\n",
       "      <th>1900-01-01 09:30:03.297633205</th>\n",
       "      <td>204.00</td>\n",
       "      <td>204.39</td>\n",
       "      <td>203.80</td>\n",
       "      <td>203.88</td>\n",
       "      <td>98093</td>\n",
       "      <td>2.000491e+07</td>\n",
       "    </tr>\n",
       "    <tr>\n",
       "      <th>1900-01-01 09:30:05.246775144</th>\n",
       "      <td>203.85</td>\n",
       "      <td>204.39</td>\n",
       "      <td>203.59</td>\n",
       "      <td>203.70</td>\n",
       "      <td>98274</td>\n",
       "      <td>2.002360e+07</td>\n",
       "    </tr>\n",
       "    <tr>\n",
       "      <th>1900-01-01 09:30:07.017477833</th>\n",
       "      <td>204.17</td>\n",
       "      <td>204.39</td>\n",
       "      <td>203.50</td>\n",
       "      <td>203.50</td>\n",
       "      <td>98876</td>\n",
       "      <td>2.013158e+07</td>\n",
       "    </tr>\n",
       "  </tbody>\n",
       "</table>\n",
       "</div>"
      ],
      "text/plain": [
       "                                 open    high     low   close  volume  \\\n",
       "Date_Time                                                               \n",
       "1900-01-01 09:30:01.155351817  204.39  204.39  203.92  204.09   98041   \n",
       "1900-01-01 09:30:02.136358342  204.10  204.39  203.99  204.00   98057   \n",
       "1900-01-01 09:30:03.297633205  204.00  204.39  203.80  203.88   98093   \n",
       "1900-01-01 09:30:05.246775144  203.85  204.39  203.59  203.70   98274   \n",
       "1900-01-01 09:30:07.017477833  204.17  204.39  203.50  203.50   98876   \n",
       "\n",
       "                                     dollar  \n",
       "Date_Time                                    \n",
       "1900-01-01 09:30:01.155351817  2.002384e+07  \n",
       "1900-01-01 09:30:02.136358342  2.000682e+07  \n",
       "1900-01-01 09:30:03.297633205  2.000491e+07  \n",
       "1900-01-01 09:30:05.246775144  2.002360e+07  \n",
       "1900-01-01 09:30:07.017477833  2.013158e+07  "
      ]
     },
     "execution_count": 57,
     "metadata": {},
     "output_type": "execute_result"
    }
   ],
   "source": [
    "AAPL_200Kdollarbars = bs.process_dollar_bars(AAPL_timeindex,20000000)\n",
    "AAPL_200Kdollarbars.head()"
   ]
  },
  {
   "cell_type": "code",
   "execution_count": 58,
   "metadata": {},
   "outputs": [],
   "source": [
    "AAPL_200Kdollarbars = get_log_return(AAPL_200Kdollarbars)"
   ]
  },
  {
   "cell_type": "code",
   "execution_count": 59,
   "metadata": {},
   "outputs": [
    {
     "data": {
      "text/plain": [
       "<matplotlib.axes._subplots.AxesSubplot at 0x7f9ce055f080>"
      ]
     },
     "execution_count": 59,
     "metadata": {},
     "output_type": "execute_result"
    },
    {
     "data": {
      "image/png": "[encoded data removed]",
      "text/plain": [
       "<Figure size 432x288 with 1 Axes>"
      ]
     },
     "metadata": {
      "needs_background": "light"
     },
     "output_type": "display_data"
    }
   ],
   "source": [
    "FD_histogram(AAPL_200Kdollarbars)"
   ]
  },
  {
   "cell_type": "code",
   "execution_count": 60,
   "metadata": {},
   "outputs": [
    {
     "data": {
      "text/plain": [
       "<matplotlib.axes._subplots.AxesSubplot at 0x7f9c90225c18>"
      ]
     },
     "execution_count": 60,
     "metadata": {},
     "output_type": "execute_result"
    },
    {
     "data": {
      "image/png": "[encoded data removed]",
      "text/plain": [
       "<Figure size 432x288 with 1 Axes>"
      ]
     },
     "metadata": {
      "needs_background": "light"
     },
     "output_type": "display_data"
    }
   ],
   "source": [
    "FD_histogram(AAPL_200Kdollarbars,field='log returns')"
   ]
  },
  {
   "cell_type": "code",
   "execution_count": 61,
   "metadata": {},
   "outputs": [
    {
     "data": {
      "image/png": "[encoded data removed]",
      "text/plain": [
       "<Figure size 432x288 with 1 Axes>"
      ]
     },
     "metadata": {
      "needs_background": "light"
     },
     "output_type": "display_data"
    }
   ],
   "source": [
    "qq_plot(AAPL_200Kdollarbars)"
   ]
  },
  {
   "cell_type": "code",
   "execution_count": 62,
   "metadata": {},
   "outputs": [
    {
     "data": {
      "image/png": "[encoded data removed]",
      "text/plain": [
       "<Figure size 432x288 with 1 Axes>"
      ]
     },
     "metadata": {
      "needs_background": "light"
     },
     "output_type": "display_data"
    }
   ],
   "source": [
    "qq_plot(AAPL_200Kdollarbars,field='log returns')"
   ]
  },
  {
   "cell_type": "code",
   "execution_count": 63,
   "metadata": {},
   "outputs": [
    {
     "data": {
      "image/png": "[encoded data removed]",
      "text/plain": [
       "<Figure size 432x288 with 1 Axes>"
      ]
     },
     "metadata": {
      "needs_background": "light"
     },
     "output_type": "display_data"
    }
   ],
   "source": [
    "auto_corr(AAPL_200Kdollarbars)"
   ]
  },
  {
   "cell_type": "code",
   "execution_count": 64,
   "metadata": {},
   "outputs": [
    {
     "data": {
      "image/png": "[encoded data removed]",
      "text/plain": [
       "<Figure size 432x288 with 1 Axes>"
      ]
     },
     "metadata": {
      "needs_background": "light"
     },
     "output_type": "display_data"
    }
   ],
   "source": [
    "auto_corr(AAPL_200Kdollarbars,field='log returns')"
   ]
  },
  {
   "cell_type": "markdown",
   "metadata": {},
   "source": [
    "## Information Bars"
   ]
  },
  {
   "cell_type": "markdown",
   "metadata": {},
   "source": [
    "Here we are trying to sample bars based on some type of information we are interested in. Technically you could call things like volume bars a type of information bar because the information we are interested in is volume. In this section we are more interested in less standard types of information. Typically this information is used to do some kind of exploratory data analysis. I what we do below we will typically consider a sequence \n",
    "$$\\{(p_t,v_t)\\}_{t = 1, \\ldots T}$$\n",
    "of price volume pairs at tick $t$. Much of the information in the market, especially on the microstructure level, depends heavily on price and volume. The trick is to use them in clever ways to uncover signals. "
   ]
  },
  {
   "cell_type": "markdown",
   "metadata": {},
   "source": [
    "### Tick Information Bars"
   ]
  },
  {
   "cell_type": "markdown",
   "metadata": {},
   "source": [
    "These can come in various forms. Whatever the form the information we are searching for arrives at the tick level. For example let us say we want to represent the data to indicate if a tick was a buy or a sell. Once we have established a sequence of buys and sells we can ask many questions. One is when do we see the typical buy/sell pattern go out of balance. This can shed light on supply demand issues that drive price action. To this end we define the buy/sell indicator as follows\n",
    "$$b_t = \\left\\{\n",
    "\\begin{array}{ll}\n",
    "      b_{t-1} &  \\Delta p_t = 0 \\\\\n",
    "      \\frac{|\\Delta p_t|}{ \\Delta p_t} &  \\Delta p_t \\neq 0 \\\\\n",
    "\\end{array} \n",
    "\\right.$$\n",
    "We can initialize this by setting $b_0 = b_T$. One common practice is to leave the first few trades unclassified. This can be done on the individual tick level or across a number of ticks. "
   ]
  },
  {
   "cell_type": "code",
   "execution_count": 65,
   "metadata": {},
   "outputs": [
    {
     "data": {
      "text/html": [
       "<div>\n",
       "<style scoped>\n",
       "    .dataframe tbody tr th:only-of-type {\n",
       "        vertical-align: middle;\n",
       "    }\n",
       "\n",
       "    .dataframe tbody tr th {\n",
       "        vertical-align: top;\n",
       "    }\n",
       "\n",
       "    .dataframe thead th {\n",
       "        text-align: right;\n",
       "    }\n",
       "</style>\n",
       "<table border=\"1\" class=\"dataframe\">\n",
       "  <thead>\n",
       "    <tr style=\"text-align: right;\">\n",
       "      <th></th>\n",
       "      <th>Symbol</th>\n",
       "      <th>Trade Volume</th>\n",
       "      <th>Trade Price</th>\n",
       "      <th>Sale Condition</th>\n",
       "      <th>Trade Correction Indicator</th>\n",
       "    </tr>\n",
       "    <tr>\n",
       "      <th>Date_Time</th>\n",
       "      <th></th>\n",
       "      <th></th>\n",
       "      <th></th>\n",
       "      <th></th>\n",
       "      <th></th>\n",
       "    </tr>\n",
       "  </thead>\n",
       "  <tbody>\n",
       "    <tr>\n",
       "      <th>1900-01-01 09:30:00.036753311</th>\n",
       "      <td>AAPL</td>\n",
       "      <td>20</td>\n",
       "      <td>204.39</td>\n",
       "      <td>@  I</td>\n",
       "      <td>0</td>\n",
       "    </tr>\n",
       "    <tr>\n",
       "      <th>1900-01-01 09:30:00.079162915</th>\n",
       "      <td>AAPL</td>\n",
       "      <td>25</td>\n",
       "      <td>204.39</td>\n",
       "      <td>@  I</td>\n",
       "      <td>0</td>\n",
       "    </tr>\n",
       "    <tr>\n",
       "      <th>1900-01-01 09:30:00.079456147</th>\n",
       "      <td>AAPL</td>\n",
       "      <td>55</td>\n",
       "      <td>204.39</td>\n",
       "      <td>@  I</td>\n",
       "      <td>0</td>\n",
       "    </tr>\n",
       "    <tr>\n",
       "      <th>1900-01-01 09:30:00.085361166</th>\n",
       "      <td>AAPL</td>\n",
       "      <td>5</td>\n",
       "      <td>204.35</td>\n",
       "      <td>@  I</td>\n",
       "      <td>0</td>\n",
       "    </tr>\n",
       "    <tr>\n",
       "      <th>1900-01-01 09:30:00.087596718</th>\n",
       "      <td>AAPL</td>\n",
       "      <td>2</td>\n",
       "      <td>204.35</td>\n",
       "      <td>@  I</td>\n",
       "      <td>0</td>\n",
       "    </tr>\n",
       "    <tr>\n",
       "      <th>...</th>\n",
       "      <td>...</td>\n",
       "      <td>...</td>\n",
       "      <td>...</td>\n",
       "      <td>...</td>\n",
       "      <td>...</td>\n",
       "    </tr>\n",
       "    <tr>\n",
       "      <th>1900-01-01 16:00:00.225387894</th>\n",
       "      <td>AAPL</td>\n",
       "      <td>2374</td>\n",
       "      <td>201.57</td>\n",
       "      <td>@  M</td>\n",
       "      <td>0</td>\n",
       "    </tr>\n",
       "    <tr>\n",
       "      <th>1900-01-01 16:00:00.246734134</th>\n",
       "      <td>AAPL</td>\n",
       "      <td>80</td>\n",
       "      <td>201.57</td>\n",
       "      <td>@F I</td>\n",
       "      <td>0</td>\n",
       "    </tr>\n",
       "    <tr>\n",
       "      <th>1900-01-01 16:00:00.248124769</th>\n",
       "      <td>AAPL</td>\n",
       "      <td>120</td>\n",
       "      <td>201.57</td>\n",
       "      <td>@F</td>\n",
       "      <td>0</td>\n",
       "    </tr>\n",
       "    <tr>\n",
       "      <th>1900-01-01 16:00:01.735360409</th>\n",
       "      <td>AAPL</td>\n",
       "      <td>1973</td>\n",
       "      <td>201.59</td>\n",
       "      <td>@</td>\n",
       "      <td>0</td>\n",
       "    </tr>\n",
       "    <tr>\n",
       "      <th>1900-01-01 16:15:00.006035274</th>\n",
       "      <td>AAPL</td>\n",
       "      <td>0</td>\n",
       "      <td>201.59</td>\n",
       "      <td>@9</td>\n",
       "      <td>0</td>\n",
       "    </tr>\n",
       "  </tbody>\n",
       "</table>\n",
       "<p>556717 rows × 5 columns</p>\n",
       "</div>"
      ],
      "text/plain": [
       "                              Symbol  Trade Volume  Trade Price  \\\n",
       "Date_Time                                                         \n",
       "1900-01-01 09:30:00.036753311   AAPL            20       204.39   \n",
       "1900-01-01 09:30:00.079162915   AAPL            25       204.39   \n",
       "1900-01-01 09:30:00.079456147   AAPL            55       204.39   \n",
       "1900-01-01 09:30:00.085361166   AAPL             5       204.35   \n",
       "1900-01-01 09:30:00.087596718   AAPL             2       204.35   \n",
       "...                              ...           ...          ...   \n",
       "1900-01-01 16:00:00.225387894   AAPL          2374       201.57   \n",
       "1900-01-01 16:00:00.246734134   AAPL            80       201.57   \n",
       "1900-01-01 16:00:00.248124769   AAPL           120       201.57   \n",
       "1900-01-01 16:00:01.735360409   AAPL          1973       201.59   \n",
       "1900-01-01 16:15:00.006035274   AAPL             0       201.59   \n",
       "\n",
       "                              Sale Condition  Trade Correction Indicator  \n",
       "Date_Time                                                                 \n",
       "1900-01-01 09:30:00.036753311           @  I                           0  \n",
       "1900-01-01 09:30:00.079162915           @  I                           0  \n",
       "1900-01-01 09:30:00.079456147           @  I                           0  \n",
       "1900-01-01 09:30:00.085361166           @  I                           0  \n",
       "1900-01-01 09:30:00.087596718           @  I                           0  \n",
       "...                                      ...                         ...  \n",
       "1900-01-01 16:00:00.225387894           @  M                           0  \n",
       "1900-01-01 16:00:00.246734134           @F I                           0  \n",
       "1900-01-01 16:00:00.248124769           @F                             0  \n",
       "1900-01-01 16:00:01.735360409           @                              0  \n",
       "1900-01-01 16:15:00.006035274           @9                             0  \n",
       "\n",
       "[556717 rows x 5 columns]"
      ]
     },
     "execution_count": 65,
     "metadata": {},
     "output_type": "execute_result"
    }
   ],
   "source": [
    "AAPL_timeindex"
   ]
  },
  {
   "cell_type": "code",
   "execution_count": 66,
   "metadata": {},
   "outputs": [
    {
     "data": {
      "text/html": [
       "<div>\n",
       "<style scoped>\n",
       "    .dataframe tbody tr th:only-of-type {\n",
       "        vertical-align: middle;\n",
       "    }\n",
       "\n",
       "    .dataframe tbody tr th {\n",
       "        vertical-align: top;\n",
       "    }\n",
       "\n",
       "    .dataframe thead th {\n",
       "        text-align: right;\n",
       "    }\n",
       "</style>\n",
       "<table border=\"1\" class=\"dataframe\">\n",
       "  <thead>\n",
       "    <tr style=\"text-align: right;\">\n",
       "      <th></th>\n",
       "      <th>open</th>\n",
       "      <th>high</th>\n",
       "      <th>low</th>\n",
       "      <th>close</th>\n",
       "      <th>volume</th>\n",
       "      <th>log returns</th>\n",
       "    </tr>\n",
       "    <tr>\n",
       "      <th>Date_Time</th>\n",
       "      <th></th>\n",
       "      <th></th>\n",
       "      <th></th>\n",
       "      <th></th>\n",
       "      <th></th>\n",
       "      <th></th>\n",
       "    </tr>\n",
       "  </thead>\n",
       "  <tbody>\n",
       "    <tr>\n",
       "      <th>1900-01-01 09:30:02.323630103</th>\n",
       "      <td>204.3900</td>\n",
       "      <td>204.39</td>\n",
       "      <td>203.920</td>\n",
       "      <td>203.980</td>\n",
       "      <td>215460</td>\n",
       "      <td>-0.002008</td>\n",
       "    </tr>\n",
       "    <tr>\n",
       "      <th>1900-01-01 09:30:04.617693097</th>\n",
       "      <td>203.9600</td>\n",
       "      <td>204.39</td>\n",
       "      <td>203.590</td>\n",
       "      <td>203.700</td>\n",
       "      <td>157369</td>\n",
       "      <td>-0.001276</td>\n",
       "    </tr>\n",
       "    <tr>\n",
       "      <th>1900-01-01 09:30:09.881172719</th>\n",
       "      <td>203.6800</td>\n",
       "      <td>204.39</td>\n",
       "      <td>203.180</td>\n",
       "      <td>203.220</td>\n",
       "      <td>237522</td>\n",
       "      <td>-0.002261</td>\n",
       "    </tr>\n",
       "    <tr>\n",
       "      <th>1900-01-01 09:30:19.329567104</th>\n",
       "      <td>203.2300</td>\n",
       "      <td>204.39</td>\n",
       "      <td>203.020</td>\n",
       "      <td>203.390</td>\n",
       "      <td>241846</td>\n",
       "      <td>0.000787</td>\n",
       "    </tr>\n",
       "    <tr>\n",
       "      <th>1900-01-01 09:30:38.905320890</th>\n",
       "      <td>203.3800</td>\n",
       "      <td>204.39</td>\n",
       "      <td>203.065</td>\n",
       "      <td>203.560</td>\n",
       "      <td>266270</td>\n",
       "      <td>0.000885</td>\n",
       "    </tr>\n",
       "    <tr>\n",
       "      <th>...</th>\n",
       "      <td>...</td>\n",
       "      <td>...</td>\n",
       "      <td>...</td>\n",
       "      <td>...</td>\n",
       "      <td>...</td>\n",
       "      <td>...</td>\n",
       "    </tr>\n",
       "    <tr>\n",
       "      <th>1900-01-01 15:56:37.981100577</th>\n",
       "      <td>201.5900</td>\n",
       "      <td>201.68</td>\n",
       "      <td>201.470</td>\n",
       "      <td>201.560</td>\n",
       "      <td>204678</td>\n",
       "      <td>-0.000149</td>\n",
       "    </tr>\n",
       "    <tr>\n",
       "      <th>1900-01-01 15:57:44.633899042</th>\n",
       "      <td>201.5600</td>\n",
       "      <td>201.66</td>\n",
       "      <td>201.500</td>\n",
       "      <td>201.520</td>\n",
       "      <td>208753</td>\n",
       "      <td>-0.000198</td>\n",
       "    </tr>\n",
       "    <tr>\n",
       "      <th>1900-01-01 15:58:24.064348503</th>\n",
       "      <td>201.5200</td>\n",
       "      <td>201.56</td>\n",
       "      <td>201.310</td>\n",
       "      <td>201.350</td>\n",
       "      <td>212847</td>\n",
       "      <td>-0.000844</td>\n",
       "    </tr>\n",
       "    <tr>\n",
       "      <th>1900-01-01 15:59:24.383766579</th>\n",
       "      <td>201.3499</td>\n",
       "      <td>201.49</td>\n",
       "      <td>201.340</td>\n",
       "      <td>201.405</td>\n",
       "      <td>209398</td>\n",
       "      <td>0.000274</td>\n",
       "    </tr>\n",
       "    <tr>\n",
       "      <th>1900-01-01 15:59:55.177611293</th>\n",
       "      <td>201.4100</td>\n",
       "      <td>201.56</td>\n",
       "      <td>201.290</td>\n",
       "      <td>201.340</td>\n",
       "      <td>221062</td>\n",
       "      <td>-0.000348</td>\n",
       "    </tr>\n",
       "  </tbody>\n",
       "</table>\n",
       "<p>278 rows × 6 columns</p>\n",
       "</div>"
      ],
      "text/plain": [
       "                                   open    high      low    close  volume  \\\n",
       "Date_Time                                                                   \n",
       "1900-01-01 09:30:02.323630103  204.3900  204.39  203.920  203.980  215460   \n",
       "1900-01-01 09:30:04.617693097  203.9600  204.39  203.590  203.700  157369   \n",
       "1900-01-01 09:30:09.881172719  203.6800  204.39  203.180  203.220  237522   \n",
       "1900-01-01 09:30:19.329567104  203.2300  204.39  203.020  203.390  241846   \n",
       "1900-01-01 09:30:38.905320890  203.3800  204.39  203.065  203.560  266270   \n",
       "...                                 ...     ...      ...      ...     ...   \n",
       "1900-01-01 15:56:37.981100577  201.5900  201.68  201.470  201.560  204678   \n",
       "1900-01-01 15:57:44.633899042  201.5600  201.66  201.500  201.520  208753   \n",
       "1900-01-01 15:58:24.064348503  201.5200  201.56  201.310  201.350  212847   \n",
       "1900-01-01 15:59:24.383766579  201.3499  201.49  201.340  201.405  209398   \n",
       "1900-01-01 15:59:55.177611293  201.4100  201.56  201.290  201.340  221062   \n",
       "\n",
       "                               log returns  \n",
       "Date_Time                                   \n",
       "1900-01-01 09:30:02.323630103    -0.002008  \n",
       "1900-01-01 09:30:04.617693097    -0.001276  \n",
       "1900-01-01 09:30:09.881172719    -0.002261  \n",
       "1900-01-01 09:30:19.329567104     0.000787  \n",
       "1900-01-01 09:30:38.905320890     0.000885  \n",
       "...                                    ...  \n",
       "1900-01-01 15:56:37.981100577    -0.000149  \n",
       "1900-01-01 15:57:44.633899042    -0.000198  \n",
       "1900-01-01 15:58:24.064348503    -0.000844  \n",
       "1900-01-01 15:59:24.383766579     0.000274  \n",
       "1900-01-01 15:59:55.177611293    -0.000348  \n",
       "\n",
       "[278 rows x 6 columns]"
      ]
     },
     "execution_count": 66,
     "metadata": {},
     "output_type": "execute_result"
    }
   ],
   "source": [
    "AAPL_2KTickBars"
   ]
  },
  {
   "cell_type": "code",
   "execution_count": 67,
   "metadata": {
    "scrolled": false
   },
   "outputs": [
    {
     "data": {
      "text/plain": [
       "array([-1., -1., -1.,  1.,  1., -1., -1., -1.,  1., -1., -1.,  1., -1.,\n",
       "        1., -1.,  1.,  1.,  1., -1., -1., -1.,  1., -1., -1., -1., -1.,\n",
       "        1., -1., -1.,  1., -1., -1.,  1., -1.,  1.,  1., -1.,  1., -1.,\n",
       "        1., -1.,  1., -1., -1.,  1.,  1., -1.,  1., -1.,  1., -1., -1.,\n",
       "       -1., -1., -1.,  1., -1., -1., -1., -1., -1., -1.,  1., -1.,  1.,\n",
       "        1.,  1., -1.,  1., -1., -1., -1., -1., -1.,  0.,  0.,  0., -1.,\n",
       "       -1., -1.,  1., -1., -1., -1., -1.,  1., -1., -1.,  1., -1.,  1.,\n",
       "        1., -1.,  1., -1., -1.,  1.,  1., -1.,  1., -1., -1., -1., -1.,\n",
       "       -1.,  1.,  1., -1.,  1., -1.,  1.,  1., -1.,  1., -1., -1., -1.,\n",
       "        1.,  1.,  1., -1.,  1., -1., -1.,  1., -1., -1., -1.,  1.,  1.,\n",
       "        1.,  1.,  1., -1.,  1.,  1.,  1.,  1.,  1.,  1.,  1.,  1.,  1.,\n",
       "        1.,  1., -1.,  1., -1., -1., -1.,  1., -1.,  1.,  1.,  1., -1.,\n",
       "       -1., -1., -1., -1., -1.,  1.,  1., -1., -1.,  1.,  1.,  1., -1.,\n",
       "        1., -1.,  1.,  1., -1., -1., -1.,  1.,  1., -1.,  1., -1., -1.,\n",
       "       -1., -1., -1., -1.,  0., -1., -1., -1.,  1., -1., -1.,  1.,  1.,\n",
       "       -1.,  1.,  1., -1., -1.,  0.,  1., -1.,  1., -1.,  1.,  1.,  1.,\n",
       "        1., -1., -1., -1.,  1., -1., -1.,  1., -1., -1., -1.,  1.,  1.,\n",
       "       -1.,  1.,  1.,  1.,  1., -1.,  1., -1.,  1.,  1., -1.,  1.,  1.,\n",
       "        1.,  1., -1., -1., -1.,  1., -1., -1., -1.,  1.,  1.,  0., -1.,\n",
       "       -1., -1., -1.,  1.,  1.,  1.,  1., -1., -1., -1., -1.,  1.,  1.,\n",
       "       -1.,  1., -1.,  1., -1.,  1., -1.,  1., -1., -1., -1.,  1.,  1.,\n",
       "       -1., -1., -1.,  1., -1.])"
      ]
     },
     "execution_count": 67,
     "metadata": {},
     "output_type": "execute_result"
    }
   ],
   "source": [
    "np.sign(np.array(AAPL_2KTickBars['close']) - np.array(AAPL_2KTickBars['open']))"
   ]
  },
  {
   "cell_type": "code",
   "execution_count": 68,
   "metadata": {},
   "outputs": [
    {
     "data": {
      "text/plain": [
       "array([-1., -1., -1.,  1.,  1., -1., -1., -1.,  1., -1., -1.,  1., -1.,\n",
       "        1., -1.,  1.,  1.,  1., -1., -1., -1.,  1., -1., -1., -1., -1.,\n",
       "        1., -1., -1.,  1., -1., -1.,  1., -1.,  1.,  1., -1.,  1., -1.,\n",
       "        1., -1.,  1., -1., -1.,  1.,  1., -1.,  1., -1.,  1., -1., -1.,\n",
       "       -1., -1., -1.,  1., -1., -1., -1., -1., -1., -1.,  1., -1.,  1.,\n",
       "        1.,  1., -1.,  1., -1., -1., -1., -1., -1.,  0.,  0.,  0., -1.,\n",
       "       -1., -1.,  1., -1., -1., -1., -1.,  1., -1., -1.,  1., -1.,  1.,\n",
       "        1., -1.,  1., -1., -1.,  1.,  1., -1.,  1., -1., -1., -1., -1.,\n",
       "       -1.,  1.,  1., -1.,  1., -1.,  1.,  1., -1.,  1., -1., -1., -1.,\n",
       "        1.,  1.,  1., -1.,  1., -1., -1.,  1., -1., -1., -1.,  1.,  1.,\n",
       "        1.,  1.,  1., -1.,  1.,  1.,  1.,  1.,  1.,  1.,  1.,  1.,  1.,\n",
       "        1.,  1., -1.,  1., -1., -1., -1.,  1., -1.,  1.,  1.,  1., -1.,\n",
       "       -1., -1., -1., -1., -1.,  1.,  1., -1., -1.,  1.,  1.,  1., -1.,\n",
       "        1., -1.,  1.,  1., -1., -1., -1.,  1.,  1., -1.,  1., -1., -1.,\n",
       "       -1., -1., -1., -1.,  0., -1., -1., -1.,  1., -1., -1.,  1.,  1.,\n",
       "       -1.,  1.,  1., -1., -1.,  0.,  1., -1.,  1., -1.,  1.,  1.,  1.,\n",
       "        1., -1., -1., -1.,  1., -1., -1.,  1., -1., -1., -1.,  1.,  1.,\n",
       "       -1.,  1.,  1.,  1.,  1., -1.,  1., -1.,  1.,  1., -1.,  1.,  1.,\n",
       "        1.,  1., -1., -1., -1.,  1., -1., -1., -1.,  1.,  1.,  0., -1.,\n",
       "       -1., -1., -1.,  1.,  1.,  1.,  1., -1., -1., -1., -1.,  1.,  1.,\n",
       "       -1.,  1., -1.,  1., -1.,  1., -1.,  1., -1., -1., -1.,  1.,  1.,\n",
       "       -1., -1., -1.,  1., -1.])"
      ]
     },
     "execution_count": 68,
     "metadata": {},
     "output_type": "execute_result"
    }
   ],
   "source": [
    "np.sign(np.array(AAPL_2KTickBars['log returns']))"
   ]
  },
  {
   "cell_type": "code",
   "execution_count": 69,
   "metadata": {},
   "outputs": [
    {
     "data": {
      "text/plain": [
       "array([ -1.,  -2.,  -3.,  -2.,  -1.,  -2.,  -3.,  -4.,  -3.,  -4.,  -5.,\n",
       "        -4.,  -5.,  -4.,  -5.,  -4.,  -3.,  -2.,  -3.,  -4.,  -5.,  -4.,\n",
       "        -5.,  -6.,  -7.,  -8.,  -7.,  -8.,  -9.,  -8.,  -9., -10.,  -9.,\n",
       "       -10.,  -9.,  -8.,  -9.,  -8.,  -9.,  -8.,  -9.,  -8.,  -9., -10.,\n",
       "        -9.,  -8.,  -9.,  -8.,  -9.,  -8.,  -9., -10., -11., -12., -13.,\n",
       "       -12., -13., -14., -15., -16., -17., -18., -17., -18., -17., -16.,\n",
       "       -15., -16., -15., -16., -17., -18., -19., -20., -20., -20., -20.,\n",
       "       -21., -22., -23., -22., -23., -24., -25., -26., -25., -26., -27.,\n",
       "       -26., -27., -26., -25., -26., -25., -26., -27., -26., -25., -26.,\n",
       "       -25., -26., -27., -28., -29., -30., -29., -28., -29., -28., -29.,\n",
       "       -28., -27., -28., -27., -28., -29., -30., -29., -28., -27., -28.,\n",
       "       -27., -28., -29., -28., -29., -30., -31., -30., -29., -28., -27.,\n",
       "       -26., -27., -26., -25., -24., -23., -22., -21., -20., -19., -18.,\n",
       "       -17., -16., -17., -16., -17., -18., -19., -18., -19., -18., -17.,\n",
       "       -16., -17., -18., -19., -20., -21., -22., -21., -20., -21., -22.,\n",
       "       -21., -20., -19., -20., -19., -20., -19., -18., -19., -20., -21.,\n",
       "       -20., -19., -20., -19., -20., -21., -22., -23., -24., -25., -25.,\n",
       "       -26., -27., -28., -27., -28., -29., -28., -27., -28., -27., -26.,\n",
       "       -27., -28., -28., -27., -28., -27., -28., -27., -26., -25., -24.,\n",
       "       -25., -26., -27., -26., -27., -28., -27., -28., -29., -30., -29.,\n",
       "       -28., -29., -28., -27., -26., -25., -26., -25., -26., -25., -24.,\n",
       "       -25., -24., -23., -22., -21., -22., -23., -24., -23., -24., -25.,\n",
       "       -26., -25., -24., -24., -25., -26., -27., -28., -27., -26., -25.,\n",
       "       -24., -25., -26., -27., -28., -27., -26., -27., -26., -27., -26.,\n",
       "       -27., -26., -27., -26., -27., -28., -29., -28., -27., -28., -29.,\n",
       "       -30., -29., -30.])"
      ]
     },
     "execution_count": 69,
     "metadata": {},
     "output_type": "execute_result"
    }
   ],
   "source": [
    "np.sign(np.array(AAPL_2KTickBars['log returns'])).cumsum()"
   ]
  },
  {
   "cell_type": "code",
   "execution_count": 70,
   "metadata": {},
   "outputs": [
    {
     "data": {
      "text/plain": [
       "[<matplotlib.lines.Line2D at 0x7f9d0128f278>]"
      ]
     },
     "execution_count": 70,
     "metadata": {},
     "output_type": "execute_result"
    },
    {
     "data": {
      "image/png": "[encoded data removed]",
      "text/plain": [
       "<Figure size 432x288 with 1 Axes>"
      ]
     },
     "metadata": {
      "needs_background": "light"
     },
     "output_type": "display_data"
    }
   ],
   "source": [
    "plt.plot(np.sign(np.array(AAPL_2KTickBars['log returns'])).cumsum())"
   ]
  },
  {
   "cell_type": "code",
   "execution_count": 71,
   "metadata": {},
   "outputs": [
    {
     "data": {
      "text/plain": [
       "Text(0, 0.5, 'Autocorrelation')"
      ]
     },
     "execution_count": 71,
     "metadata": {},
     "output_type": "execute_result"
    },
    {
     "data": {
      "image/png": "[encoded data removed]",
      "text/plain": [
       "<Figure size 432x288 with 1 Axes>"
      ]
     },
     "metadata": {
      "needs_background": "light"
     },
     "output_type": "display_data"
    }
   ],
   "source": [
    "plt.acorr(np.sign(np.array(AAPL_2KTickBars['log returns'])),maxlags=10)\n",
    "plt.title('Autocorrelation of stock data')\n",
    "plt.xlabel('Lag')\n",
    "plt.ylabel('Autocorrelation')"
   ]
  },
  {
   "cell_type": "markdown",
   "metadata": {},
   "source": [
    "### Runs"
   ]
  },
  {
   "cell_type": "code",
   "execution_count": 72,
   "metadata": {},
   "outputs": [],
   "source": [
    "trade_sign = (np.sign(np.array(AAPL_timeindex['Trade Price'])[1:-1] - np.array(AAPL_timeindex['Trade Price'])[0:-2]))"
   ]
  },
  {
   "cell_type": "code",
   "execution_count": 73,
   "metadata": {},
   "outputs": [],
   "source": [
    "trade_sign = trade_sign.tolist()\n",
    "trade_sign.insert(0,0.0)\n",
    "trade_sign.insert(-1,0.0)"
   ]
  },
  {
   "cell_type": "code",
   "execution_count": 74,
   "metadata": {},
   "outputs": [
    {
     "data": {
      "text/plain": [
       "556717"
      ]
     },
     "execution_count": 74,
     "metadata": {},
     "output_type": "execute_result"
    }
   ],
   "source": [
    "len(trade_sign)"
   ]
  },
  {
   "cell_type": "code",
   "execution_count": 75,
   "metadata": {},
   "outputs": [
    {
     "data": {
      "text/plain": [
       "556717"
      ]
     },
     "execution_count": 75,
     "metadata": {},
     "output_type": "execute_result"
    }
   ],
   "source": [
    "len(AAPL_timeindex['Trade Price'])"
   ]
  },
  {
   "cell_type": "code",
   "execution_count": 76,
   "metadata": {},
   "outputs": [],
   "source": [
    "AAPL_timeindex['Trade Sign'] = trade_sign"
   ]
  },
  {
   "cell_type": "code",
   "execution_count": 77,
   "metadata": {},
   "outputs": [
    {
     "data": {
      "text/html": [
       "<div>\n",
       "<style scoped>\n",
       "    .dataframe tbody tr th:only-of-type {\n",
       "        vertical-align: middle;\n",
       "    }\n",
       "\n",
       "    .dataframe tbody tr th {\n",
       "        vertical-align: top;\n",
       "    }\n",
       "\n",
       "    .dataframe thead th {\n",
       "        text-align: right;\n",
       "    }\n",
       "</style>\n",
       "<table border=\"1\" class=\"dataframe\">\n",
       "  <thead>\n",
       "    <tr style=\"text-align: right;\">\n",
       "      <th></th>\n",
       "      <th>Symbol</th>\n",
       "      <th>Trade Volume</th>\n",
       "      <th>Trade Price</th>\n",
       "      <th>Sale Condition</th>\n",
       "      <th>Trade Correction Indicator</th>\n",
       "      <th>Trade Sign</th>\n",
       "    </tr>\n",
       "    <tr>\n",
       "      <th>Date_Time</th>\n",
       "      <th></th>\n",
       "      <th></th>\n",
       "      <th></th>\n",
       "      <th></th>\n",
       "      <th></th>\n",
       "      <th></th>\n",
       "    </tr>\n",
       "  </thead>\n",
       "  <tbody>\n",
       "    <tr>\n",
       "      <th>1900-01-01 09:30:00.090761111</th>\n",
       "      <td>AAPL</td>\n",
       "      <td>100</td>\n",
       "      <td>204.2625</td>\n",
       "      <td>@</td>\n",
       "      <td>0</td>\n",
       "      <td>1.0</td>\n",
       "    </tr>\n",
       "    <tr>\n",
       "      <th>1900-01-01 09:30:00.092600469</th>\n",
       "      <td>AAPL</td>\n",
       "      <td>7</td>\n",
       "      <td>204.2600</td>\n",
       "      <td>@  I</td>\n",
       "      <td>0</td>\n",
       "      <td>-1.0</td>\n",
       "    </tr>\n",
       "    <tr>\n",
       "      <th>1900-01-01 09:30:00.092610118</th>\n",
       "      <td>AAPL</td>\n",
       "      <td>471</td>\n",
       "      <td>204.2600</td>\n",
       "      <td>@</td>\n",
       "      <td>0</td>\n",
       "      <td>0.0</td>\n",
       "    </tr>\n",
       "    <tr>\n",
       "      <th>1900-01-01 09:30:00.092621195</th>\n",
       "      <td>AAPL</td>\n",
       "      <td>316</td>\n",
       "      <td>204.2600</td>\n",
       "      <td>@</td>\n",
       "      <td>0</td>\n",
       "      <td>0.0</td>\n",
       "    </tr>\n",
       "    <tr>\n",
       "      <th>1900-01-01 09:30:00.093299904</th>\n",
       "      <td>AAPL</td>\n",
       "      <td>10</td>\n",
       "      <td>204.2600</td>\n",
       "      <td>@  I</td>\n",
       "      <td>0</td>\n",
       "      <td>0.0</td>\n",
       "    </tr>\n",
       "    <tr>\n",
       "      <th>1900-01-01 09:30:00.159286235</th>\n",
       "      <td>AAPL</td>\n",
       "      <td>14</td>\n",
       "      <td>204.3200</td>\n",
       "      <td>@  I</td>\n",
       "      <td>0</td>\n",
       "      <td>1.0</td>\n",
       "    </tr>\n",
       "    <tr>\n",
       "      <th>1900-01-01 09:30:00.165766696</th>\n",
       "      <td>AAPL</td>\n",
       "      <td>900</td>\n",
       "      <td>204.3200</td>\n",
       "      <td>@</td>\n",
       "      <td>0</td>\n",
       "      <td>0.0</td>\n",
       "    </tr>\n",
       "    <tr>\n",
       "      <th>1900-01-01 09:30:00.198756144</th>\n",
       "      <td>AAPL</td>\n",
       "      <td>10</td>\n",
       "      <td>204.3800</td>\n",
       "      <td>@  I</td>\n",
       "      <td>0</td>\n",
       "      <td>1.0</td>\n",
       "    </tr>\n",
       "    <tr>\n",
       "      <th>1900-01-01 09:30:00.228130550</th>\n",
       "      <td>AAPL</td>\n",
       "      <td>19</td>\n",
       "      <td>204.3100</td>\n",
       "      <td>@F I</td>\n",
       "      <td>0</td>\n",
       "      <td>-1.0</td>\n",
       "    </tr>\n",
       "    <tr>\n",
       "      <th>1900-01-01 09:30:00.243475735</th>\n",
       "      <td>AAPL</td>\n",
       "      <td>100</td>\n",
       "      <td>204.2600</td>\n",
       "      <td>@F</td>\n",
       "      <td>0</td>\n",
       "      <td>-1.0</td>\n",
       "    </tr>\n",
       "    <tr>\n",
       "      <th>1900-01-01 09:30:00.252651434</th>\n",
       "      <td>AAPL</td>\n",
       "      <td>100</td>\n",
       "      <td>204.2500</td>\n",
       "      <td>@F</td>\n",
       "      <td>0</td>\n",
       "      <td>-1.0</td>\n",
       "    </tr>\n",
       "    <tr>\n",
       "      <th>1900-01-01 09:30:00.253071636</th>\n",
       "      <td>AAPL</td>\n",
       "      <td>184</td>\n",
       "      <td>204.2600</td>\n",
       "      <td>@</td>\n",
       "      <td>0</td>\n",
       "      <td>1.0</td>\n",
       "    </tr>\n",
       "    <tr>\n",
       "      <th>1900-01-01 09:30:00.253078177</th>\n",
       "      <td>AAPL</td>\n",
       "      <td>200</td>\n",
       "      <td>204.2500</td>\n",
       "      <td>@</td>\n",
       "      <td>0</td>\n",
       "      <td>-1.0</td>\n",
       "    </tr>\n",
       "    <tr>\n",
       "      <th>1900-01-01 09:30:00.253088549</th>\n",
       "      <td>AAPL</td>\n",
       "      <td>316</td>\n",
       "      <td>204.2500</td>\n",
       "      <td>@</td>\n",
       "      <td>0</td>\n",
       "      <td>0.0</td>\n",
       "    </tr>\n",
       "    <tr>\n",
       "      <th>1900-01-01 09:30:00.253491253</th>\n",
       "      <td>AAPL</td>\n",
       "      <td>9</td>\n",
       "      <td>204.3900</td>\n",
       "      <td>@  I</td>\n",
       "      <td>0</td>\n",
       "      <td>1.0</td>\n",
       "    </tr>\n",
       "    <tr>\n",
       "      <th>1900-01-01 09:30:00.253885638</th>\n",
       "      <td>AAPL</td>\n",
       "      <td>184</td>\n",
       "      <td>204.2500</td>\n",
       "      <td>@F</td>\n",
       "      <td>0</td>\n",
       "      <td>-1.0</td>\n",
       "    </tr>\n",
       "    <tr>\n",
       "      <th>1900-01-01 09:30:00.266839242</th>\n",
       "      <td>AAPL</td>\n",
       "      <td>200</td>\n",
       "      <td>204.2500</td>\n",
       "      <td>@F</td>\n",
       "      <td>0</td>\n",
       "      <td>0.0</td>\n",
       "    </tr>\n",
       "    <tr>\n",
       "      <th>1900-01-01 09:30:00.272028405</th>\n",
       "      <td>AAPL</td>\n",
       "      <td>13</td>\n",
       "      <td>204.2500</td>\n",
       "      <td>@  I</td>\n",
       "      <td>0</td>\n",
       "      <td>0.0</td>\n",
       "    </tr>\n",
       "    <tr>\n",
       "      <th>1900-01-01 09:30:00.272136575</th>\n",
       "      <td>AAPL</td>\n",
       "      <td>13</td>\n",
       "      <td>204.2500</td>\n",
       "      <td>@  I</td>\n",
       "      <td>0</td>\n",
       "      <td>0.0</td>\n",
       "    </tr>\n",
       "    <tr>\n",
       "      <th>1900-01-01 09:30:00.272375450</th>\n",
       "      <td>AAPL</td>\n",
       "      <td>165</td>\n",
       "      <td>204.2500</td>\n",
       "      <td>@</td>\n",
       "      <td>0</td>\n",
       "      <td>0.0</td>\n",
       "    </tr>\n",
       "  </tbody>\n",
       "</table>\n",
       "</div>"
      ],
      "text/plain": [
       "                              Symbol  Trade Volume  Trade Price  \\\n",
       "Date_Time                                                         \n",
       "1900-01-01 09:30:00.090761111   AAPL           100     204.2625   \n",
       "1900-01-01 09:30:00.092600469   AAPL             7     204.2600   \n",
       "1900-01-01 09:30:00.092610118   AAPL           471     204.2600   \n",
       "1900-01-01 09:30:00.092621195   AAPL           316     204.2600   \n",
       "1900-01-01 09:30:00.093299904   AAPL            10     204.2600   \n",
       "1900-01-01 09:30:00.159286235   AAPL            14     204.3200   \n",
       "1900-01-01 09:30:00.165766696   AAPL           900     204.3200   \n",
       "1900-01-01 09:30:00.198756144   AAPL            10     204.3800   \n",
       "1900-01-01 09:30:00.228130550   AAPL            19     204.3100   \n",
       "1900-01-01 09:30:00.243475735   AAPL           100     204.2600   \n",
       "1900-01-01 09:30:00.252651434   AAPL           100     204.2500   \n",
       "1900-01-01 09:30:00.253071636   AAPL           184     204.2600   \n",
       "1900-01-01 09:30:00.253078177   AAPL           200     204.2500   \n",
       "1900-01-01 09:30:00.253088549   AAPL           316     204.2500   \n",
       "1900-01-01 09:30:00.253491253   AAPL             9     204.3900   \n",
       "1900-01-01 09:30:00.253885638   AAPL           184     204.2500   \n",
       "1900-01-01 09:30:00.266839242   AAPL           200     204.2500   \n",
       "1900-01-01 09:30:00.272028405   AAPL            13     204.2500   \n",
       "1900-01-01 09:30:00.272136575   AAPL            13     204.2500   \n",
       "1900-01-01 09:30:00.272375450   AAPL           165     204.2500   \n",
       "\n",
       "                              Sale Condition  Trade Correction Indicator  \\\n",
       "Date_Time                                                                  \n",
       "1900-01-01 09:30:00.090761111           @                              0   \n",
       "1900-01-01 09:30:00.092600469           @  I                           0   \n",
       "1900-01-01 09:30:00.092610118           @                              0   \n",
       "1900-01-01 09:30:00.092621195           @                              0   \n",
       "1900-01-01 09:30:00.093299904           @  I                           0   \n",
       "1900-01-01 09:30:00.159286235           @  I                           0   \n",
       "1900-01-01 09:30:00.165766696           @                              0   \n",
       "1900-01-01 09:30:00.198756144           @  I                           0   \n",
       "1900-01-01 09:30:00.228130550           @F I                           0   \n",
       "1900-01-01 09:30:00.243475735           @F                             0   \n",
       "1900-01-01 09:30:00.252651434           @F                             0   \n",
       "1900-01-01 09:30:00.253071636           @                              0   \n",
       "1900-01-01 09:30:00.253078177           @                              0   \n",
       "1900-01-01 09:30:00.253088549           @                              0   \n",
       "1900-01-01 09:30:00.253491253           @  I                           0   \n",
       "1900-01-01 09:30:00.253885638           @F                             0   \n",
       "1900-01-01 09:30:00.266839242           @F                             0   \n",
       "1900-01-01 09:30:00.272028405           @  I                           0   \n",
       "1900-01-01 09:30:00.272136575           @  I                           0   \n",
       "1900-01-01 09:30:00.272375450           @                              0   \n",
       "\n",
       "                               Trade Sign  \n",
       "Date_Time                                  \n",
       "1900-01-01 09:30:00.090761111         1.0  \n",
       "1900-01-01 09:30:00.092600469        -1.0  \n",
       "1900-01-01 09:30:00.092610118         0.0  \n",
       "1900-01-01 09:30:00.092621195         0.0  \n",
       "1900-01-01 09:30:00.093299904         0.0  \n",
       "1900-01-01 09:30:00.159286235         1.0  \n",
       "1900-01-01 09:30:00.165766696         0.0  \n",
       "1900-01-01 09:30:00.198756144         1.0  \n",
       "1900-01-01 09:30:00.228130550        -1.0  \n",
       "1900-01-01 09:30:00.243475735        -1.0  \n",
       "1900-01-01 09:30:00.252651434        -1.0  \n",
       "1900-01-01 09:30:00.253071636         1.0  \n",
       "1900-01-01 09:30:00.253078177        -1.0  \n",
       "1900-01-01 09:30:00.253088549         0.0  \n",
       "1900-01-01 09:30:00.253491253         1.0  \n",
       "1900-01-01 09:30:00.253885638        -1.0  \n",
       "1900-01-01 09:30:00.266839242         0.0  \n",
       "1900-01-01 09:30:00.272028405         0.0  \n",
       "1900-01-01 09:30:00.272136575         0.0  \n",
       "1900-01-01 09:30:00.272375450         0.0  "
      ]
     },
     "execution_count": 77,
     "metadata": {},
     "output_type": "execute_result"
    }
   ],
   "source": [
    "AAPL_timeindex[20:40]"
   ]
  },
  {
   "cell_type": "code",
   "execution_count": 78,
   "metadata": {},
   "outputs": [
    {
     "data": {
      "text/plain": [
       "[<matplotlib.lines.Line2D at 0x7f9cc131ffd0>]"
      ]
     },
     "execution_count": 78,
     "metadata": {},
     "output_type": "execute_result"
    },
    {
     "data": {
      "image/png": "[encoded data removed]",
      "text/plain": [
       "<Figure size 432x288 with 1 Axes>"
      ]
     },
     "metadata": {
      "needs_background": "light"
     },
     "output_type": "display_data"
    }
   ],
   "source": [
    "plt.plot(AAPL_timeindex['Trade Sign'].cumsum())"
   ]
  },
  {
   "cell_type": "code",
   "execution_count": 79,
   "metadata": {},
   "outputs": [
    {
     "data": {
      "text/plain": [
       "Symbol                          AAPL\n",
       "Trade Volume                       2\n",
       "Trade Price                   204.35\n",
       "Sale Condition                  @  I\n",
       "Trade Correction Indicator         0\n",
       "Trade Sign                         0\n",
       "Name: 1900-01-01 09:30:00.087596718, dtype: object"
      ]
     },
     "execution_count": 79,
     "metadata": {},
     "output_type": "execute_result"
    }
   ],
   "source": [
    "AAPL_timeindex.iloc[4]"
   ]
  },
  {
   "cell_type": "code",
   "execution_count": 80,
   "metadata": {},
   "outputs": [],
   "source": [
    "def process_run_bars(df):\n",
    "   \n",
    "    buffer = []\n",
    "    \n",
    "    for i in range(len(df)):\n",
    "        \n",
    "        price = df['Trade Price'].iloc[i]\n",
    "        volume = df['Trade Volume'].iloc[i]\n",
    "        index = df.index.values[i]\n",
    "        \n",
    "        if df['Trade Sign'].iloc[i] != 0:\n",
    "            buffer.append({\n",
    "                'Date_Time':index,\n",
    "                'Trade Price':price,\n",
    "                'Trade Volume':volume\n",
    "            })\n",
    "            \n",
    "    buffer = pd.DataFrame(buffer).set_index('Date_Time')\n",
    "    return buffer"
   ]
  },
  {
   "cell_type": "code",
   "execution_count": 81,
   "metadata": {},
   "outputs": [],
   "source": [
    "AAPL_PriceActionBars = process_run_bars(AAPL_timeindex)"
   ]
  },
  {
   "cell_type": "code",
   "execution_count": 82,
   "metadata": {},
   "outputs": [
    {
     "data": {
      "text/html": [
       "<div>\n",
       "<style scoped>\n",
       "    .dataframe tbody tr th:only-of-type {\n",
       "        vertical-align: middle;\n",
       "    }\n",
       "\n",
       "    .dataframe tbody tr th {\n",
       "        vertical-align: top;\n",
       "    }\n",
       "\n",
       "    .dataframe thead th {\n",
       "        text-align: right;\n",
       "    }\n",
       "</style>\n",
       "<table border=\"1\" class=\"dataframe\">\n",
       "  <thead>\n",
       "    <tr style=\"text-align: right;\">\n",
       "      <th></th>\n",
       "      <th>Trade Price</th>\n",
       "      <th>Trade Volume</th>\n",
       "    </tr>\n",
       "    <tr>\n",
       "      <th>Date_Time</th>\n",
       "      <th></th>\n",
       "      <th></th>\n",
       "    </tr>\n",
       "  </thead>\n",
       "  <tbody>\n",
       "    <tr>\n",
       "      <th>1900-01-01 09:30:00.085361166</th>\n",
       "      <td>204.35</td>\n",
       "      <td>5</td>\n",
       "    </tr>\n",
       "    <tr>\n",
       "      <th>1900-01-01 09:30:00.089440105</th>\n",
       "      <td>204.31</td>\n",
       "      <td>28</td>\n",
       "    </tr>\n",
       "    <tr>\n",
       "      <th>1900-01-01 09:30:00.089440273</th>\n",
       "      <td>204.30</td>\n",
       "      <td>65</td>\n",
       "    </tr>\n",
       "    <tr>\n",
       "      <th>1900-01-01 09:30:00.089464624</th>\n",
       "      <td>204.26</td>\n",
       "      <td>200</td>\n",
       "    </tr>\n",
       "    <tr>\n",
       "      <th>1900-01-01 09:30:00.089918275</th>\n",
       "      <td>204.30</td>\n",
       "      <td>10</td>\n",
       "    </tr>\n",
       "    <tr>\n",
       "      <th>...</th>\n",
       "      <td>...</td>\n",
       "      <td>...</td>\n",
       "    </tr>\n",
       "    <tr>\n",
       "      <th>1900-01-01 15:59:59.989959329</th>\n",
       "      <td>201.59</td>\n",
       "      <td>100</td>\n",
       "    </tr>\n",
       "    <tr>\n",
       "      <th>1900-01-01 15:59:59.992964359</th>\n",
       "      <td>201.56</td>\n",
       "      <td>100</td>\n",
       "    </tr>\n",
       "    <tr>\n",
       "      <th>1900-01-01 15:59:59.993033270</th>\n",
       "      <td>201.59</td>\n",
       "      <td>100</td>\n",
       "    </tr>\n",
       "    <tr>\n",
       "      <th>1900-01-01 16:00:00.225387894</th>\n",
       "      <td>201.57</td>\n",
       "      <td>2374</td>\n",
       "    </tr>\n",
       "    <tr>\n",
       "      <th>1900-01-01 16:15:00.006035274</th>\n",
       "      <td>201.59</td>\n",
       "      <td>0</td>\n",
       "    </tr>\n",
       "  </tbody>\n",
       "</table>\n",
       "<p>278424 rows × 2 columns</p>\n",
       "</div>"
      ],
      "text/plain": [
       "                               Trade Price  Trade Volume\n",
       "Date_Time                                               \n",
       "1900-01-01 09:30:00.085361166       204.35             5\n",
       "1900-01-01 09:30:00.089440105       204.31            28\n",
       "1900-01-01 09:30:00.089440273       204.30            65\n",
       "1900-01-01 09:30:00.089464624       204.26           200\n",
       "1900-01-01 09:30:00.089918275       204.30            10\n",
       "...                                    ...           ...\n",
       "1900-01-01 15:59:59.989959329       201.59           100\n",
       "1900-01-01 15:59:59.992964359       201.56           100\n",
       "1900-01-01 15:59:59.993033270       201.59           100\n",
       "1900-01-01 16:00:00.225387894       201.57          2374\n",
       "1900-01-01 16:15:00.006035274       201.59             0\n",
       "\n",
       "[278424 rows x 2 columns]"
      ]
     },
     "execution_count": 82,
     "metadata": {},
     "output_type": "execute_result"
    }
   ],
   "source": [
    "AAPL_PriceActionBars"
   ]
  },
  {
   "cell_type": "code",
   "execution_count": null,
   "metadata": {},
   "outputs": [],
   "source": []
  }
 ],
 "metadata": {
  "kernelspec": {
   "display_name": "Python 3",
   "language": "python",
   "name": "python3"
  },
  "language_info": {
   "codemirror_mode": {
    "name": "ipython",
    "version": 3
   },
   "file_extension": ".py",
   "mimetype": "text/x-python",
   "name": "python",
   "nbconvert_exporter": "python",
   "pygments_lexer": "ipython3",
   "version": "3.7.1"
  }
 },
 "nbformat": 4,
 "nbformat_minor": 4
}
