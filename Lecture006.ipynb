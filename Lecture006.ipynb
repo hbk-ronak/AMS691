{
 "cells": [
  {
   "cell_type": "markdown",
   "metadata": {},
   "source": [
    "# Elements of EDA and Control Theory"
   ]
  },
  {
   "cell_type": "code",
   "execution_count": 1,
   "metadata": {},
   "outputs": [],
   "source": [
    "import scipy.stats as stats\n",
    "import pylab\n",
    "import numpy as np\n",
    "import pandas as pd\n",
    "import statsmodels.api as sm\n",
    "import mplfinance as fplt\n",
    "import math\n",
    "from matplotlib import pyplot as plt\n",
    "import scipy\n",
    "import BarSampler as bs\n",
    "def get_log_return(df):\n",
    "    log_returns = pd.Series(np.log((df['close'] - df['open'])/df['open'] + 1),name='log returns')\n",
    "    return pd.concat([df,log_returns], axis=1)"
   ]
  },
  {
   "cell_type": "code",
   "execution_count": 2,
   "metadata": {},
   "outputs": [],
   "source": [
    "AAPL_timeindex = pd.read_csv(\"/Users/michael/Documents/Stony Brook/AMS 691 Fall 2020/Lecture005/AAPL_cleaned.csv\")\n",
    "AAPL_timeindex[\"Date_Time\"] = pd.to_datetime(AAPL_timeindex[\"Date_Time\"])\n",
    "AAPL_timeindex = AAPL_timeindex.set_index(\"Date_Time\")"
   ]
  },
  {
   "cell_type": "code",
   "execution_count": 3,
   "metadata": {},
   "outputs": [
    {
     "data": {
      "text/html": [
       "<div>\n",
       "<style scoped>\n",
       "    .dataframe tbody tr th:only-of-type {\n",
       "        vertical-align: middle;\n",
       "    }\n",
       "\n",
       "    .dataframe tbody tr th {\n",
       "        vertical-align: top;\n",
       "    }\n",
       "\n",
       "    .dataframe thead th {\n",
       "        text-align: right;\n",
       "    }\n",
       "</style>\n",
       "<table border=\"1\" class=\"dataframe\">\n",
       "  <thead>\n",
       "    <tr style=\"text-align: right;\">\n",
       "      <th></th>\n",
       "      <th>Symbol</th>\n",
       "      <th>Trade Volume</th>\n",
       "      <th>Trade Price</th>\n",
       "      <th>Sale Condition</th>\n",
       "      <th>Trade Correction Indicator</th>\n",
       "    </tr>\n",
       "    <tr>\n",
       "      <th>Date_Time</th>\n",
       "      <th></th>\n",
       "      <th></th>\n",
       "      <th></th>\n",
       "      <th></th>\n",
       "      <th></th>\n",
       "    </tr>\n",
       "  </thead>\n",
       "  <tbody>\n",
       "    <tr>\n",
       "      <th>1900-01-01 09:30:00.036753311</th>\n",
       "      <td>AAPL</td>\n",
       "      <td>20</td>\n",
       "      <td>204.39</td>\n",
       "      <td>@  I</td>\n",
       "      <td>0</td>\n",
       "    </tr>\n",
       "    <tr>\n",
       "      <th>1900-01-01 09:30:00.079162915</th>\n",
       "      <td>AAPL</td>\n",
       "      <td>25</td>\n",
       "      <td>204.39</td>\n",
       "      <td>@  I</td>\n",
       "      <td>0</td>\n",
       "    </tr>\n",
       "    <tr>\n",
       "      <th>1900-01-01 09:30:00.079456147</th>\n",
       "      <td>AAPL</td>\n",
       "      <td>55</td>\n",
       "      <td>204.39</td>\n",
       "      <td>@  I</td>\n",
       "      <td>0</td>\n",
       "    </tr>\n",
       "    <tr>\n",
       "      <th>1900-01-01 09:30:00.085361166</th>\n",
       "      <td>AAPL</td>\n",
       "      <td>5</td>\n",
       "      <td>204.35</td>\n",
       "      <td>@  I</td>\n",
       "      <td>0</td>\n",
       "    </tr>\n",
       "    <tr>\n",
       "      <th>1900-01-01 09:30:00.087596718</th>\n",
       "      <td>AAPL</td>\n",
       "      <td>2</td>\n",
       "      <td>204.35</td>\n",
       "      <td>@  I</td>\n",
       "      <td>0</td>\n",
       "    </tr>\n",
       "  </tbody>\n",
       "</table>\n",
       "</div>"
      ],
      "text/plain": [
       "                              Symbol  Trade Volume  Trade Price  \\\n",
       "Date_Time                                                         \n",
       "1900-01-01 09:30:00.036753311   AAPL            20       204.39   \n",
       "1900-01-01 09:30:00.079162915   AAPL            25       204.39   \n",
       "1900-01-01 09:30:00.079456147   AAPL            55       204.39   \n",
       "1900-01-01 09:30:00.085361166   AAPL             5       204.35   \n",
       "1900-01-01 09:30:00.087596718   AAPL             2       204.35   \n",
       "\n",
       "                              Sale Condition  Trade Correction Indicator  \n",
       "Date_Time                                                                 \n",
       "1900-01-01 09:30:00.036753311           @  I                           0  \n",
       "1900-01-01 09:30:00.079162915           @  I                           0  \n",
       "1900-01-01 09:30:00.079456147           @  I                           0  \n",
       "1900-01-01 09:30:00.085361166           @  I                           0  \n",
       "1900-01-01 09:30:00.087596718           @  I                           0  "
      ]
     },
     "execution_count": 3,
     "metadata": {},
     "output_type": "execute_result"
    }
   ],
   "source": [
    "AAPL_timeindex.head()"
   ]
  },
  {
   "cell_type": "code",
   "execution_count": 4,
   "metadata": {},
   "outputs": [
    {
     "data": {
      "text/html": [
       "<div>\n",
       "<style scoped>\n",
       "    .dataframe tbody tr th:only-of-type {\n",
       "        vertical-align: middle;\n",
       "    }\n",
       "\n",
       "    .dataframe tbody tr th {\n",
       "        vertical-align: top;\n",
       "    }\n",
       "\n",
       "    .dataframe thead th {\n",
       "        text-align: right;\n",
       "    }\n",
       "</style>\n",
       "<table border=\"1\" class=\"dataframe\">\n",
       "  <thead>\n",
       "    <tr style=\"text-align: right;\">\n",
       "      <th></th>\n",
       "      <th>open</th>\n",
       "      <th>high</th>\n",
       "      <th>low</th>\n",
       "      <th>close</th>\n",
       "      <th>Trade Volume</th>\n",
       "      <th>log returns</th>\n",
       "    </tr>\n",
       "    <tr>\n",
       "      <th>Date_Time</th>\n",
       "      <th></th>\n",
       "      <th></th>\n",
       "      <th></th>\n",
       "      <th></th>\n",
       "      <th></th>\n",
       "      <th></th>\n",
       "    </tr>\n",
       "  </thead>\n",
       "  <tbody>\n",
       "    <tr>\n",
       "      <th>1900-01-01 09:31:00</th>\n",
       "      <td>204.39</td>\n",
       "      <td>204.39</td>\n",
       "      <td>203.02</td>\n",
       "      <td>203.2400</td>\n",
       "      <td>1328462</td>\n",
       "      <td>-0.005642</td>\n",
       "    </tr>\n",
       "    <tr>\n",
       "      <th>1900-01-01 09:32:00</th>\n",
       "      <td>203.26</td>\n",
       "      <td>204.39</td>\n",
       "      <td>202.28</td>\n",
       "      <td>202.4532</td>\n",
       "      <td>758040</td>\n",
       "      <td>-0.003977</td>\n",
       "    </tr>\n",
       "    <tr>\n",
       "      <th>1900-01-01 09:33:00</th>\n",
       "      <td>202.49</td>\n",
       "      <td>204.39</td>\n",
       "      <td>201.63</td>\n",
       "      <td>202.1100</td>\n",
       "      <td>903186</td>\n",
       "      <td>-0.001878</td>\n",
       "    </tr>\n",
       "    <tr>\n",
       "      <th>1900-01-01 09:34:00</th>\n",
       "      <td>202.16</td>\n",
       "      <td>204.39</td>\n",
       "      <td>201.70</td>\n",
       "      <td>202.4200</td>\n",
       "      <td>605879</td>\n",
       "      <td>0.001285</td>\n",
       "    </tr>\n",
       "    <tr>\n",
       "      <th>1900-01-01 09:35:00</th>\n",
       "      <td>202.42</td>\n",
       "      <td>204.39</td>\n",
       "      <td>202.39</td>\n",
       "      <td>203.1063</td>\n",
       "      <td>577415</td>\n",
       "      <td>0.003385</td>\n",
       "    </tr>\n",
       "  </tbody>\n",
       "</table>\n",
       "</div>"
      ],
      "text/plain": [
       "                       open    high     low     close  Trade Volume  \\\n",
       "Date_Time                                                             \n",
       "1900-01-01 09:31:00  204.39  204.39  203.02  203.2400       1328462   \n",
       "1900-01-01 09:32:00  203.26  204.39  202.28  202.4532        758040   \n",
       "1900-01-01 09:33:00  202.49  204.39  201.63  202.1100        903186   \n",
       "1900-01-01 09:34:00  202.16  204.39  201.70  202.4200        605879   \n",
       "1900-01-01 09:35:00  202.42  204.39  202.39  203.1063        577415   \n",
       "\n",
       "                     log returns  \n",
       "Date_Time                         \n",
       "1900-01-01 09:31:00    -0.005642  \n",
       "1900-01-01 09:32:00    -0.003977  \n",
       "1900-01-01 09:33:00    -0.001878  \n",
       "1900-01-01 09:34:00     0.001285  \n",
       "1900-01-01 09:35:00     0.003385  "
      ]
     },
     "execution_count": 4,
     "metadata": {},
     "output_type": "execute_result"
    }
   ],
   "source": [
    "AAPL_1Minbars_vol = bs.process_time_bars(AAPL_timeindex,frequency='1Min')\n",
    "AAPL_1Minbars = get_log_return(AAPL_1Minbars_vol)\n",
    "AAPL_1Minbars.head()"
   ]
  },
  {
   "cell_type": "code",
   "execution_count": 5,
   "metadata": {},
   "outputs": [
    {
     "data": {
      "text/html": [
       "<div>\n",
       "<style scoped>\n",
       "    .dataframe tbody tr th:only-of-type {\n",
       "        vertical-align: middle;\n",
       "    }\n",
       "\n",
       "    .dataframe tbody tr th {\n",
       "        vertical-align: top;\n",
       "    }\n",
       "\n",
       "    .dataframe thead th {\n",
       "        text-align: right;\n",
       "    }\n",
       "</style>\n",
       "<table border=\"1\" class=\"dataframe\">\n",
       "  <thead>\n",
       "    <tr style=\"text-align: right;\">\n",
       "      <th></th>\n",
       "      <th>open</th>\n",
       "      <th>high</th>\n",
       "      <th>low</th>\n",
       "      <th>close</th>\n",
       "      <th>volume</th>\n",
       "      <th>log returns</th>\n",
       "    </tr>\n",
       "    <tr>\n",
       "      <th>Date_Time</th>\n",
       "      <th></th>\n",
       "      <th></th>\n",
       "      <th></th>\n",
       "      <th></th>\n",
       "      <th></th>\n",
       "      <th></th>\n",
       "    </tr>\n",
       "  </thead>\n",
       "  <tbody>\n",
       "    <tr>\n",
       "      <th>1900-01-01 09:30:38.905320890</th>\n",
       "      <td>204.3900</td>\n",
       "      <td>204.39</td>\n",
       "      <td>203.02</td>\n",
       "      <td>203.5600</td>\n",
       "      <td>1118467</td>\n",
       "      <td>-0.004069</td>\n",
       "    </tr>\n",
       "    <tr>\n",
       "      <th>1900-01-01 09:32:11.220120409</th>\n",
       "      <td>203.5600</td>\n",
       "      <td>204.39</td>\n",
       "      <td>202.28</td>\n",
       "      <td>202.5000</td>\n",
       "      <td>1102189</td>\n",
       "      <td>-0.005221</td>\n",
       "    </tr>\n",
       "    <tr>\n",
       "      <th>1900-01-01 09:33:37.899982753</th>\n",
       "      <td>202.5000</td>\n",
       "      <td>204.39</td>\n",
       "      <td>201.63</td>\n",
       "      <td>201.8600</td>\n",
       "      <td>1094880</td>\n",
       "      <td>-0.003165</td>\n",
       "    </tr>\n",
       "    <tr>\n",
       "      <th>1900-01-01 09:35:37.056230217</th>\n",
       "      <td>201.8600</td>\n",
       "      <td>204.39</td>\n",
       "      <td>201.78</td>\n",
       "      <td>202.8158</td>\n",
       "      <td>1116528</td>\n",
       "      <td>0.004724</td>\n",
       "    </tr>\n",
       "    <tr>\n",
       "      <th>1900-01-01 09:38:19.058079278</th>\n",
       "      <td>202.8184</td>\n",
       "      <td>204.39</td>\n",
       "      <td>201.70</td>\n",
       "      <td>202.4400</td>\n",
       "      <td>974886</td>\n",
       "      <td>-0.001867</td>\n",
       "    </tr>\n",
       "  </tbody>\n",
       "</table>\n",
       "</div>"
      ],
      "text/plain": [
       "                                   open    high     low     close   volume  \\\n",
       "Date_Time                                                                    \n",
       "1900-01-01 09:30:38.905320890  204.3900  204.39  203.02  203.5600  1118467   \n",
       "1900-01-01 09:32:11.220120409  203.5600  204.39  202.28  202.5000  1102189   \n",
       "1900-01-01 09:33:37.899982753  202.5000  204.39  201.63  201.8600  1094880   \n",
       "1900-01-01 09:35:37.056230217  201.8600  204.39  201.78  202.8158  1116528   \n",
       "1900-01-01 09:38:19.058079278  202.8184  204.39  201.70  202.4400   974886   \n",
       "\n",
       "                               log returns  \n",
       "Date_Time                                   \n",
       "1900-01-01 09:30:38.905320890    -0.004069  \n",
       "1900-01-01 09:32:11.220120409    -0.005221  \n",
       "1900-01-01 09:33:37.899982753    -0.003165  \n",
       "1900-01-01 09:35:37.056230217     0.004724  \n",
       "1900-01-01 09:38:19.058079278    -0.001867  "
      ]
     },
     "execution_count": 5,
     "metadata": {},
     "output_type": "execute_result"
    }
   ],
   "source": [
    "AAPL_10KTickbars_vol = bs.process_tick_bars(AAPL_timeindex,frequency=10000)\n",
    "AAPL_10KTickbars_vol = get_log_return(AAPL_10KTickbars_vol)\n",
    "AAPL_10KTickbars_vol.head()"
   ]
  },
  {
   "cell_type": "markdown",
   "metadata": {},
   "source": [
    "## Control Theory"
   ]
  },
  {
   "cell_type": "markdown",
   "metadata": {},
   "source": [
    "**Statistical process control** (SPC) is a powerful collection of problem-solving tools useful in achieving process stability and improving capability through the reduction of variability. In any process a certain amount of inherent or natural variability will always exist. This natural variability or “noise” is the cumulative effect of many small, essentially unavoidable causes. In the framework of statistical quality control, this natural variability is often called a “stable system of chance causes.” A process that is operating with only chance causes of variation present is said to be **in statistical control**. In other words, the chance causes are an inherent part of the process. Other kinds of variability may occasionally be present in the output of a process. We refer to these sources of variability that are not part of the chance cause pattern as assignable causes of variation. A process that is operating in the presence of assignable causes is said to be an **out-of-control process**. We are interested in the detection of possible assignable causes of variation. This might be detected by a shift in mean of standard deviation for example. Processes will often operate in the in-control state for relatively long periods of time. However, no process is truly stable forever, and, eventually, assignable causes will occur, seemingly at random, resulting in a shift to an out-of-control state where a larger proportion of the process output does not conform to requirements. A major objective of statistical process control is to quickly detect the occurrence of assignable causes of process shifts so that investigation of the process and corrective action may be undertaken. The control chart is an on-line process-monitoring technique widely used for this purpose."
   ]
  },
  {
   "cell_type": "markdown",
   "metadata": {},
   "source": [
    "The **control chart** is a graphical display of a characteristic that has been measured or computed from a sample versus the sample number or time. The chart contains a **center line** that represents some notion of center (perhaps the mean) of the characteristic corresponding to the in-control state (that is, only chance causes are present). Two other horizontal lines, called the **upper control limit (UCL)** and the **lower control limit (LCL)**, are also shown on the chart. These control limits are chosen so that if the process is in control, nearly all of the sample points will fall between them. Once a point falls outside these limits there could be the need for investigation or action. There is however a possible exception to this. Even if all the points fall inside the control limits, if they behave in a systematic or nonrandom manner, then this could be an indication that the process is out of control."
   ]
  },
  {
   "cell_type": "code",
   "execution_count": 26,
   "metadata": {},
   "outputs": [
    {
     "data": {
      "text/plain": [
       "<matplotlib.collections.PathCollection at 0x7f8ba84d14a8>"
      ]
     },
     "execution_count": 26,
     "metadata": {},
     "output_type": "execute_result"
    },
    {
     "data": {
      "image/png": "[encoded data removed]",
      "text/plain": [
       "<Figure size 432x288 with 1 Axes>"
      ]
     },
     "metadata": {
      "needs_background": "light"
     },
     "output_type": "display_data"
    }
   ],
   "source": [
    "vnRand = np.random.rand(50)\n",
    "plt.plot(range(50),vnRand)\n",
    "plt.hlines([vnRand.mean(),vnRand.mean() + 3*vnRand.std(),vnRand.mean() - 3*vnRand.std()],0,50,linestyles='dashed')\n",
    "plt.scatter(range(50),vnRand)"
   ]
  },
  {
   "cell_type": "markdown",
   "metadata": {},
   "source": [
    "If the process is in control, all the plotted points should have an essentially random pattern. Methods for looking for sequences or nonrandom patterns can be applied to control charts as an aid in detecting out-of-control conditions."
   ]
  },
  {
   "cell_type": "markdown",
   "metadata": {},
   "source": [
    "There is a close connection between control charts and hypothesis testing. To illustrate this connection, suppose that the vertical axis in the plot above is the sample average $\\bar{x}$. Now, if the current value of $x$ plots between the control limits, we conclude that the process mean is in control; that is, it is equal to the value $\\mu_0$. On the other hand, if $x$ exceeds either control limit, we conclude that the process mean is out of control; that is, it is equal to some value $\\mu_1 \\neq 􏰀\\mu_0$. In a sense, then, the control chart is a test of the hypothesis that the process is in a state of statistical control. A point plotting within the control limits is equivalent to failing to reject the hypothesis of statistical control, and a point plotting outside the control limits is equivalent to rejecting the hypothesis of statistical control. The hypothesis testing framework is useful in many ways, but there are some differences in viewpoint between control charts and hypothesis tests. For example, when testing statistical hypotheses, we usually check the validity of assumptions, whereas control charts are used to detect departures from an assumed state of statistical control. Furthermore, an assignable cause can result in many different types of shifts in the process parameters. For example, the mean could shift instantaneously to a new value and remain there (this is sometimes called a **sustained shift**); or it could shift abruptly; but the assignable cause could be short-lived and the mean could then return to its nominal or in-control value; or the assignable cause could result in a steady drift or trend in the value of the mean. Only the sus- tained shift fits nicely within the usual statistical hypothesis testing model."
   ]
  },
  {
   "cell_type": "markdown",
   "metadata": {},
   "source": [
    "One place where the hypothesis testing framework is useful is in analyzing the performance of a control chart. For example, we may think of the probability of type I error of the control chart (concluding the process is out of control when it is really in control) and the probability of type II error of the control chart (concluding the process is in control when it is really out of control). It is occasionally helpful to use the operating-characteristic curve of a control chart to display its probability of type II error. This would be an indication of the ability of the control chart to detect process shifts of different magnitudes. This can be of value in determining which type of control chart to apply in certain situations. "
   ]
  },
  {
   "cell_type": "markdown",
   "metadata": {},
   "source": [
    "Let us look at an example to illustrate. Let us consider the log return process on our stock. One approach would be to use data from the past 4 trading days to get an estimate for the mean and standard deviation, and then apply it to the 5th day. In reality we would do something more sophisticated to estimate $\\mu$ and $\\sigma$, but for the purpose of our example we keep it simple. "
   ]
  },
  {
   "cell_type": "markdown",
   "metadata": {},
   "source": [
    "Recall that using the central limit theorem the sample mean is normally distributed with standard deviation\n",
    "$$\\sigma_{\\bar{x}} = \\frac{\\sigma}{\\sqrt{n}}$$\n",
    "where $n$ is the sample size. Thus we can assume that $100(1-\\alpha)$ percent of the data is between $\\bar{x} + Z_{\\alpha/2}\\sigma_{\\bar{x}}$ and $\\bar{x} - Z_{\\alpha/2}\\sigma_{\\bar{x}}$. These two values will be our UCL and LCL."
   ]
  },
  {
   "cell_type": "code",
   "execution_count": 25,
   "metadata": {},
   "outputs": [
    {
     "data": {
      "text/plain": [
       "<matplotlib.collections.PathCollection at 0x7f8bc85be048>"
      ]
     },
     "execution_count": 25,
     "metadata": {},
     "output_type": "execute_result"
    },
    {
     "data": {
      "image/png": "[encoded data removed]",
      "text/plain": [
       "<Figure size 432x288 with 1 Axes>"
      ]
     },
     "metadata": {
      "needs_background": "light"
     },
     "output_type": "display_data"
    }
   ],
   "source": [
    "vnSampleMean = AAPL_10KTickbars_vol['log returns'].mean()\n",
    "vnSampleStd = AAPL_10KTickbars_vol['log returns'].std()\n",
    "nSampleSize = 4\n",
    "nLength = len(AAPL_10KTickbars_vol['log returns'])\n",
    "vnSampleMeanStd = vnSampleStd/math.sqrt(nSampleSize)\n",
    "plt.plot(range(nLength),AAPL_10KTickbars_vol['log returns'])\n",
    "plt.hlines([vnSampleMean,vnSampleMean + 3*vnSampleMeanStd,vnSampleMean - 3*vnSampleMeanStd],0,nLength,linestyles='dashed')\n",
    "plt.scatter(range(nLength),AAPL_10KTickbars_vol['log returns'])"
   ]
  },
  {
   "cell_type": "code",
   "execution_count": 18,
   "metadata": {},
   "outputs": [
    {
     "data": {
      "text/plain": [
       "20.0"
      ]
     },
     "execution_count": 18,
     "metadata": {},
     "output_type": "execute_result"
    }
   ],
   "source": [
    "11/nLength*100"
   ]
  },
  {
   "cell_type": "code",
   "execution_count": 19,
   "metadata": {},
   "outputs": [
    {
     "data": {
      "text/plain": [
       "55"
      ]
     },
     "execution_count": 19,
     "metadata": {},
     "output_type": "execute_result"
    }
   ],
   "source": [
    "nLength"
   ]
  },
  {
   "cell_type": "markdown",
   "metadata": {},
   "source": [
    "One of the issues that the control chart above highlights is the dangers of using asymptotic statistics. It is true that $\\bar{x} \\sim \\mathcal{N}(\\mu,\\frac{\\sigma}{\\sqrt{n}})$ *in the limit*. But when do we actually have enough data to reach that limit? We never really do. It would probably be more appropriate to make a different distributional assumption to establish the UCL and LCL. We could also try an use some non-parametric approach."
   ]
  },
  {
   "cell_type": "markdown",
   "metadata": {},
   "source": [
    "For the chart shown above, where three-sigma control limits were used, if we assume that the mean is normally distributed, we find that the probability of type I error is 0.0027. That is, an incorrect out-of-control signal or false alarm will be generated in only 27 out of 10,000 points. Furthermore, the probability that a point taken when the process is in control will exceed the three-sigma limits in one direction only is 0.00135. The chart above shows that this is clearly not the case. This, again, makes us question distributional assumptions. Instead of specifying the control limit as a multiple of the standard deviation of x, we could have directly chosen the type I error probability and calculated the corresponding control limit. For example, if we specified a 0.001 type I error probability in one direction, then the appropriate multiple of the standard deviation would be 3.09. Again this assumes a normal distribution on $\\bar{x}$. When done this way, these types of control limits are usually called **0.001 probability limits**."
   ]
  },
  {
   "cell_type": "markdown",
   "metadata": {},
   "source": [
    "Another important consideration in control chart usage is the type of variability exhibited by the process. The price process below illustrates nonstationary variation. This type of process data occurs frequently in finance. Note that the process is very unstable in that it drifts or “wanders about” without any sense of a stable or fixed mean. In many industrial settings, we stabilize this type of behavior by using **engineering process control** (such as **feedback control**)."
   ]
  },
  {
   "cell_type": "code",
   "execution_count": 21,
   "metadata": {},
   "outputs": [
    {
     "data": {
      "text/plain": [
       "<matplotlib.collections.PathCollection at 0x7f8bdb69a0b8>"
      ]
     },
     "execution_count": 21,
     "metadata": {},
     "output_type": "execute_result"
    },
    {
     "data": {
      "image/png": "[encoded data removed]",
      "text/plain": [
       "<Figure size 432x288 with 1 Axes>"
      ]
     },
     "metadata": {
      "needs_background": "light"
     },
     "output_type": "display_data"
    }
   ],
   "source": [
    "vnSampleMeanPrice = AAPL_timeindex['Trade Price'].mean()\n",
    "vnSampleStdPrice = AAPL_timeindex['Trade Price'].std()\n",
    "nSampleSizePrice = len(AAPL_timeindex['Trade Price'])\n",
    "vnSampleMeanStdPrice = vnSampleStdPrice/math.sqrt(nSampleSizePrice)\n",
    "plt.plot(range(nSampleSizePrice),AAPL_timeindex['Trade Price'])\n",
    "plt.hlines([vnSampleMeanPrice,vnSampleMeanPrice + 3*vnSampleMeanStdPrice,\n",
    "            vnSampleMeanPrice - 3*vnSampleMeanStdPrice],0,nSampleSizePrice,linestyles='dashed')\n",
    "plt.scatter(range(nSampleSizePrice),AAPL_timeindex['Trade Price'])"
   ]
  },
  {
   "cell_type": "code",
   "execution_count": 22,
   "metadata": {},
   "outputs": [
    {
     "data": {
      "text/plain": [
       "[200.75696878933687,\n",
       " 1.1415771266724506,\n",
       " 0.0015299879726509613,\n",
       " 200.76155875325483]"
      ]
     },
     "execution_count": 22,
     "metadata": {},
     "output_type": "execute_result"
    }
   ],
   "source": [
    "[vnSampleMeanPrice,vnSampleStdPrice,vnSampleMeanStdPrice,vnSampleMeanPrice + 3*vnSampleMeanStdPrice]"
   ]
  },
  {
   "cell_type": "markdown",
   "metadata": {},
   "source": [
    "In designing a control chart, we must specify both the sample size and the frequency of sampling. In general, larger samples will make it easier to detect small shifts in the process. When choosing the sample size, we must keep in mind the size of the shift that we are trying to detect. If the process shift is relatively large, then we use smaller sample sizes than those that would be employed if the shift of interest were relatively small. We must also determine the frequency of sampling. The most desirable situation from the point of view of detecting shifts would be to take large samples very frequently; however, this is usually not feasible as a number of issues arise in finance. The general problem is one of allocating sampling effort. That is, either we take small samples at short intervals or larger samples at longer intervals."
   ]
  },
  {
   "cell_type": "markdown",
   "metadata": {},
   "source": [
    "One way to evaluate the decisions regarding sample size and sampling frequency is through the average run length (ARL) of the control chart. Essentially, the ARL is the average number of points that must be plotted before a point indicates an out-of-control condition. If the process observations are uncorrelated, then for any control chart, the ARL can be calculated easily from\n",
    "$$ARL = \\frac{1}{p}$$\n",
    "where $p$ is the probability that any point exceeds the control limits. "
   ]
  },
  {
   "cell_type": "markdown",
   "metadata": {},
   "source": [
    "## The CUSUM Filter"
   ]
  },
  {
   "cell_type": "markdown",
   "metadata": {},
   "source": [
    "This is a technique from statistical quality control which falls into the area of sequential analysis. It was first published in Page, E. S. (June 1954). \"Continuous Inspection Scheme\". Biometrika. 41. Sequential analysis contains many important ideas directly applicable to finance. It's first serious investigations were done by Abraham Wald, the gentleman resposible for the concept of survivor bias. Statistical process control is also an area very relevant to finance as seen above. We will investgate addtional concepts from both areas throughout the semester. "
   ]
  },
  {
   "cell_type": "markdown",
   "metadata": {},
   "source": [
    "Consider the process below where the first 20 samples are drawn from a $\\mathcal{N}(10,1)$ and the last 10 samples are drawn from a $\\mathcal{N}(11,1)$. Although the control chart shows that the process is in control, it is actually not since there has been a shift in the mean. The problem is the shift was small, $1\\sigma$. None of these points plots outside the control limits, so we have no strong evidence that the process is out of control. Note that there is an indication of a shift in process level for the last 10 points, because all but one of the points plot above the center line. However, if we rely on the traditional signal of an out-of-control process, one or more points beyond a three-sigma control limit, then the Shewhart control chart has failed to detect the shift. The reason for this failure, of course, is the relatively small magnitude of the shift. For smaller shifts, it is not as effective. The cumulative sum (or CUSUM) control chart is a good alternative when small shifts are important."
   ]
  },
  {
   "cell_type": "code",
   "execution_count": 27,
   "metadata": {},
   "outputs": [
    {
     "data": {
      "text/plain": [
       "<matplotlib.collections.PathCollection at 0x7f8b880a9518>"
      ]
     },
     "execution_count": 27,
     "metadata": {},
     "output_type": "execute_result"
    },
    {
     "data": {
      "image/png": "[encoded data removed]",
      "text/plain": [
       "<Figure size 432x288 with 1 Axes>"
      ]
     },
     "metadata": {
      "needs_background": "light"
     },
     "output_type": "display_data"
    }
   ],
   "source": [
    "vnRand = np.concatenate((np.random.normal(10,1,20),np.random.normal(11,1,10)))\n",
    "plt.plot(range(30),vnRand)\n",
    "plt.hlines([vnRand.mean(),vnRand.mean() + 3*vnRand.std(),vnRand.mean() - 3*vnRand.std()],0,30,linestyles='dashed')\n",
    "plt.scatter(range(30),vnRand)"
   ]
  },
  {
   "cell_type": "markdown",
   "metadata": {},
   "source": [
    "Let us start by assuming we have some time series $\\{y_t\\}$ for $t=1,\\ldots, T$ coming from some stationary process. CUSUM is implimented by defining a series of cumulative sums as follows\n",
    "$$S_0 = 0$$\n",
    "$$S_t = max\\{0, S_{t-1} + y_t - \\omega\\}$$\n",
    "Here $\\omega$ is some weight. One common choice of weight is $E[y_{t-1}]$. Another is the likelihood function. We will use the simple choice $y_{t-1}$. As we stated above we want to detect some kind of structural change. To do this we want to track when $S_t$ breached some threshold or holding barrier $h$."
   ]
  },
  {
   "cell_type": "markdown",
   "metadata": {},
   "source": [
    "One issue with the implementation above is that we only care about breaching some upper level. We may be concerned about breaching some lower level as well. To this end we can use a symmetric CUSUM filter. \n",
    "$$S^+_0 = 0, \\; S^-_0 = 0$$\n",
    "$$S^+_t = max\\{0, S^+_{t-1} + y_t - \\omega\\}$$\n",
    "$$S^-_t = min\\{0, S^-_{t-1} + y_t - \\omega\\}$$\n",
    "$$S_t = max\\{S^+_t, -S^-_t\\}$$"
   ]
  },
  {
   "cell_type": "code",
   "execution_count": 31,
   "metadata": {},
   "outputs": [],
   "source": [
    "def CusumEvents(series,breakout): \n",
    "    times,SPlus,SMinus = [],0,0 \n",
    "    diff = series.diff()\n",
    "    for i in diff.index[1:]:\n",
    "        SPlus,SMinus=max(0,SPlus+diff.loc[i]),min(0,SMinus+diff.loc[i]) \n",
    "        if SMinus < -breakout:\n",
    "            SMinus = 0\n",
    "            times.append(i)\n",
    "        elif SPlus > breakout:\n",
    "            SPlus = 0\n",
    "            times.append(i) \n",
    "    return pd.DatetimeIndex(times)"
   ]
  },
  {
   "cell_type": "code",
   "execution_count": 28,
   "metadata": {},
   "outputs": [
    {
     "data": {
      "text/plain": [
       "0.0008709147799018835"
      ]
     },
     "execution_count": 28,
     "metadata": {},
     "output_type": "execute_result"
    }
   ],
   "source": [
    "AAPL_1Minbars['log returns'].std()"
   ]
  },
  {
   "cell_type": "code",
   "execution_count": 29,
   "metadata": {},
   "outputs": [
    {
     "data": {
      "text/html": [
       "<div>\n",
       "<style scoped>\n",
       "    .dataframe tbody tr th:only-of-type {\n",
       "        vertical-align: middle;\n",
       "    }\n",
       "\n",
       "    .dataframe tbody tr th {\n",
       "        vertical-align: top;\n",
       "    }\n",
       "\n",
       "    .dataframe thead th {\n",
       "        text-align: right;\n",
       "    }\n",
       "</style>\n",
       "<table border=\"1\" class=\"dataframe\">\n",
       "  <thead>\n",
       "    <tr style=\"text-align: right;\">\n",
       "      <th></th>\n",
       "      <th>open</th>\n",
       "      <th>high</th>\n",
       "      <th>low</th>\n",
       "      <th>close</th>\n",
       "      <th>Trade Volume</th>\n",
       "      <th>log returns</th>\n",
       "    </tr>\n",
       "    <tr>\n",
       "      <th>Date_Time</th>\n",
       "      <th></th>\n",
       "      <th></th>\n",
       "      <th></th>\n",
       "      <th></th>\n",
       "      <th></th>\n",
       "      <th></th>\n",
       "    </tr>\n",
       "  </thead>\n",
       "  <tbody>\n",
       "    <tr>\n",
       "      <th>1900-01-01 09:31:00</th>\n",
       "      <td>204.39</td>\n",
       "      <td>204.39</td>\n",
       "      <td>203.02</td>\n",
       "      <td>203.2400</td>\n",
       "      <td>1328462</td>\n",
       "      <td>-0.005642</td>\n",
       "    </tr>\n",
       "    <tr>\n",
       "      <th>1900-01-01 09:32:00</th>\n",
       "      <td>203.26</td>\n",
       "      <td>204.39</td>\n",
       "      <td>202.28</td>\n",
       "      <td>202.4532</td>\n",
       "      <td>758040</td>\n",
       "      <td>-0.003977</td>\n",
       "    </tr>\n",
       "    <tr>\n",
       "      <th>1900-01-01 09:33:00</th>\n",
       "      <td>202.49</td>\n",
       "      <td>204.39</td>\n",
       "      <td>201.63</td>\n",
       "      <td>202.1100</td>\n",
       "      <td>903186</td>\n",
       "      <td>-0.001878</td>\n",
       "    </tr>\n",
       "    <tr>\n",
       "      <th>1900-01-01 09:34:00</th>\n",
       "      <td>202.16</td>\n",
       "      <td>204.39</td>\n",
       "      <td>201.70</td>\n",
       "      <td>202.4200</td>\n",
       "      <td>605879</td>\n",
       "      <td>0.001285</td>\n",
       "    </tr>\n",
       "    <tr>\n",
       "      <th>1900-01-01 09:35:00</th>\n",
       "      <td>202.42</td>\n",
       "      <td>204.39</td>\n",
       "      <td>202.39</td>\n",
       "      <td>203.1063</td>\n",
       "      <td>577415</td>\n",
       "      <td>0.003385</td>\n",
       "    </tr>\n",
       "    <tr>\n",
       "      <th>...</th>\n",
       "      <td>...</td>\n",
       "      <td>...</td>\n",
       "      <td>...</td>\n",
       "      <td>...</td>\n",
       "      <td>...</td>\n",
       "      <td>...</td>\n",
       "    </tr>\n",
       "    <tr>\n",
       "      <th>1900-01-01 16:12:00</th>\n",
       "      <td>NaN</td>\n",
       "      <td>NaN</td>\n",
       "      <td>NaN</td>\n",
       "      <td>NaN</td>\n",
       "      <td>0</td>\n",
       "      <td>NaN</td>\n",
       "    </tr>\n",
       "    <tr>\n",
       "      <th>1900-01-01 16:13:00</th>\n",
       "      <td>NaN</td>\n",
       "      <td>NaN</td>\n",
       "      <td>NaN</td>\n",
       "      <td>NaN</td>\n",
       "      <td>0</td>\n",
       "      <td>NaN</td>\n",
       "    </tr>\n",
       "    <tr>\n",
       "      <th>1900-01-01 16:14:00</th>\n",
       "      <td>NaN</td>\n",
       "      <td>NaN</td>\n",
       "      <td>NaN</td>\n",
       "      <td>NaN</td>\n",
       "      <td>0</td>\n",
       "      <td>NaN</td>\n",
       "    </tr>\n",
       "    <tr>\n",
       "      <th>1900-01-01 16:15:00</th>\n",
       "      <td>NaN</td>\n",
       "      <td>NaN</td>\n",
       "      <td>NaN</td>\n",
       "      <td>NaN</td>\n",
       "      <td>0</td>\n",
       "      <td>NaN</td>\n",
       "    </tr>\n",
       "    <tr>\n",
       "      <th>1900-01-01 16:16:00</th>\n",
       "      <td>201.59</td>\n",
       "      <td>201.59</td>\n",
       "      <td>201.59</td>\n",
       "      <td>201.5900</td>\n",
       "      <td>0</td>\n",
       "      <td>0.000000</td>\n",
       "    </tr>\n",
       "  </tbody>\n",
       "</table>\n",
       "<p>406 rows × 6 columns</p>\n",
       "</div>"
      ],
      "text/plain": [
       "                       open    high     low     close  Trade Volume  \\\n",
       "Date_Time                                                             \n",
       "1900-01-01 09:31:00  204.39  204.39  203.02  203.2400       1328462   \n",
       "1900-01-01 09:32:00  203.26  204.39  202.28  202.4532        758040   \n",
       "1900-01-01 09:33:00  202.49  204.39  201.63  202.1100        903186   \n",
       "1900-01-01 09:34:00  202.16  204.39  201.70  202.4200        605879   \n",
       "1900-01-01 09:35:00  202.42  204.39  202.39  203.1063        577415   \n",
       "...                     ...     ...     ...       ...           ...   \n",
       "1900-01-01 16:12:00     NaN     NaN     NaN       NaN             0   \n",
       "1900-01-01 16:13:00     NaN     NaN     NaN       NaN             0   \n",
       "1900-01-01 16:14:00     NaN     NaN     NaN       NaN             0   \n",
       "1900-01-01 16:15:00     NaN     NaN     NaN       NaN             0   \n",
       "1900-01-01 16:16:00  201.59  201.59  201.59  201.5900             0   \n",
       "\n",
       "                     log returns  \n",
       "Date_Time                         \n",
       "1900-01-01 09:31:00    -0.005642  \n",
       "1900-01-01 09:32:00    -0.003977  \n",
       "1900-01-01 09:33:00    -0.001878  \n",
       "1900-01-01 09:34:00     0.001285  \n",
       "1900-01-01 09:35:00     0.003385  \n",
       "...                          ...  \n",
       "1900-01-01 16:12:00          NaN  \n",
       "1900-01-01 16:13:00          NaN  \n",
       "1900-01-01 16:14:00          NaN  \n",
       "1900-01-01 16:15:00          NaN  \n",
       "1900-01-01 16:16:00     0.000000  \n",
       "\n",
       "[406 rows x 6 columns]"
      ]
     },
     "execution_count": 29,
     "metadata": {},
     "output_type": "execute_result"
    }
   ],
   "source": [
    "AAPL_1Minbars"
   ]
  },
  {
   "cell_type": "code",
   "execution_count": 32,
   "metadata": {},
   "outputs": [],
   "source": [
    "events = CusumEvents(AAPL_1Minbars['log returns'],3*AAPL_1Minbars['log returns'].std())"
   ]
  },
  {
   "cell_type": "code",
   "execution_count": 33,
   "metadata": {},
   "outputs": [
    {
     "data": {
      "text/plain": [
       "DatetimeIndex(['1900-01-01 09:33:00', '1900-01-01 09:34:00',\n",
       "               '1900-01-01 09:36:00', '1900-01-01 09:51:00',\n",
       "               '1900-01-01 09:52:00', '1900-01-01 09:57:00',\n",
       "               '1900-01-01 10:05:00', '1900-01-01 10:07:00',\n",
       "               '1900-01-01 10:15:00', '1900-01-01 10:20:00',\n",
       "               '1900-01-01 10:25:00', '1900-01-01 10:30:00',\n",
       "               '1900-01-01 10:32:00', '1900-01-01 10:35:00',\n",
       "               '1900-01-01 10:42:00', '1900-01-01 11:01:00',\n",
       "               '1900-01-01 11:09:00', '1900-01-01 11:16:00',\n",
       "               '1900-01-01 11:27:00', '1900-01-01 11:41:00',\n",
       "               '1900-01-01 11:44:00', '1900-01-01 11:54:00',\n",
       "               '1900-01-01 12:03:00', '1900-01-01 12:12:00',\n",
       "               '1900-01-01 12:14:00', '1900-01-01 13:06:00',\n",
       "               '1900-01-01 13:55:00', '1900-01-01 14:27:00',\n",
       "               '1900-01-01 15:12:00'],\n",
       "              dtype='datetime64[ns]', freq=None)"
      ]
     },
     "execution_count": 33,
     "metadata": {},
     "output_type": "execute_result"
    }
   ],
   "source": [
    "events"
   ]
  },
  {
   "cell_type": "code",
   "execution_count": 34,
   "metadata": {},
   "outputs": [],
   "source": [
    "CumsumSample = AAPL_1Minbars.loc[events]\n",
    "CumsumSample.index.name = \"Date_Time\""
   ]
  },
  {
   "cell_type": "code",
   "execution_count": 35,
   "metadata": {},
   "outputs": [
    {
     "data": {
      "text/html": [
       "<div>\n",
       "<style scoped>\n",
       "    .dataframe tbody tr th:only-of-type {\n",
       "        vertical-align: middle;\n",
       "    }\n",
       "\n",
       "    .dataframe tbody tr th {\n",
       "        vertical-align: top;\n",
       "    }\n",
       "\n",
       "    .dataframe thead th {\n",
       "        text-align: right;\n",
       "    }\n",
       "</style>\n",
       "<table border=\"1\" class=\"dataframe\">\n",
       "  <thead>\n",
       "    <tr style=\"text-align: right;\">\n",
       "      <th></th>\n",
       "      <th>open</th>\n",
       "      <th>high</th>\n",
       "      <th>low</th>\n",
       "      <th>close</th>\n",
       "      <th>Trade Volume</th>\n",
       "      <th>log returns</th>\n",
       "    </tr>\n",
       "    <tr>\n",
       "      <th>Date_Time</th>\n",
       "      <th></th>\n",
       "      <th></th>\n",
       "      <th></th>\n",
       "      <th></th>\n",
       "      <th></th>\n",
       "      <th></th>\n",
       "    </tr>\n",
       "  </thead>\n",
       "  <tbody>\n",
       "    <tr>\n",
       "      <th>1900-01-01 09:33:00</th>\n",
       "      <td>202.4900</td>\n",
       "      <td>204.3900</td>\n",
       "      <td>201.6300</td>\n",
       "      <td>202.1100</td>\n",
       "      <td>903186</td>\n",
       "      <td>-0.001878</td>\n",
       "    </tr>\n",
       "    <tr>\n",
       "      <th>1900-01-01 09:34:00</th>\n",
       "      <td>202.1600</td>\n",
       "      <td>204.3900</td>\n",
       "      <td>201.7000</td>\n",
       "      <td>202.4200</td>\n",
       "      <td>605879</td>\n",
       "      <td>0.001285</td>\n",
       "    </tr>\n",
       "    <tr>\n",
       "      <th>1900-01-01 09:36:00</th>\n",
       "      <td>203.0800</td>\n",
       "      <td>204.3900</td>\n",
       "      <td>202.1700</td>\n",
       "      <td>202.9600</td>\n",
       "      <td>373268</td>\n",
       "      <td>-0.000591</td>\n",
       "    </tr>\n",
       "    <tr>\n",
       "      <th>1900-01-01 09:51:00</th>\n",
       "      <td>201.5200</td>\n",
       "      <td>202.0900</td>\n",
       "      <td>201.4900</td>\n",
       "      <td>201.9700</td>\n",
       "      <td>286694</td>\n",
       "      <td>0.002231</td>\n",
       "    </tr>\n",
       "    <tr>\n",
       "      <th>1900-01-01 09:52:00</th>\n",
       "      <td>201.9600</td>\n",
       "      <td>201.9799</td>\n",
       "      <td>201.5500</td>\n",
       "      <td>201.7000</td>\n",
       "      <td>230489</td>\n",
       "      <td>-0.001288</td>\n",
       "    </tr>\n",
       "    <tr>\n",
       "      <th>1900-01-01 09:57:00</th>\n",
       "      <td>201.5950</td>\n",
       "      <td>201.6200</td>\n",
       "      <td>201.1600</td>\n",
       "      <td>201.2041</td>\n",
       "      <td>326001</td>\n",
       "      <td>-0.001941</td>\n",
       "    </tr>\n",
       "    <tr>\n",
       "      <th>1900-01-01 10:05:00</th>\n",
       "      <td>200.3300</td>\n",
       "      <td>201.0000</td>\n",
       "      <td>200.3300</td>\n",
       "      <td>200.8699</td>\n",
       "      <td>473668</td>\n",
       "      <td>0.002691</td>\n",
       "    </tr>\n",
       "    <tr>\n",
       "      <th>1900-01-01 10:07:00</th>\n",
       "      <td>201.0600</td>\n",
       "      <td>201.1700</td>\n",
       "      <td>200.5300</td>\n",
       "      <td>200.8600</td>\n",
       "      <td>307349</td>\n",
       "      <td>-0.000995</td>\n",
       "    </tr>\n",
       "    <tr>\n",
       "      <th>1900-01-01 10:15:00</th>\n",
       "      <td>198.8600</td>\n",
       "      <td>199.6845</td>\n",
       "      <td>198.8100</td>\n",
       "      <td>199.2300</td>\n",
       "      <td>414962</td>\n",
       "      <td>0.001859</td>\n",
       "    </tr>\n",
       "    <tr>\n",
       "      <th>1900-01-01 10:20:00</th>\n",
       "      <td>199.5750</td>\n",
       "      <td>199.6500</td>\n",
       "      <td>199.2000</td>\n",
       "      <td>199.2800</td>\n",
       "      <td>254737</td>\n",
       "      <td>-0.001479</td>\n",
       "    </tr>\n",
       "    <tr>\n",
       "      <th>1900-01-01 10:25:00</th>\n",
       "      <td>198.4000</td>\n",
       "      <td>198.6200</td>\n",
       "      <td>198.1600</td>\n",
       "      <td>198.5650</td>\n",
       "      <td>427532</td>\n",
       "      <td>0.000831</td>\n",
       "    </tr>\n",
       "    <tr>\n",
       "      <th>1900-01-01 10:30:00</th>\n",
       "      <td>198.8700</td>\n",
       "      <td>198.9700</td>\n",
       "      <td>198.6400</td>\n",
       "      <td>198.6800</td>\n",
       "      <td>260645</td>\n",
       "      <td>-0.000956</td>\n",
       "    </tr>\n",
       "    <tr>\n",
       "      <th>1900-01-01 10:32:00</th>\n",
       "      <td>198.9400</td>\n",
       "      <td>199.4100</td>\n",
       "      <td>198.7696</td>\n",
       "      <td>199.3300</td>\n",
       "      <td>388300</td>\n",
       "      <td>0.001958</td>\n",
       "    </tr>\n",
       "    <tr>\n",
       "      <th>1900-01-01 10:35:00</th>\n",
       "      <td>199.4000</td>\n",
       "      <td>199.4900</td>\n",
       "      <td>199.1200</td>\n",
       "      <td>199.1450</td>\n",
       "      <td>294530</td>\n",
       "      <td>-0.001280</td>\n",
       "    </tr>\n",
       "    <tr>\n",
       "      <th>1900-01-01 10:42:00</th>\n",
       "      <td>198.6500</td>\n",
       "      <td>198.9200</td>\n",
       "      <td>198.6400</td>\n",
       "      <td>198.9051</td>\n",
       "      <td>158421</td>\n",
       "      <td>0.001283</td>\n",
       "    </tr>\n",
       "    <tr>\n",
       "      <th>1900-01-01 11:01:00</th>\n",
       "      <td>201.3454</td>\n",
       "      <td>207.4800</td>\n",
       "      <td>201.0500</td>\n",
       "      <td>201.1150</td>\n",
       "      <td>179148</td>\n",
       "      <td>-0.001145</td>\n",
       "    </tr>\n",
       "    <tr>\n",
       "      <th>1900-01-01 11:09:00</th>\n",
       "      <td>201.2400</td>\n",
       "      <td>201.5900</td>\n",
       "      <td>201.2400</td>\n",
       "      <td>201.5050</td>\n",
       "      <td>256185</td>\n",
       "      <td>0.001316</td>\n",
       "    </tr>\n",
       "    <tr>\n",
       "      <th>1900-01-01 11:16:00</th>\n",
       "      <td>201.0100</td>\n",
       "      <td>201.0100</td>\n",
       "      <td>200.2228</td>\n",
       "      <td>200.6817</td>\n",
       "      <td>179420</td>\n",
       "      <td>-0.001635</td>\n",
       "    </tr>\n",
       "    <tr>\n",
       "      <th>1900-01-01 11:27:00</th>\n",
       "      <td>200.5900</td>\n",
       "      <td>200.8700</td>\n",
       "      <td>200.5400</td>\n",
       "      <td>200.8300</td>\n",
       "      <td>80039</td>\n",
       "      <td>0.001196</td>\n",
       "    </tr>\n",
       "    <tr>\n",
       "      <th>1900-01-01 11:41:00</th>\n",
       "      <td>201.2201</td>\n",
       "      <td>201.7200</td>\n",
       "      <td>201.2200</td>\n",
       "      <td>201.6724</td>\n",
       "      <td>259433</td>\n",
       "      <td>0.002245</td>\n",
       "    </tr>\n",
       "    <tr>\n",
       "      <th>1900-01-01 11:44:00</th>\n",
       "      <td>201.7750</td>\n",
       "      <td>201.8614</td>\n",
       "      <td>201.6000</td>\n",
       "      <td>201.6400</td>\n",
       "      <td>148642</td>\n",
       "      <td>-0.000669</td>\n",
       "    </tr>\n",
       "    <tr>\n",
       "      <th>1900-01-01 11:54:00</th>\n",
       "      <td>201.2300</td>\n",
       "      <td>201.6560</td>\n",
       "      <td>201.2300</td>\n",
       "      <td>201.5700</td>\n",
       "      <td>147684</td>\n",
       "      <td>0.001688</td>\n",
       "    </tr>\n",
       "    <tr>\n",
       "      <th>1900-01-01 12:03:00</th>\n",
       "      <td>201.6000</td>\n",
       "      <td>201.6900</td>\n",
       "      <td>201.3300</td>\n",
       "      <td>201.3800</td>\n",
       "      <td>137937</td>\n",
       "      <td>-0.001092</td>\n",
       "    </tr>\n",
       "    <tr>\n",
       "      <th>1900-01-01 12:12:00</th>\n",
       "      <td>200.7000</td>\n",
       "      <td>200.7400</td>\n",
       "      <td>200.2200</td>\n",
       "      <td>200.2300</td>\n",
       "      <td>147172</td>\n",
       "      <td>-0.002345</td>\n",
       "    </tr>\n",
       "    <tr>\n",
       "      <th>1900-01-01 12:14:00</th>\n",
       "      <td>200.0800</td>\n",
       "      <td>200.2749</td>\n",
       "      <td>199.9300</td>\n",
       "      <td>200.1735</td>\n",
       "      <td>300025</td>\n",
       "      <td>0.000467</td>\n",
       "    </tr>\n",
       "    <tr>\n",
       "      <th>1900-01-01 13:06:00</th>\n",
       "      <td>200.4100</td>\n",
       "      <td>200.4500</td>\n",
       "      <td>200.1800</td>\n",
       "      <td>200.1800</td>\n",
       "      <td>72678</td>\n",
       "      <td>-0.001148</td>\n",
       "    </tr>\n",
       "    <tr>\n",
       "      <th>1900-01-01 13:55:00</th>\n",
       "      <td>200.5100</td>\n",
       "      <td>200.8596</td>\n",
       "      <td>200.5100</td>\n",
       "      <td>200.8489</td>\n",
       "      <td>130994</td>\n",
       "      <td>0.001689</td>\n",
       "    </tr>\n",
       "    <tr>\n",
       "      <th>1900-01-01 14:27:00</th>\n",
       "      <td>201.7201</td>\n",
       "      <td>201.7800</td>\n",
       "      <td>201.5100</td>\n",
       "      <td>201.5200</td>\n",
       "      <td>118526</td>\n",
       "      <td>-0.000992</td>\n",
       "    </tr>\n",
       "    <tr>\n",
       "      <th>1900-01-01 15:12:00</th>\n",
       "      <td>201.0900</td>\n",
       "      <td>201.3200</td>\n",
       "      <td>201.0189</td>\n",
       "      <td>201.3100</td>\n",
       "      <td>91630</td>\n",
       "      <td>0.001093</td>\n",
       "    </tr>\n",
       "  </tbody>\n",
       "</table>\n",
       "</div>"
      ],
      "text/plain": [
       "                         open      high       low     close  Trade Volume  \\\n",
       "Date_Time                                                                   \n",
       "1900-01-01 09:33:00  202.4900  204.3900  201.6300  202.1100        903186   \n",
       "1900-01-01 09:34:00  202.1600  204.3900  201.7000  202.4200        605879   \n",
       "1900-01-01 09:36:00  203.0800  204.3900  202.1700  202.9600        373268   \n",
       "1900-01-01 09:51:00  201.5200  202.0900  201.4900  201.9700        286694   \n",
       "1900-01-01 09:52:00  201.9600  201.9799  201.5500  201.7000        230489   \n",
       "1900-01-01 09:57:00  201.5950  201.6200  201.1600  201.2041        326001   \n",
       "1900-01-01 10:05:00  200.3300  201.0000  200.3300  200.8699        473668   \n",
       "1900-01-01 10:07:00  201.0600  201.1700  200.5300  200.8600        307349   \n",
       "1900-01-01 10:15:00  198.8600  199.6845  198.8100  199.2300        414962   \n",
       "1900-01-01 10:20:00  199.5750  199.6500  199.2000  199.2800        254737   \n",
       "1900-01-01 10:25:00  198.4000  198.6200  198.1600  198.5650        427532   \n",
       "1900-01-01 10:30:00  198.8700  198.9700  198.6400  198.6800        260645   \n",
       "1900-01-01 10:32:00  198.9400  199.4100  198.7696  199.3300        388300   \n",
       "1900-01-01 10:35:00  199.4000  199.4900  199.1200  199.1450        294530   \n",
       "1900-01-01 10:42:00  198.6500  198.9200  198.6400  198.9051        158421   \n",
       "1900-01-01 11:01:00  201.3454  207.4800  201.0500  201.1150        179148   \n",
       "1900-01-01 11:09:00  201.2400  201.5900  201.2400  201.5050        256185   \n",
       "1900-01-01 11:16:00  201.0100  201.0100  200.2228  200.6817        179420   \n",
       "1900-01-01 11:27:00  200.5900  200.8700  200.5400  200.8300         80039   \n",
       "1900-01-01 11:41:00  201.2201  201.7200  201.2200  201.6724        259433   \n",
       "1900-01-01 11:44:00  201.7750  201.8614  201.6000  201.6400        148642   \n",
       "1900-01-01 11:54:00  201.2300  201.6560  201.2300  201.5700        147684   \n",
       "1900-01-01 12:03:00  201.6000  201.6900  201.3300  201.3800        137937   \n",
       "1900-01-01 12:12:00  200.7000  200.7400  200.2200  200.2300        147172   \n",
       "1900-01-01 12:14:00  200.0800  200.2749  199.9300  200.1735        300025   \n",
       "1900-01-01 13:06:00  200.4100  200.4500  200.1800  200.1800         72678   \n",
       "1900-01-01 13:55:00  200.5100  200.8596  200.5100  200.8489        130994   \n",
       "1900-01-01 14:27:00  201.7201  201.7800  201.5100  201.5200        118526   \n",
       "1900-01-01 15:12:00  201.0900  201.3200  201.0189  201.3100         91630   \n",
       "\n",
       "                     log returns  \n",
       "Date_Time                         \n",
       "1900-01-01 09:33:00    -0.001878  \n",
       "1900-01-01 09:34:00     0.001285  \n",
       "1900-01-01 09:36:00    -0.000591  \n",
       "1900-01-01 09:51:00     0.002231  \n",
       "1900-01-01 09:52:00    -0.001288  \n",
       "1900-01-01 09:57:00    -0.001941  \n",
       "1900-01-01 10:05:00     0.002691  \n",
       "1900-01-01 10:07:00    -0.000995  \n",
       "1900-01-01 10:15:00     0.001859  \n",
       "1900-01-01 10:20:00    -0.001479  \n",
       "1900-01-01 10:25:00     0.000831  \n",
       "1900-01-01 10:30:00    -0.000956  \n",
       "1900-01-01 10:32:00     0.001958  \n",
       "1900-01-01 10:35:00    -0.001280  \n",
       "1900-01-01 10:42:00     0.001283  \n",
       "1900-01-01 11:01:00    -0.001145  \n",
       "1900-01-01 11:09:00     0.001316  \n",
       "1900-01-01 11:16:00    -0.001635  \n",
       "1900-01-01 11:27:00     0.001196  \n",
       "1900-01-01 11:41:00     0.002245  \n",
       "1900-01-01 11:44:00    -0.000669  \n",
       "1900-01-01 11:54:00     0.001688  \n",
       "1900-01-01 12:03:00    -0.001092  \n",
       "1900-01-01 12:12:00    -0.002345  \n",
       "1900-01-01 12:14:00     0.000467  \n",
       "1900-01-01 13:06:00    -0.001148  \n",
       "1900-01-01 13:55:00     0.001689  \n",
       "1900-01-01 14:27:00    -0.000992  \n",
       "1900-01-01 15:12:00     0.001093  "
      ]
     },
     "execution_count": 35,
     "metadata": {},
     "output_type": "execute_result"
    }
   ],
   "source": [
    "CumsumSample"
   ]
  },
  {
   "cell_type": "code",
   "execution_count": 36,
   "metadata": {},
   "outputs": [
    {
     "data": {
      "text/plain": [
       "<matplotlib.axes._subplots.AxesSubplot at 0x7f8bb04fd3c8>"
      ]
     },
     "execution_count": 36,
     "metadata": {},
     "output_type": "execute_result"
    },
    {
     "data": {
      "image/png": "[encoded data removed]",
      "text/plain": [
       "<Figure size 864x576 with 1 Axes>"
      ]
     },
     "metadata": {
      "needs_background": "light"
     },
     "output_type": "display_data"
    }
   ],
   "source": [
    "AAPL_1Minbars['log returns'].plot(kind='line',figsize=(12,8),xticks=CumsumSample.index,grid=True)"
   ]
  },
  {
   "cell_type": "markdown",
   "metadata": {},
   "source": [
    "## EWMA Filter"
   ]
  },
  {
   "cell_type": "markdown",
   "metadata": {},
   "source": [
    "The exponentially weighted moving average (EWMA) control chart is also a good alternative to the Shewhart control chart when we are interested in detecting small shifts. The perfor- mance of the EWMA control chart is approximately equivalent to that of the cumulative sum control chart, and in some ways it is easier to set up and operate. The EWMA control chart was introduced by Roberts (1959). See also Crowder (1987a, 1989) and Lucas and Saccucci (1990) for good discussions of the EWMA. The exponentially weighted moving average on a time series $\\{x_t\\}$, with forcasts $\\{s_t\\}$ is defined as\n",
    "$$s_1 = \\lambda x_0 + (1-\\lambda)s_0$$\n",
    "$$s_t = \\lambda x_{t-1} + (1-\\lambda)s_{t-1}$$\n",
    "where $0<\\lambda\\leq1$ and $s_0$ is the initial condition. We typically take $s_0$ to be the process target, so perhaps $s_0 = \\mu$. There are various approaches to estimating this. By applying the definition recursively we get\n",
    "$$s_t = \\lambda \\sum_{i=1}^{t-1} (1-\\lambda)^i x_{t-i} + (1-\\lambda)^t s_0$$"
   ]
  },
  {
   "cell_type": "markdown",
   "metadata": {},
   "source": [
    "The weights $\\lambda(1-\\lambda)^i$ decrease geometrically back in time. Also notice that\n",
    "$$\\lambda \\sum_{i=1}^{t-1} (1-\\lambda)^i = 1-(1-\\lambda)^t \\rightarrow \\lambda \\sum_{i=1}^{t} (1-\\lambda)^i=1$$\n",
    "The EWMA is used extensively in time series modeling and in forecasting (see Box, Jenkins, and Reinsel (1994) and Montgomery, Jennings, and Kulachi (2008)). Since the EWMA can be viewed as a weighted average of all past and current observations, it is very insensitive to the normality assumption. It is therefore an ideal control chart to use with individual observations. the EWMA control chart can be constructed by plotting $s_t$ versus the sample time $t$ using\n",
    "$$UCL = s_0 + L \\sigma \\sqrt{\\frac{\\lambda}{2-\\lambda}(1-(1-\\lambda)^{2t})}$$\n",
    "$$center \\; line = s_0$$\n",
    "$$LCL = s_0 - L \\sigma \\sqrt{\\frac{\\lambda}{2-\\lambda}(1-(1-\\lambda)^{2t})}$$"
   ]
  },
  {
   "cell_type": "markdown",
   "metadata": {},
   "source": [
    "The parameters $L$ and $\\lambda$ determine the width of the control limits. There are many approaches for how one chooses them. $L$ is typically just chosen as some desirable level of $\\sigma$, say 3. The parameter $\\lambda$ has a good interpretation as the model's half life $h$, i.e. the period at which the weight placed on an observation is half that of the initial weight. To see this take\n",
    "$$(1-\\lambda)^h = \\frac{1}{2} \\rightarrow \\lambda = 1 - 2^{-1/h} \\rightarrow h = -\\frac{ln(2)}{ln(1-\\lambda)}$$\n",
    "Thus, a half-life of $h = 20$ periods (roughly a month for daily data) sets $\\lambda \\approx 0.034$, and a smoothing parameter $\\lambda = 0.1$ sets the model's half life to $h \\approx 6.6$ periods."
   ]
  },
  {
   "cell_type": "code",
   "execution_count": 37,
   "metadata": {},
   "outputs": [],
   "source": [
    "def EWMA(vnSeries,nlambda,szero,nL):\n",
    "    s = [szero]\n",
    "    sigma = vnSeries.std()\n",
    "    UCL = [szero + nL*sigma*math.sqrt((nlambda/(2-nlambda)*(1-(1-nlambda))))]\n",
    "    LCL = [szero - nL*sigma*math.sqrt((nlambda/(2-nlambda)*(1-(1-nlambda))))]\n",
    "    \n",
    "    for t in range(len(vnSeries)):\n",
    "        st = nlambda*vnSeries[t] + (1 - nlambda)*s[t]\n",
    "        s.append(st)\n",
    "        UCL.append(szero + nL*sigma*math.sqrt((nlambda/(2-nlambda)*(1-(1-nlambda)**(2*t)))))\n",
    "        LCL.append(szero - nL*sigma*math.sqrt((nlambda/(2-nlambda)*(1-(1-nlambda)**(2*t)))))\n",
    "        \n",
    "    return [s,UCL,LCL]\n",
    "        "
   ]
  },
  {
   "cell_type": "code",
   "execution_count": 38,
   "metadata": {},
   "outputs": [
    {
     "data": {
      "text/plain": [
       "101.5864411909487"
      ]
     },
     "execution_count": 38,
     "metadata": {},
     "output_type": "execute_result"
    }
   ],
   "source": [
    "-np.log(2)/np.log(1-0.0068)"
   ]
  },
  {
   "cell_type": "code",
   "execution_count": 39,
   "metadata": {},
   "outputs": [
    {
     "data": {
      "text/plain": [
       "406"
      ]
     },
     "execution_count": 39,
     "metadata": {},
     "output_type": "execute_result"
    }
   ],
   "source": [
    "len(AAPL_1Minbars['log returns'])"
   ]
  },
  {
   "cell_type": "code",
   "execution_count": 40,
   "metadata": {},
   "outputs": [],
   "source": [
    "vnEMA = EWMA(AAPL_1Minbars['log returns'],0.0068,AAPL_1Minbars['log returns'].mean(),3)"
   ]
  },
  {
   "cell_type": "code",
   "execution_count": 41,
   "metadata": {
    "scrolled": true
   },
   "outputs": [
    {
     "data": {
      "text/plain": [
       "[<matplotlib.lines.Line2D at 0x7f8ba8720898>]"
      ]
     },
     "execution_count": 41,
     "metadata": {},
     "output_type": "execute_result"
    },
    {
     "data": {
      "image/png": "[encoded data removed]",
      "text/plain": [
       "<Figure size 432x288 with 1 Axes>"
      ]
     },
     "metadata": {
      "needs_background": "light"
     },
     "output_type": "display_data"
    }
   ],
   "source": [
    "plt.plot(range(len(vnEMA[0][1:-1])),vnEMA[0][1:-1])\n",
    "plt.plot(range(len(vnEMA[1][1:-1])),vnEMA[1][1:-1])\n",
    "plt.plot(range(len(vnEMA[2][1:-1])),vnEMA[2][1:-1])"
   ]
  },
  {
   "cell_type": "code",
   "execution_count": 42,
   "metadata": {},
   "outputs": [],
   "source": [
    "vnEMA2 = EWMA(AAPL_10KTickbars_vol['log returns'],0.0068,AAPL_10KTickbars_vol['log returns'].mean(),3)"
   ]
  },
  {
   "cell_type": "code",
   "execution_count": 43,
   "metadata": {},
   "outputs": [
    {
     "data": {
      "text/plain": [
       "[<matplotlib.lines.Line2D at 0x7f8bdba2c1d0>]"
      ]
     },
     "execution_count": 43,
     "metadata": {},
     "output_type": "execute_result"
    },
    {
     "data": {
      "image/png": "[encoded data removed]",
      "text/plain": [
       "<Figure size 432x288 with 1 Axes>"
      ]
     },
     "metadata": {
      "needs_background": "light"
     },
     "output_type": "display_data"
    }
   ],
   "source": [
    "plt.plot(range(len(vnEMA2[0][1:-1])),vnEMA2[0][1:-1])\n",
    "plt.plot(range(len(vnEMA2[1][1:-1])),vnEMA2[1][1:-1])\n",
    "plt.plot(range(len(vnEMA2[2][1:-1])),vnEMA2[2][1:-1])"
   ]
  },
  {
   "cell_type": "markdown",
   "metadata": {},
   "source": [
    "## Cumsum Squared"
   ]
  },
  {
   "cell_type": "markdown",
   "metadata": {},
   "source": [
    "Recall that the definition of variance is given by\n",
    "$$\\sigma^2 = Var(x) = E[x^2] - E[x]^2$$\n",
    "By removing the $E[x]^2$ we can get a more localized estimate of the variance."
   ]
  },
  {
   "cell_type": "code",
   "execution_count": 48,
   "metadata": {},
   "outputs": [
    {
     "data": {
      "text/plain": [
       "-0.00025667180552923195"
      ]
     },
     "execution_count": 48,
     "metadata": {},
     "output_type": "execute_result"
    }
   ],
   "source": [
    "AAPL_10KTickbars_vol['log returns'].mean()"
   ]
  },
  {
   "cell_type": "code",
   "execution_count": 45,
   "metadata": {},
   "outputs": [
    {
     "data": {
      "text/plain": [
       "6.588041575363587e-08"
      ]
     },
     "execution_count": 45,
     "metadata": {},
     "output_type": "execute_result"
    }
   ],
   "source": [
    "AAPL_10KTickbars_vol['log returns'].mean()**2"
   ]
  },
  {
   "cell_type": "code",
   "execution_count": 46,
   "metadata": {},
   "outputs": [
    {
     "data": {
      "text/plain": [
       "[<matplotlib.lines.Line2D at 0x7f8ba8532748>]"
      ]
     },
     "execution_count": 46,
     "metadata": {},
     "output_type": "execute_result"
    },
    {
     "data": {
      "image/png": "[encoded data removed]",
      "text/plain": [
       "<Figure size 432x288 with 1 Axes>"
      ]
     },
     "metadata": {
      "needs_background": "light"
     },
     "output_type": "display_data"
    }
   ],
   "source": [
    "vnSquares = AAPL_10KTickbars_vol['log returns']**2\n",
    "plt.plot(vnSquares.cumsum())"
   ]
  },
  {
   "cell_type": "code",
   "execution_count": 47,
   "metadata": {},
   "outputs": [
    {
     "data": {
      "text/plain": [
       "[<matplotlib.lines.Line2D at 0x7f8bdb7a2898>]"
      ]
     },
     "execution_count": 47,
     "metadata": {},
     "output_type": "execute_result"
    },
    {
     "data": {
      "image/png": "[encoded data removed]",
      "text/plain": [
       "<Figure size 432x288 with 1 Axes>"
      ]
     },
     "metadata": {
      "needs_background": "light"
     },
     "output_type": "display_data"
    }
   ],
   "source": [
    "vnSquares = AAPL_1Minbars['log returns']**2\n",
    "plt.plot(vnSquares.cumsum())"
   ]
  },
  {
   "cell_type": "code",
   "execution_count": null,
   "metadata": {},
   "outputs": [],
   "source": []
  }
 ],
 "metadata": {
  "kernelspec": {
   "display_name": "Python 3",
   "language": "python",
   "name": "python3"
  },
  "language_info": {
   "codemirror_mode": {
    "name": "ipython",
    "version": 3
   },
   "file_extension": ".py",
   "mimetype": "text/x-python",
   "name": "python",
   "nbconvert_exporter": "python",
   "pygments_lexer": "ipython3",
   "version": "3.7.1"
  }
 },
 "nbformat": 4,
 "nbformat_minor": 4
}
