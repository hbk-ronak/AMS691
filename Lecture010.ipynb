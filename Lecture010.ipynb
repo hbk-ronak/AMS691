{
 "cells": [
  {
   "cell_type": "markdown",
   "metadata": {},
   "source": [
    "# Data Handling for Multiple Time Series"
   ]
  },
  {
   "cell_type": "code",
   "execution_count": 1,
   "metadata": {},
   "outputs": [],
   "source": [
    "import scipy.stats as stats\n",
    "import pylab\n",
    "import numpy as np\n",
    "import pandas as pd\n",
    "import statsmodels.api as sm\n",
    "import mplfinance as fplt\n",
    "import math\n",
    "from matplotlib import pyplot as plt\n",
    "import scipy\n",
    "import BarSampler as bs\n",
    "import ExpSmooth as es"
   ]
  },
  {
   "cell_type": "code",
   "execution_count": 2,
   "metadata": {},
   "outputs": [],
   "source": [
    "def get_log_return(df):\n",
    "    log_returns = pd.Series(np.log((df['close'] - df['open'])/df['open'] + 1),name='log returns')\n",
    "    return pd.concat([df,log_returns], axis=1)"
   ]
  },
  {
   "cell_type": "markdown",
   "metadata": {},
   "source": [
    "We will begin by extracting trade data from a trade file. Here we use the function es.xExtractandClean to not only extract all the data from a given stock, but we also clean the data as well. This includes removing certian types of trades and excluding certian time frames."
   ]
  },
  {
   "cell_type": "code",
   "execution_count": 3,
   "metadata": {},
   "outputs": [
    {
     "name": "stderr",
     "output_type": "stream",
     "text": [
      "/anaconda3/lib/python3.7/site-packages/IPython/core/interactiveshell.py:3263: DtypeWarning: Columns (6) have mixed types.Specify dtype option on import or set low_memory=False.\n",
      "  if (await self.run_code(code, result,  async_=asy)):\n"
     ]
    }
   ],
   "source": [
    "AAPL_Price_Vol_Data = es.xExtractandClean(\"/Users/michael/Data/TRADE_20181105.csv\",'AAPL')"
   ]
  },
  {
   "cell_type": "code",
   "execution_count": 4,
   "metadata": {},
   "outputs": [],
   "source": [
    "IBM_Price_Vol_Data = es.xExtractandClean(\"/Users/michael/Data/TRADE_20181105.csv\",'IBM')"
   ]
  },
  {
   "cell_type": "code",
   "execution_count": 5,
   "metadata": {},
   "outputs": [],
   "source": [
    "MSFT_Price_Vol_Data = es.xExtractandClean(\"/Users/michael/Data/TRADE_20181105.csv\",'MSFT')"
   ]
  },
  {
   "cell_type": "code",
   "execution_count": 6,
   "metadata": {
    "scrolled": true
   },
   "outputs": [
    {
     "data": {
      "text/html": [
       "<div>\n",
       "<style scoped>\n",
       "    .dataframe tbody tr th:only-of-type {\n",
       "        vertical-align: middle;\n",
       "    }\n",
       "\n",
       "    .dataframe tbody tr th {\n",
       "        vertical-align: top;\n",
       "    }\n",
       "\n",
       "    .dataframe thead th {\n",
       "        text-align: right;\n",
       "    }\n",
       "</style>\n",
       "<table border=\"1\" class=\"dataframe\">\n",
       "  <thead>\n",
       "    <tr style=\"text-align: right;\">\n",
       "      <th></th>\n",
       "      <th>Symbol</th>\n",
       "      <th>Trade Volume</th>\n",
       "      <th>Trade Price</th>\n",
       "      <th>Sale Condition</th>\n",
       "      <th>Trade Correction Indicator</th>\n",
       "    </tr>\n",
       "    <tr>\n",
       "      <th>Date_Time</th>\n",
       "      <th></th>\n",
       "      <th></th>\n",
       "      <th></th>\n",
       "      <th></th>\n",
       "      <th></th>\n",
       "    </tr>\n",
       "  </thead>\n",
       "  <tbody>\n",
       "    <tr>\n",
       "      <th>1900-01-01 09:30:00.171320563</th>\n",
       "      <td>MSFT</td>\n",
       "      <td>9</td>\n",
       "      <td>106.49</td>\n",
       "      <td>@  I</td>\n",
       "      <td>0</td>\n",
       "    </tr>\n",
       "    <tr>\n",
       "      <th>1900-01-01 09:30:00.171329137</th>\n",
       "      <td>MSFT</td>\n",
       "      <td>9</td>\n",
       "      <td>106.49</td>\n",
       "      <td>@  Q</td>\n",
       "      <td>0</td>\n",
       "    </tr>\n",
       "    <tr>\n",
       "      <th>1900-01-01 09:30:00.369148039</th>\n",
       "      <td>MSFT</td>\n",
       "      <td>20</td>\n",
       "      <td>106.37</td>\n",
       "      <td>@F I</td>\n",
       "      <td>0</td>\n",
       "    </tr>\n",
       "    <tr>\n",
       "      <th>1900-01-01 09:30:00.378907585</th>\n",
       "      <td>MSFT</td>\n",
       "      <td>35</td>\n",
       "      <td>106.49</td>\n",
       "      <td>@  I</td>\n",
       "      <td>0</td>\n",
       "    </tr>\n",
       "    <tr>\n",
       "      <th>1900-01-01 09:30:00.393842815</th>\n",
       "      <td>MSFT</td>\n",
       "      <td>280</td>\n",
       "      <td>106.37</td>\n",
       "      <td>@</td>\n",
       "      <td>0</td>\n",
       "    </tr>\n",
       "  </tbody>\n",
       "</table>\n",
       "</div>"
      ],
      "text/plain": [
       "                              Symbol  Trade Volume  Trade Price  \\\n",
       "Date_Time                                                         \n",
       "1900-01-01 09:30:00.171320563   MSFT             9       106.49   \n",
       "1900-01-01 09:30:00.171329137   MSFT             9       106.49   \n",
       "1900-01-01 09:30:00.369148039   MSFT            20       106.37   \n",
       "1900-01-01 09:30:00.378907585   MSFT            35       106.49   \n",
       "1900-01-01 09:30:00.393842815   MSFT           280       106.37   \n",
       "\n",
       "                              Sale Condition  Trade Correction Indicator  \n",
       "Date_Time                                                                 \n",
       "1900-01-01 09:30:00.171320563           @  I                           0  \n",
       "1900-01-01 09:30:00.171329137           @  Q                           0  \n",
       "1900-01-01 09:30:00.369148039           @F I                           0  \n",
       "1900-01-01 09:30:00.378907585           @  I                           0  \n",
       "1900-01-01 09:30:00.393842815           @                              0  "
      ]
     },
     "execution_count": 6,
     "metadata": {},
     "output_type": "execute_result"
    }
   ],
   "source": [
    "MSFT_Price_Vol_Data[0:5]"
   ]
  },
  {
   "cell_type": "markdown",
   "metadata": {},
   "source": [
    "We will do our analysis on 1 minute bars. The work done in this notebook can be extended to any time frame (even beyond intraday). As we have seen before we will work with log returns, not returns or price."
   ]
  },
  {
   "cell_type": "code",
   "execution_count": 7,
   "metadata": {},
   "outputs": [],
   "source": [
    "AAPL_1Minbars_vol = bs.process_time_bars(AAPL_Price_Vol_Data,frequency='1Min')\n",
    "IBM_1Minbars_vol = bs.process_time_bars(IBM_Price_Vol_Data,frequency='1Min')\n",
    "MSFT_1Minbars_vol = bs.process_time_bars(MSFT_Price_Vol_Data,frequency='1Min')"
   ]
  },
  {
   "cell_type": "code",
   "execution_count": 8,
   "metadata": {},
   "outputs": [],
   "source": [
    "AAPL_1Minbars = get_log_return(AAPL_1Minbars_vol)\n",
    "IBM_1Minbars = get_log_return(IBM_1Minbars_vol)\n",
    "MSFT_1Minbars = get_log_return(MSFT_1Minbars_vol)"
   ]
  },
  {
   "cell_type": "markdown",
   "metadata": {},
   "source": [
    "Ufortunately, the calendars of these match. Often a fair amount of work is needed to align calendars although it is usually worth the work. In our case there are just a few issues with end of the day bars."
   ]
  },
  {
   "cell_type": "code",
   "execution_count": 9,
   "metadata": {
    "scrolled": true
   },
   "outputs": [
    {
     "data": {
      "text/html": [
       "<div>\n",
       "<style scoped>\n",
       "    .dataframe tbody tr th:only-of-type {\n",
       "        vertical-align: middle;\n",
       "    }\n",
       "\n",
       "    .dataframe tbody tr th {\n",
       "        vertical-align: top;\n",
       "    }\n",
       "\n",
       "    .dataframe thead th {\n",
       "        text-align: right;\n",
       "    }\n",
       "</style>\n",
       "<table border=\"1\" class=\"dataframe\">\n",
       "  <thead>\n",
       "    <tr style=\"text-align: right;\">\n",
       "      <th></th>\n",
       "      <th>open</th>\n",
       "      <th>high</th>\n",
       "      <th>low</th>\n",
       "      <th>close</th>\n",
       "      <th>Trade Volume</th>\n",
       "      <th>log returns</th>\n",
       "    </tr>\n",
       "    <tr>\n",
       "      <th>Date_Time</th>\n",
       "      <th></th>\n",
       "      <th></th>\n",
       "      <th></th>\n",
       "      <th></th>\n",
       "      <th></th>\n",
       "      <th></th>\n",
       "    </tr>\n",
       "  </thead>\n",
       "  <tbody>\n",
       "    <tr>\n",
       "      <th>1900-01-01 09:31:00</th>\n",
       "      <td>204.39</td>\n",
       "      <td>204.39</td>\n",
       "      <td>203.02</td>\n",
       "      <td>203.2400</td>\n",
       "      <td>2055463</td>\n",
       "      <td>-0.005642</td>\n",
       "    </tr>\n",
       "    <tr>\n",
       "      <th>1900-01-01 09:32:00</th>\n",
       "      <td>203.26</td>\n",
       "      <td>204.39</td>\n",
       "      <td>202.28</td>\n",
       "      <td>202.4532</td>\n",
       "      <td>758040</td>\n",
       "      <td>-0.003977</td>\n",
       "    </tr>\n",
       "    <tr>\n",
       "      <th>1900-01-01 09:33:00</th>\n",
       "      <td>202.49</td>\n",
       "      <td>204.39</td>\n",
       "      <td>201.63</td>\n",
       "      <td>202.1100</td>\n",
       "      <td>903186</td>\n",
       "      <td>-0.001878</td>\n",
       "    </tr>\n",
       "    <tr>\n",
       "      <th>1900-01-01 09:34:00</th>\n",
       "      <td>202.16</td>\n",
       "      <td>204.39</td>\n",
       "      <td>201.70</td>\n",
       "      <td>202.4200</td>\n",
       "      <td>605879</td>\n",
       "      <td>0.001285</td>\n",
       "    </tr>\n",
       "    <tr>\n",
       "      <th>1900-01-01 09:35:00</th>\n",
       "      <td>202.42</td>\n",
       "      <td>204.39</td>\n",
       "      <td>202.39</td>\n",
       "      <td>203.1063</td>\n",
       "      <td>577415</td>\n",
       "      <td>0.003385</td>\n",
       "    </tr>\n",
       "  </tbody>\n",
       "</table>\n",
       "</div>"
      ],
      "text/plain": [
       "                       open    high     low     close  Trade Volume  \\\n",
       "Date_Time                                                             \n",
       "1900-01-01 09:31:00  204.39  204.39  203.02  203.2400       2055463   \n",
       "1900-01-01 09:32:00  203.26  204.39  202.28  202.4532        758040   \n",
       "1900-01-01 09:33:00  202.49  204.39  201.63  202.1100        903186   \n",
       "1900-01-01 09:34:00  202.16  204.39  201.70  202.4200        605879   \n",
       "1900-01-01 09:35:00  202.42  204.39  202.39  203.1063        577415   \n",
       "\n",
       "                     log returns  \n",
       "Date_Time                         \n",
       "1900-01-01 09:31:00    -0.005642  \n",
       "1900-01-01 09:32:00    -0.003977  \n",
       "1900-01-01 09:33:00    -0.001878  \n",
       "1900-01-01 09:34:00     0.001285  \n",
       "1900-01-01 09:35:00     0.003385  "
      ]
     },
     "execution_count": 9,
     "metadata": {},
     "output_type": "execute_result"
    }
   ],
   "source": [
    "AAPL_1Minbars[0:5]"
   ]
  },
  {
   "cell_type": "code",
   "execution_count": 11,
   "metadata": {},
   "outputs": [
    {
     "data": {
      "text/html": [
       "<div>\n",
       "<style scoped>\n",
       "    .dataframe tbody tr th:only-of-type {\n",
       "        vertical-align: middle;\n",
       "    }\n",
       "\n",
       "    .dataframe tbody tr th {\n",
       "        vertical-align: top;\n",
       "    }\n",
       "\n",
       "    .dataframe thead th {\n",
       "        text-align: right;\n",
       "    }\n",
       "</style>\n",
       "<table border=\"1\" class=\"dataframe\">\n",
       "  <thead>\n",
       "    <tr style=\"text-align: right;\">\n",
       "      <th></th>\n",
       "      <th>open</th>\n",
       "      <th>high</th>\n",
       "      <th>low</th>\n",
       "      <th>close</th>\n",
       "      <th>Trade Volume</th>\n",
       "      <th>log returns</th>\n",
       "    </tr>\n",
       "    <tr>\n",
       "      <th>Date_Time</th>\n",
       "      <th></th>\n",
       "      <th></th>\n",
       "      <th></th>\n",
       "      <th></th>\n",
       "      <th></th>\n",
       "      <th></th>\n",
       "    </tr>\n",
       "  </thead>\n",
       "  <tbody>\n",
       "    <tr>\n",
       "      <th>1900-01-01 15:57:00</th>\n",
       "      <td>201.6750</td>\n",
       "      <td>201.675</td>\n",
       "      <td>201.47</td>\n",
       "      <td>201.6350</td>\n",
       "      <td>184265</td>\n",
       "      <td>-1.983586e-04</td>\n",
       "    </tr>\n",
       "    <tr>\n",
       "      <th>1900-01-01 15:58:00</th>\n",
       "      <td>201.6328</td>\n",
       "      <td>201.650</td>\n",
       "      <td>201.36</td>\n",
       "      <td>201.4600</td>\n",
       "      <td>252416</td>\n",
       "      <td>-8.573709e-04</td>\n",
       "    </tr>\n",
       "    <tr>\n",
       "      <th>1900-01-01 15:59:00</th>\n",
       "      <td>201.4500</td>\n",
       "      <td>201.520</td>\n",
       "      <td>201.31</td>\n",
       "      <td>201.4501</td>\n",
       "      <td>212732</td>\n",
       "      <td>4.964010e-07</td>\n",
       "    </tr>\n",
       "    <tr>\n",
       "      <th>1900-01-01 16:00:00</th>\n",
       "      <td>201.4500</td>\n",
       "      <td>201.890</td>\n",
       "      <td>201.29</td>\n",
       "      <td>201.5900</td>\n",
       "      <td>509096</td>\n",
       "      <td>6.947202e-04</td>\n",
       "    </tr>\n",
       "    <tr>\n",
       "      <th>1900-01-01 16:01:00</th>\n",
       "      <td>201.5700</td>\n",
       "      <td>201.590</td>\n",
       "      <td>201.57</td>\n",
       "      <td>201.5900</td>\n",
       "      <td>1961223</td>\n",
       "      <td>9.921619e-05</td>\n",
       "    </tr>\n",
       "    <tr>\n",
       "      <th>1900-01-01 16:02:00</th>\n",
       "      <td>NaN</td>\n",
       "      <td>NaN</td>\n",
       "      <td>NaN</td>\n",
       "      <td>NaN</td>\n",
       "      <td>0</td>\n",
       "      <td>NaN</td>\n",
       "    </tr>\n",
       "    <tr>\n",
       "      <th>1900-01-01 16:03:00</th>\n",
       "      <td>NaN</td>\n",
       "      <td>NaN</td>\n",
       "      <td>NaN</td>\n",
       "      <td>NaN</td>\n",
       "      <td>0</td>\n",
       "      <td>NaN</td>\n",
       "    </tr>\n",
       "    <tr>\n",
       "      <th>1900-01-01 16:04:00</th>\n",
       "      <td>NaN</td>\n",
       "      <td>NaN</td>\n",
       "      <td>NaN</td>\n",
       "      <td>NaN</td>\n",
       "      <td>0</td>\n",
       "      <td>NaN</td>\n",
       "    </tr>\n",
       "    <tr>\n",
       "      <th>1900-01-01 16:05:00</th>\n",
       "      <td>NaN</td>\n",
       "      <td>NaN</td>\n",
       "      <td>NaN</td>\n",
       "      <td>NaN</td>\n",
       "      <td>0</td>\n",
       "      <td>NaN</td>\n",
       "    </tr>\n",
       "    <tr>\n",
       "      <th>1900-01-01 16:06:00</th>\n",
       "      <td>NaN</td>\n",
       "      <td>NaN</td>\n",
       "      <td>NaN</td>\n",
       "      <td>NaN</td>\n",
       "      <td>0</td>\n",
       "      <td>NaN</td>\n",
       "    </tr>\n",
       "    <tr>\n",
       "      <th>1900-01-01 16:07:00</th>\n",
       "      <td>NaN</td>\n",
       "      <td>NaN</td>\n",
       "      <td>NaN</td>\n",
       "      <td>NaN</td>\n",
       "      <td>0</td>\n",
       "      <td>NaN</td>\n",
       "    </tr>\n",
       "    <tr>\n",
       "      <th>1900-01-01 16:08:00</th>\n",
       "      <td>NaN</td>\n",
       "      <td>NaN</td>\n",
       "      <td>NaN</td>\n",
       "      <td>NaN</td>\n",
       "      <td>0</td>\n",
       "      <td>NaN</td>\n",
       "    </tr>\n",
       "    <tr>\n",
       "      <th>1900-01-01 16:09:00</th>\n",
       "      <td>NaN</td>\n",
       "      <td>NaN</td>\n",
       "      <td>NaN</td>\n",
       "      <td>NaN</td>\n",
       "      <td>0</td>\n",
       "      <td>NaN</td>\n",
       "    </tr>\n",
       "    <tr>\n",
       "      <th>1900-01-01 16:10:00</th>\n",
       "      <td>NaN</td>\n",
       "      <td>NaN</td>\n",
       "      <td>NaN</td>\n",
       "      <td>NaN</td>\n",
       "      <td>0</td>\n",
       "      <td>NaN</td>\n",
       "    </tr>\n",
       "    <tr>\n",
       "      <th>1900-01-01 16:11:00</th>\n",
       "      <td>NaN</td>\n",
       "      <td>NaN</td>\n",
       "      <td>NaN</td>\n",
       "      <td>NaN</td>\n",
       "      <td>0</td>\n",
       "      <td>NaN</td>\n",
       "    </tr>\n",
       "    <tr>\n",
       "      <th>1900-01-01 16:12:00</th>\n",
       "      <td>NaN</td>\n",
       "      <td>NaN</td>\n",
       "      <td>NaN</td>\n",
       "      <td>NaN</td>\n",
       "      <td>0</td>\n",
       "      <td>NaN</td>\n",
       "    </tr>\n",
       "    <tr>\n",
       "      <th>1900-01-01 16:13:00</th>\n",
       "      <td>NaN</td>\n",
       "      <td>NaN</td>\n",
       "      <td>NaN</td>\n",
       "      <td>NaN</td>\n",
       "      <td>0</td>\n",
       "      <td>NaN</td>\n",
       "    </tr>\n",
       "    <tr>\n",
       "      <th>1900-01-01 16:14:00</th>\n",
       "      <td>NaN</td>\n",
       "      <td>NaN</td>\n",
       "      <td>NaN</td>\n",
       "      <td>NaN</td>\n",
       "      <td>0</td>\n",
       "      <td>NaN</td>\n",
       "    </tr>\n",
       "    <tr>\n",
       "      <th>1900-01-01 16:15:00</th>\n",
       "      <td>NaN</td>\n",
       "      <td>NaN</td>\n",
       "      <td>NaN</td>\n",
       "      <td>NaN</td>\n",
       "      <td>0</td>\n",
       "      <td>NaN</td>\n",
       "    </tr>\n",
       "  </tbody>\n",
       "</table>\n",
       "</div>"
      ],
      "text/plain": [
       "                         open     high     low     close  Trade Volume  \\\n",
       "Date_Time                                                                \n",
       "1900-01-01 15:57:00  201.6750  201.675  201.47  201.6350        184265   \n",
       "1900-01-01 15:58:00  201.6328  201.650  201.36  201.4600        252416   \n",
       "1900-01-01 15:59:00  201.4500  201.520  201.31  201.4501        212732   \n",
       "1900-01-01 16:00:00  201.4500  201.890  201.29  201.5900        509096   \n",
       "1900-01-01 16:01:00  201.5700  201.590  201.57  201.5900       1961223   \n",
       "1900-01-01 16:02:00       NaN      NaN     NaN       NaN             0   \n",
       "1900-01-01 16:03:00       NaN      NaN     NaN       NaN             0   \n",
       "1900-01-01 16:04:00       NaN      NaN     NaN       NaN             0   \n",
       "1900-01-01 16:05:00       NaN      NaN     NaN       NaN             0   \n",
       "1900-01-01 16:06:00       NaN      NaN     NaN       NaN             0   \n",
       "1900-01-01 16:07:00       NaN      NaN     NaN       NaN             0   \n",
       "1900-01-01 16:08:00       NaN      NaN     NaN       NaN             0   \n",
       "1900-01-01 16:09:00       NaN      NaN     NaN       NaN             0   \n",
       "1900-01-01 16:10:00       NaN      NaN     NaN       NaN             0   \n",
       "1900-01-01 16:11:00       NaN      NaN     NaN       NaN             0   \n",
       "1900-01-01 16:12:00       NaN      NaN     NaN       NaN             0   \n",
       "1900-01-01 16:13:00       NaN      NaN     NaN       NaN             0   \n",
       "1900-01-01 16:14:00       NaN      NaN     NaN       NaN             0   \n",
       "1900-01-01 16:15:00       NaN      NaN     NaN       NaN             0   \n",
       "\n",
       "                      log returns  \n",
       "Date_Time                          \n",
       "1900-01-01 15:57:00 -1.983586e-04  \n",
       "1900-01-01 15:58:00 -8.573709e-04  \n",
       "1900-01-01 15:59:00  4.964010e-07  \n",
       "1900-01-01 16:00:00  6.947202e-04  \n",
       "1900-01-01 16:01:00  9.921619e-05  \n",
       "1900-01-01 16:02:00           NaN  \n",
       "1900-01-01 16:03:00           NaN  \n",
       "1900-01-01 16:04:00           NaN  \n",
       "1900-01-01 16:05:00           NaN  \n",
       "1900-01-01 16:06:00           NaN  \n",
       "1900-01-01 16:07:00           NaN  \n",
       "1900-01-01 16:08:00           NaN  \n",
       "1900-01-01 16:09:00           NaN  \n",
       "1900-01-01 16:10:00           NaN  \n",
       "1900-01-01 16:11:00           NaN  \n",
       "1900-01-01 16:12:00           NaN  \n",
       "1900-01-01 16:13:00           NaN  \n",
       "1900-01-01 16:14:00           NaN  \n",
       "1900-01-01 16:15:00           NaN  "
      ]
     },
     "execution_count": 11,
     "metadata": {},
     "output_type": "execute_result"
    }
   ],
   "source": [
    "AAPL_1Minbars[-20:-1]"
   ]
  },
  {
   "cell_type": "code",
   "execution_count": 10,
   "metadata": {
    "scrolled": true
   },
   "outputs": [
    {
     "data": {
      "text/html": [
       "<div>\n",
       "<style scoped>\n",
       "    .dataframe tbody tr th:only-of-type {\n",
       "        vertical-align: middle;\n",
       "    }\n",
       "\n",
       "    .dataframe tbody tr th {\n",
       "        vertical-align: top;\n",
       "    }\n",
       "\n",
       "    .dataframe thead th {\n",
       "        text-align: right;\n",
       "    }\n",
       "</style>\n",
       "<table border=\"1\" class=\"dataframe\">\n",
       "  <thead>\n",
       "    <tr style=\"text-align: right;\">\n",
       "      <th></th>\n",
       "      <th>open</th>\n",
       "      <th>high</th>\n",
       "      <th>low</th>\n",
       "      <th>close</th>\n",
       "      <th>Trade Volume</th>\n",
       "      <th>log returns</th>\n",
       "    </tr>\n",
       "    <tr>\n",
       "      <th>Date_Time</th>\n",
       "      <th></th>\n",
       "      <th></th>\n",
       "      <th></th>\n",
       "      <th></th>\n",
       "      <th></th>\n",
       "      <th></th>\n",
       "    </tr>\n",
       "  </thead>\n",
       "  <tbody>\n",
       "    <tr>\n",
       "      <th>1900-01-01 09:31:00</th>\n",
       "      <td>116.3400</td>\n",
       "      <td>116.3400</td>\n",
       "      <td>115.9630</td>\n",
       "      <td>116.1000</td>\n",
       "      <td>24211</td>\n",
       "      <td>-0.002065</td>\n",
       "    </tr>\n",
       "    <tr>\n",
       "      <th>1900-01-01 09:32:00</th>\n",
       "      <td>116.1000</td>\n",
       "      <td>116.7562</td>\n",
       "      <td>116.0800</td>\n",
       "      <td>116.4811</td>\n",
       "      <td>39270</td>\n",
       "      <td>0.003277</td>\n",
       "    </tr>\n",
       "    <tr>\n",
       "      <th>1900-01-01 09:33:00</th>\n",
       "      <td>116.5000</td>\n",
       "      <td>116.6300</td>\n",
       "      <td>116.1000</td>\n",
       "      <td>116.4000</td>\n",
       "      <td>21832</td>\n",
       "      <td>-0.000859</td>\n",
       "    </tr>\n",
       "    <tr>\n",
       "      <th>1900-01-01 09:34:00</th>\n",
       "      <td>116.4450</td>\n",
       "      <td>116.6300</td>\n",
       "      <td>116.3900</td>\n",
       "      <td>116.6300</td>\n",
       "      <td>20725</td>\n",
       "      <td>0.001587</td>\n",
       "    </tr>\n",
       "    <tr>\n",
       "      <th>1900-01-01 09:35:00</th>\n",
       "      <td>116.5598</td>\n",
       "      <td>116.8900</td>\n",
       "      <td>116.5598</td>\n",
       "      <td>116.8900</td>\n",
       "      <td>27293</td>\n",
       "      <td>0.002829</td>\n",
       "    </tr>\n",
       "  </tbody>\n",
       "</table>\n",
       "</div>"
      ],
      "text/plain": [
       "                         open      high       low     close  Trade Volume  \\\n",
       "Date_Time                                                                   \n",
       "1900-01-01 09:31:00  116.3400  116.3400  115.9630  116.1000         24211   \n",
       "1900-01-01 09:32:00  116.1000  116.7562  116.0800  116.4811         39270   \n",
       "1900-01-01 09:33:00  116.5000  116.6300  116.1000  116.4000         21832   \n",
       "1900-01-01 09:34:00  116.4450  116.6300  116.3900  116.6300         20725   \n",
       "1900-01-01 09:35:00  116.5598  116.8900  116.5598  116.8900         27293   \n",
       "\n",
       "                     log returns  \n",
       "Date_Time                         \n",
       "1900-01-01 09:31:00    -0.002065  \n",
       "1900-01-01 09:32:00     0.003277  \n",
       "1900-01-01 09:33:00    -0.000859  \n",
       "1900-01-01 09:34:00     0.001587  \n",
       "1900-01-01 09:35:00     0.002829  "
      ]
     },
     "execution_count": 10,
     "metadata": {},
     "output_type": "execute_result"
    }
   ],
   "source": [
    "IBM_1Minbars[0:5]"
   ]
  },
  {
   "cell_type": "code",
   "execution_count": 12,
   "metadata": {},
   "outputs": [
    {
     "data": {
      "text/html": [
       "<div>\n",
       "<style scoped>\n",
       "    .dataframe tbody tr th:only-of-type {\n",
       "        vertical-align: middle;\n",
       "    }\n",
       "\n",
       "    .dataframe tbody tr th {\n",
       "        vertical-align: top;\n",
       "    }\n",
       "\n",
       "    .dataframe thead th {\n",
       "        text-align: right;\n",
       "    }\n",
       "</style>\n",
       "<table border=\"1\" class=\"dataframe\">\n",
       "  <thead>\n",
       "    <tr style=\"text-align: right;\">\n",
       "      <th></th>\n",
       "      <th>open</th>\n",
       "      <th>high</th>\n",
       "      <th>low</th>\n",
       "      <th>close</th>\n",
       "      <th>Trade Volume</th>\n",
       "      <th>log returns</th>\n",
       "    </tr>\n",
       "    <tr>\n",
       "      <th>Date_Time</th>\n",
       "      <th></th>\n",
       "      <th></th>\n",
       "      <th></th>\n",
       "      <th></th>\n",
       "      <th></th>\n",
       "      <th></th>\n",
       "    </tr>\n",
       "  </thead>\n",
       "  <tbody>\n",
       "    <tr>\n",
       "      <th>1900-01-01 15:43:00</th>\n",
       "      <td>120.1300</td>\n",
       "      <td>120.1300</td>\n",
       "      <td>120.1000</td>\n",
       "      <td>120.1200</td>\n",
       "      <td>18444</td>\n",
       "      <td>-0.000083</td>\n",
       "    </tr>\n",
       "    <tr>\n",
       "      <th>1900-01-01 15:44:00</th>\n",
       "      <td>120.1200</td>\n",
       "      <td>120.1447</td>\n",
       "      <td>120.1000</td>\n",
       "      <td>120.1301</td>\n",
       "      <td>14904</td>\n",
       "      <td>0.000084</td>\n",
       "    </tr>\n",
       "    <tr>\n",
       "      <th>1900-01-01 15:45:00</th>\n",
       "      <td>120.1432</td>\n",
       "      <td>120.1652</td>\n",
       "      <td>120.1300</td>\n",
       "      <td>120.1600</td>\n",
       "      <td>19340</td>\n",
       "      <td>0.000140</td>\n",
       "    </tr>\n",
       "    <tr>\n",
       "      <th>1900-01-01 15:46:00</th>\n",
       "      <td>120.1600</td>\n",
       "      <td>120.1600</td>\n",
       "      <td>120.0900</td>\n",
       "      <td>120.0900</td>\n",
       "      <td>41443</td>\n",
       "      <td>-0.000583</td>\n",
       "    </tr>\n",
       "    <tr>\n",
       "      <th>1900-01-01 15:47:00</th>\n",
       "      <td>120.0800</td>\n",
       "      <td>120.1200</td>\n",
       "      <td>120.0600</td>\n",
       "      <td>120.0700</td>\n",
       "      <td>51340</td>\n",
       "      <td>-0.000083</td>\n",
       "    </tr>\n",
       "    <tr>\n",
       "      <th>1900-01-01 15:48:00</th>\n",
       "      <td>120.0670</td>\n",
       "      <td>120.2600</td>\n",
       "      <td>120.0600</td>\n",
       "      <td>120.1900</td>\n",
       "      <td>38291</td>\n",
       "      <td>0.001024</td>\n",
       "    </tr>\n",
       "    <tr>\n",
       "      <th>1900-01-01 15:49:00</th>\n",
       "      <td>120.1800</td>\n",
       "      <td>120.2400</td>\n",
       "      <td>120.1400</td>\n",
       "      <td>120.1540</td>\n",
       "      <td>31880</td>\n",
       "      <td>-0.000216</td>\n",
       "    </tr>\n",
       "    <tr>\n",
       "      <th>1900-01-01 15:50:00</th>\n",
       "      <td>120.1550</td>\n",
       "      <td>120.1700</td>\n",
       "      <td>120.0700</td>\n",
       "      <td>120.0800</td>\n",
       "      <td>26119</td>\n",
       "      <td>-0.000624</td>\n",
       "    </tr>\n",
       "    <tr>\n",
       "      <th>1900-01-01 15:51:00</th>\n",
       "      <td>120.0800</td>\n",
       "      <td>120.1194</td>\n",
       "      <td>120.0400</td>\n",
       "      <td>120.0400</td>\n",
       "      <td>24983</td>\n",
       "      <td>-0.000333</td>\n",
       "    </tr>\n",
       "    <tr>\n",
       "      <th>1900-01-01 15:52:00</th>\n",
       "      <td>120.0400</td>\n",
       "      <td>120.1200</td>\n",
       "      <td>120.0400</td>\n",
       "      <td>120.1157</td>\n",
       "      <td>26512</td>\n",
       "      <td>0.000630</td>\n",
       "    </tr>\n",
       "    <tr>\n",
       "      <th>1900-01-01 15:53:00</th>\n",
       "      <td>120.1100</td>\n",
       "      <td>120.1300</td>\n",
       "      <td>120.0800</td>\n",
       "      <td>120.1250</td>\n",
       "      <td>21354</td>\n",
       "      <td>0.000125</td>\n",
       "    </tr>\n",
       "    <tr>\n",
       "      <th>1900-01-01 15:54:00</th>\n",
       "      <td>120.1257</td>\n",
       "      <td>120.1400</td>\n",
       "      <td>120.0800</td>\n",
       "      <td>120.0900</td>\n",
       "      <td>52909</td>\n",
       "      <td>-0.000297</td>\n",
       "    </tr>\n",
       "    <tr>\n",
       "      <th>1900-01-01 15:55:00</th>\n",
       "      <td>120.0900</td>\n",
       "      <td>120.1700</td>\n",
       "      <td>120.0900</td>\n",
       "      <td>120.1600</td>\n",
       "      <td>25315</td>\n",
       "      <td>0.000583</td>\n",
       "    </tr>\n",
       "    <tr>\n",
       "      <th>1900-01-01 15:56:00</th>\n",
       "      <td>120.1700</td>\n",
       "      <td>120.2500</td>\n",
       "      <td>120.1072</td>\n",
       "      <td>120.2300</td>\n",
       "      <td>36757</td>\n",
       "      <td>0.000499</td>\n",
       "    </tr>\n",
       "    <tr>\n",
       "      <th>1900-01-01 15:57:00</th>\n",
       "      <td>120.2200</td>\n",
       "      <td>120.2900</td>\n",
       "      <td>120.2200</td>\n",
       "      <td>120.2800</td>\n",
       "      <td>40464</td>\n",
       "      <td>0.000499</td>\n",
       "    </tr>\n",
       "    <tr>\n",
       "      <th>1900-01-01 15:58:00</th>\n",
       "      <td>120.2750</td>\n",
       "      <td>120.2900</td>\n",
       "      <td>120.2300</td>\n",
       "      <td>120.2366</td>\n",
       "      <td>38395</td>\n",
       "      <td>-0.000319</td>\n",
       "    </tr>\n",
       "    <tr>\n",
       "      <th>1900-01-01 15:59:00</th>\n",
       "      <td>120.2300</td>\n",
       "      <td>120.2400</td>\n",
       "      <td>120.1400</td>\n",
       "      <td>120.1500</td>\n",
       "      <td>43922</td>\n",
       "      <td>-0.000666</td>\n",
       "    </tr>\n",
       "    <tr>\n",
       "      <th>1900-01-01 16:00:00</th>\n",
       "      <td>120.1500</td>\n",
       "      <td>120.1500</td>\n",
       "      <td>120.0500</td>\n",
       "      <td>120.0800</td>\n",
       "      <td>111184</td>\n",
       "      <td>-0.000583</td>\n",
       "    </tr>\n",
       "    <tr>\n",
       "      <th>1900-01-01 16:01:00</th>\n",
       "      <td>120.0600</td>\n",
       "      <td>120.0600</td>\n",
       "      <td>120.0600</td>\n",
       "      <td>120.0600</td>\n",
       "      <td>440</td>\n",
       "      <td>0.000000</td>\n",
       "    </tr>\n",
       "  </tbody>\n",
       "</table>\n",
       "</div>"
      ],
      "text/plain": [
       "                         open      high       low     close  Trade Volume  \\\n",
       "Date_Time                                                                   \n",
       "1900-01-01 15:43:00  120.1300  120.1300  120.1000  120.1200         18444   \n",
       "1900-01-01 15:44:00  120.1200  120.1447  120.1000  120.1301         14904   \n",
       "1900-01-01 15:45:00  120.1432  120.1652  120.1300  120.1600         19340   \n",
       "1900-01-01 15:46:00  120.1600  120.1600  120.0900  120.0900         41443   \n",
       "1900-01-01 15:47:00  120.0800  120.1200  120.0600  120.0700         51340   \n",
       "1900-01-01 15:48:00  120.0670  120.2600  120.0600  120.1900         38291   \n",
       "1900-01-01 15:49:00  120.1800  120.2400  120.1400  120.1540         31880   \n",
       "1900-01-01 15:50:00  120.1550  120.1700  120.0700  120.0800         26119   \n",
       "1900-01-01 15:51:00  120.0800  120.1194  120.0400  120.0400         24983   \n",
       "1900-01-01 15:52:00  120.0400  120.1200  120.0400  120.1157         26512   \n",
       "1900-01-01 15:53:00  120.1100  120.1300  120.0800  120.1250         21354   \n",
       "1900-01-01 15:54:00  120.1257  120.1400  120.0800  120.0900         52909   \n",
       "1900-01-01 15:55:00  120.0900  120.1700  120.0900  120.1600         25315   \n",
       "1900-01-01 15:56:00  120.1700  120.2500  120.1072  120.2300         36757   \n",
       "1900-01-01 15:57:00  120.2200  120.2900  120.2200  120.2800         40464   \n",
       "1900-01-01 15:58:00  120.2750  120.2900  120.2300  120.2366         38395   \n",
       "1900-01-01 15:59:00  120.2300  120.2400  120.1400  120.1500         43922   \n",
       "1900-01-01 16:00:00  120.1500  120.1500  120.0500  120.0800        111184   \n",
       "1900-01-01 16:01:00  120.0600  120.0600  120.0600  120.0600           440   \n",
       "\n",
       "                     log returns  \n",
       "Date_Time                         \n",
       "1900-01-01 15:43:00    -0.000083  \n",
       "1900-01-01 15:44:00     0.000084  \n",
       "1900-01-01 15:45:00     0.000140  \n",
       "1900-01-01 15:46:00    -0.000583  \n",
       "1900-01-01 15:47:00    -0.000083  \n",
       "1900-01-01 15:48:00     0.001024  \n",
       "1900-01-01 15:49:00    -0.000216  \n",
       "1900-01-01 15:50:00    -0.000624  \n",
       "1900-01-01 15:51:00    -0.000333  \n",
       "1900-01-01 15:52:00     0.000630  \n",
       "1900-01-01 15:53:00     0.000125  \n",
       "1900-01-01 15:54:00    -0.000297  \n",
       "1900-01-01 15:55:00     0.000583  \n",
       "1900-01-01 15:56:00     0.000499  \n",
       "1900-01-01 15:57:00     0.000499  \n",
       "1900-01-01 15:58:00    -0.000319  \n",
       "1900-01-01 15:59:00    -0.000666  \n",
       "1900-01-01 16:00:00    -0.000583  \n",
       "1900-01-01 16:01:00     0.000000  "
      ]
     },
     "execution_count": 12,
     "metadata": {},
     "output_type": "execute_result"
    }
   ],
   "source": [
    "IBM_1Minbars[-20:-1]"
   ]
  },
  {
   "cell_type": "code",
   "execution_count": 13,
   "metadata": {
    "scrolled": true
   },
   "outputs": [
    {
     "data": {
      "text/html": [
       "<div>\n",
       "<style scoped>\n",
       "    .dataframe tbody tr th:only-of-type {\n",
       "        vertical-align: middle;\n",
       "    }\n",
       "\n",
       "    .dataframe tbody tr th {\n",
       "        vertical-align: top;\n",
       "    }\n",
       "\n",
       "    .dataframe thead th {\n",
       "        text-align: right;\n",
       "    }\n",
       "</style>\n",
       "<table border=\"1\" class=\"dataframe\">\n",
       "  <thead>\n",
       "    <tr style=\"text-align: right;\">\n",
       "      <th></th>\n",
       "      <th>open</th>\n",
       "      <th>high</th>\n",
       "      <th>low</th>\n",
       "      <th>close</th>\n",
       "      <th>Trade Volume</th>\n",
       "      <th>log returns</th>\n",
       "    </tr>\n",
       "    <tr>\n",
       "      <th>Date_Time</th>\n",
       "      <th></th>\n",
       "      <th></th>\n",
       "      <th></th>\n",
       "      <th></th>\n",
       "      <th></th>\n",
       "      <th></th>\n",
       "    </tr>\n",
       "  </thead>\n",
       "  <tbody>\n",
       "    <tr>\n",
       "      <th>1900-01-01 09:31:00</th>\n",
       "      <td>106.4900</td>\n",
       "      <td>106.5000</td>\n",
       "      <td>106.12</td>\n",
       "      <td>106.420</td>\n",
       "      <td>675660</td>\n",
       "      <td>-0.000658</td>\n",
       "    </tr>\n",
       "    <tr>\n",
       "      <th>1900-01-01 09:32:00</th>\n",
       "      <td>106.4296</td>\n",
       "      <td>106.4300</td>\n",
       "      <td>106.14</td>\n",
       "      <td>106.180</td>\n",
       "      <td>179764</td>\n",
       "      <td>-0.002348</td>\n",
       "    </tr>\n",
       "    <tr>\n",
       "      <th>1900-01-01 09:33:00</th>\n",
       "      <td>106.1800</td>\n",
       "      <td>106.3800</td>\n",
       "      <td>106.13</td>\n",
       "      <td>106.230</td>\n",
       "      <td>245306</td>\n",
       "      <td>0.000471</td>\n",
       "    </tr>\n",
       "    <tr>\n",
       "      <th>1900-01-01 09:34:00</th>\n",
       "      <td>106.2300</td>\n",
       "      <td>106.3200</td>\n",
       "      <td>106.08</td>\n",
       "      <td>106.265</td>\n",
       "      <td>230709</td>\n",
       "      <td>0.000329</td>\n",
       "    </tr>\n",
       "    <tr>\n",
       "      <th>1900-01-01 09:35:00</th>\n",
       "      <td>106.2600</td>\n",
       "      <td>106.5294</td>\n",
       "      <td>106.18</td>\n",
       "      <td>106.215</td>\n",
       "      <td>254629</td>\n",
       "      <td>-0.000424</td>\n",
       "    </tr>\n",
       "  </tbody>\n",
       "</table>\n",
       "</div>"
      ],
      "text/plain": [
       "                         open      high     low    close  Trade Volume  \\\n",
       "Date_Time                                                                \n",
       "1900-01-01 09:31:00  106.4900  106.5000  106.12  106.420        675660   \n",
       "1900-01-01 09:32:00  106.4296  106.4300  106.14  106.180        179764   \n",
       "1900-01-01 09:33:00  106.1800  106.3800  106.13  106.230        245306   \n",
       "1900-01-01 09:34:00  106.2300  106.3200  106.08  106.265        230709   \n",
       "1900-01-01 09:35:00  106.2600  106.5294  106.18  106.215        254629   \n",
       "\n",
       "                     log returns  \n",
       "Date_Time                         \n",
       "1900-01-01 09:31:00    -0.000658  \n",
       "1900-01-01 09:32:00    -0.002348  \n",
       "1900-01-01 09:33:00     0.000471  \n",
       "1900-01-01 09:34:00     0.000329  \n",
       "1900-01-01 09:35:00    -0.000424  "
      ]
     },
     "execution_count": 13,
     "metadata": {},
     "output_type": "execute_result"
    }
   ],
   "source": [
    "MSFT_1Minbars[0:5]"
   ]
  },
  {
   "cell_type": "code",
   "execution_count": 14,
   "metadata": {},
   "outputs": [
    {
     "data": {
      "text/html": [
       "<div>\n",
       "<style scoped>\n",
       "    .dataframe tbody tr th:only-of-type {\n",
       "        vertical-align: middle;\n",
       "    }\n",
       "\n",
       "    .dataframe tbody tr th {\n",
       "        vertical-align: top;\n",
       "    }\n",
       "\n",
       "    .dataframe thead th {\n",
       "        text-align: right;\n",
       "    }\n",
       "</style>\n",
       "<table border=\"1\" class=\"dataframe\">\n",
       "  <thead>\n",
       "    <tr style=\"text-align: right;\">\n",
       "      <th></th>\n",
       "      <th>open</th>\n",
       "      <th>high</th>\n",
       "      <th>low</th>\n",
       "      <th>close</th>\n",
       "      <th>Trade Volume</th>\n",
       "      <th>log returns</th>\n",
       "    </tr>\n",
       "    <tr>\n",
       "      <th>Date_Time</th>\n",
       "      <th></th>\n",
       "      <th></th>\n",
       "      <th></th>\n",
       "      <th></th>\n",
       "      <th></th>\n",
       "      <th></th>\n",
       "    </tr>\n",
       "  </thead>\n",
       "  <tbody>\n",
       "    <tr>\n",
       "      <th>1900-01-01 15:57:00</th>\n",
       "      <td>107.67</td>\n",
       "      <td>107.71</td>\n",
       "      <td>107.5855</td>\n",
       "      <td>107.7000</td>\n",
       "      <td>143773</td>\n",
       "      <td>0.000279</td>\n",
       "    </tr>\n",
       "    <tr>\n",
       "      <th>1900-01-01 15:58:00</th>\n",
       "      <td>107.70</td>\n",
       "      <td>107.71</td>\n",
       "      <td>107.6500</td>\n",
       "      <td>107.6550</td>\n",
       "      <td>122849</td>\n",
       "      <td>-0.000418</td>\n",
       "    </tr>\n",
       "    <tr>\n",
       "      <th>1900-01-01 15:59:00</th>\n",
       "      <td>107.66</td>\n",
       "      <td>107.67</td>\n",
       "      <td>107.5200</td>\n",
       "      <td>107.5592</td>\n",
       "      <td>320923</td>\n",
       "      <td>-0.000937</td>\n",
       "    </tr>\n",
       "    <tr>\n",
       "      <th>1900-01-01 16:00:00</th>\n",
       "      <td>107.56</td>\n",
       "      <td>107.59</td>\n",
       "      <td>107.4700</td>\n",
       "      <td>107.4900</td>\n",
       "      <td>356611</td>\n",
       "      <td>-0.000651</td>\n",
       "    </tr>\n",
       "    <tr>\n",
       "      <th>1900-01-01 16:01:00</th>\n",
       "      <td>107.49</td>\n",
       "      <td>107.51</td>\n",
       "      <td>107.4900</td>\n",
       "      <td>107.5100</td>\n",
       "      <td>1864837</td>\n",
       "      <td>0.000186</td>\n",
       "    </tr>\n",
       "    <tr>\n",
       "      <th>1900-01-01 16:02:00</th>\n",
       "      <td>NaN</td>\n",
       "      <td>NaN</td>\n",
       "      <td>NaN</td>\n",
       "      <td>NaN</td>\n",
       "      <td>0</td>\n",
       "      <td>NaN</td>\n",
       "    </tr>\n",
       "    <tr>\n",
       "      <th>1900-01-01 16:03:00</th>\n",
       "      <td>NaN</td>\n",
       "      <td>NaN</td>\n",
       "      <td>NaN</td>\n",
       "      <td>NaN</td>\n",
       "      <td>0</td>\n",
       "      <td>NaN</td>\n",
       "    </tr>\n",
       "    <tr>\n",
       "      <th>1900-01-01 16:04:00</th>\n",
       "      <td>NaN</td>\n",
       "      <td>NaN</td>\n",
       "      <td>NaN</td>\n",
       "      <td>NaN</td>\n",
       "      <td>0</td>\n",
       "      <td>NaN</td>\n",
       "    </tr>\n",
       "    <tr>\n",
       "      <th>1900-01-01 16:05:00</th>\n",
       "      <td>NaN</td>\n",
       "      <td>NaN</td>\n",
       "      <td>NaN</td>\n",
       "      <td>NaN</td>\n",
       "      <td>0</td>\n",
       "      <td>NaN</td>\n",
       "    </tr>\n",
       "    <tr>\n",
       "      <th>1900-01-01 16:06:00</th>\n",
       "      <td>NaN</td>\n",
       "      <td>NaN</td>\n",
       "      <td>NaN</td>\n",
       "      <td>NaN</td>\n",
       "      <td>0</td>\n",
       "      <td>NaN</td>\n",
       "    </tr>\n",
       "    <tr>\n",
       "      <th>1900-01-01 16:07:00</th>\n",
       "      <td>NaN</td>\n",
       "      <td>NaN</td>\n",
       "      <td>NaN</td>\n",
       "      <td>NaN</td>\n",
       "      <td>0</td>\n",
       "      <td>NaN</td>\n",
       "    </tr>\n",
       "    <tr>\n",
       "      <th>1900-01-01 16:08:00</th>\n",
       "      <td>NaN</td>\n",
       "      <td>NaN</td>\n",
       "      <td>NaN</td>\n",
       "      <td>NaN</td>\n",
       "      <td>0</td>\n",
       "      <td>NaN</td>\n",
       "    </tr>\n",
       "    <tr>\n",
       "      <th>1900-01-01 16:09:00</th>\n",
       "      <td>NaN</td>\n",
       "      <td>NaN</td>\n",
       "      <td>NaN</td>\n",
       "      <td>NaN</td>\n",
       "      <td>0</td>\n",
       "      <td>NaN</td>\n",
       "    </tr>\n",
       "    <tr>\n",
       "      <th>1900-01-01 16:10:00</th>\n",
       "      <td>NaN</td>\n",
       "      <td>NaN</td>\n",
       "      <td>NaN</td>\n",
       "      <td>NaN</td>\n",
       "      <td>0</td>\n",
       "      <td>NaN</td>\n",
       "    </tr>\n",
       "    <tr>\n",
       "      <th>1900-01-01 16:11:00</th>\n",
       "      <td>NaN</td>\n",
       "      <td>NaN</td>\n",
       "      <td>NaN</td>\n",
       "      <td>NaN</td>\n",
       "      <td>0</td>\n",
       "      <td>NaN</td>\n",
       "    </tr>\n",
       "    <tr>\n",
       "      <th>1900-01-01 16:12:00</th>\n",
       "      <td>NaN</td>\n",
       "      <td>NaN</td>\n",
       "      <td>NaN</td>\n",
       "      <td>NaN</td>\n",
       "      <td>0</td>\n",
       "      <td>NaN</td>\n",
       "    </tr>\n",
       "    <tr>\n",
       "      <th>1900-01-01 16:13:00</th>\n",
       "      <td>NaN</td>\n",
       "      <td>NaN</td>\n",
       "      <td>NaN</td>\n",
       "      <td>NaN</td>\n",
       "      <td>0</td>\n",
       "      <td>NaN</td>\n",
       "    </tr>\n",
       "    <tr>\n",
       "      <th>1900-01-01 16:14:00</th>\n",
       "      <td>NaN</td>\n",
       "      <td>NaN</td>\n",
       "      <td>NaN</td>\n",
       "      <td>NaN</td>\n",
       "      <td>0</td>\n",
       "      <td>NaN</td>\n",
       "    </tr>\n",
       "    <tr>\n",
       "      <th>1900-01-01 16:15:00</th>\n",
       "      <td>NaN</td>\n",
       "      <td>NaN</td>\n",
       "      <td>NaN</td>\n",
       "      <td>NaN</td>\n",
       "      <td>0</td>\n",
       "      <td>NaN</td>\n",
       "    </tr>\n",
       "  </tbody>\n",
       "</table>\n",
       "</div>"
      ],
      "text/plain": [
       "                       open    high       low     close  Trade Volume  \\\n",
       "Date_Time                                                               \n",
       "1900-01-01 15:57:00  107.67  107.71  107.5855  107.7000        143773   \n",
       "1900-01-01 15:58:00  107.70  107.71  107.6500  107.6550        122849   \n",
       "1900-01-01 15:59:00  107.66  107.67  107.5200  107.5592        320923   \n",
       "1900-01-01 16:00:00  107.56  107.59  107.4700  107.4900        356611   \n",
       "1900-01-01 16:01:00  107.49  107.51  107.4900  107.5100       1864837   \n",
       "1900-01-01 16:02:00     NaN     NaN       NaN       NaN             0   \n",
       "1900-01-01 16:03:00     NaN     NaN       NaN       NaN             0   \n",
       "1900-01-01 16:04:00     NaN     NaN       NaN       NaN             0   \n",
       "1900-01-01 16:05:00     NaN     NaN       NaN       NaN             0   \n",
       "1900-01-01 16:06:00     NaN     NaN       NaN       NaN             0   \n",
       "1900-01-01 16:07:00     NaN     NaN       NaN       NaN             0   \n",
       "1900-01-01 16:08:00     NaN     NaN       NaN       NaN             0   \n",
       "1900-01-01 16:09:00     NaN     NaN       NaN       NaN             0   \n",
       "1900-01-01 16:10:00     NaN     NaN       NaN       NaN             0   \n",
       "1900-01-01 16:11:00     NaN     NaN       NaN       NaN             0   \n",
       "1900-01-01 16:12:00     NaN     NaN       NaN       NaN             0   \n",
       "1900-01-01 16:13:00     NaN     NaN       NaN       NaN             0   \n",
       "1900-01-01 16:14:00     NaN     NaN       NaN       NaN             0   \n",
       "1900-01-01 16:15:00     NaN     NaN       NaN       NaN             0   \n",
       "\n",
       "                     log returns  \n",
       "Date_Time                         \n",
       "1900-01-01 15:57:00     0.000279  \n",
       "1900-01-01 15:58:00    -0.000418  \n",
       "1900-01-01 15:59:00    -0.000937  \n",
       "1900-01-01 16:00:00    -0.000651  \n",
       "1900-01-01 16:01:00     0.000186  \n",
       "1900-01-01 16:02:00          NaN  \n",
       "1900-01-01 16:03:00          NaN  \n",
       "1900-01-01 16:04:00          NaN  \n",
       "1900-01-01 16:05:00          NaN  \n",
       "1900-01-01 16:06:00          NaN  \n",
       "1900-01-01 16:07:00          NaN  \n",
       "1900-01-01 16:08:00          NaN  \n",
       "1900-01-01 16:09:00          NaN  \n",
       "1900-01-01 16:10:00          NaN  \n",
       "1900-01-01 16:11:00          NaN  \n",
       "1900-01-01 16:12:00          NaN  \n",
       "1900-01-01 16:13:00          NaN  \n",
       "1900-01-01 16:14:00          NaN  \n",
       "1900-01-01 16:15:00          NaN  "
      ]
     },
     "execution_count": 14,
     "metadata": {},
     "output_type": "execute_result"
    }
   ],
   "source": [
    "MSFT_1Minbars[-20:-1]"
   ]
  },
  {
   "cell_type": "markdown",
   "metadata": {},
   "source": [
    "In order to align the calendars we will restrict to the trading day, 9:30 to 4:00."
   ]
  },
  {
   "cell_type": "code",
   "execution_count": 15,
   "metadata": {},
   "outputs": [],
   "source": [
    "to_drop = []\n",
    "for time in AAPL_1Minbars.index:\n",
    "    if time > pd.Timestamp('1900-01-01 16:00:00', freq='T'):\n",
    "        to_drop.append(time)\n",
    "        \n",
    "AAPL_1Minbars = AAPL_1Minbars.drop(to_drop)"
   ]
  },
  {
   "cell_type": "code",
   "execution_count": 16,
   "metadata": {
    "scrolled": true
   },
   "outputs": [
    {
     "data": {
      "text/html": [
       "<div>\n",
       "<style scoped>\n",
       "    .dataframe tbody tr th:only-of-type {\n",
       "        vertical-align: middle;\n",
       "    }\n",
       "\n",
       "    .dataframe tbody tr th {\n",
       "        vertical-align: top;\n",
       "    }\n",
       "\n",
       "    .dataframe thead th {\n",
       "        text-align: right;\n",
       "    }\n",
       "</style>\n",
       "<table border=\"1\" class=\"dataframe\">\n",
       "  <thead>\n",
       "    <tr style=\"text-align: right;\">\n",
       "      <th></th>\n",
       "      <th>open</th>\n",
       "      <th>high</th>\n",
       "      <th>low</th>\n",
       "      <th>close</th>\n",
       "      <th>Trade Volume</th>\n",
       "      <th>log returns</th>\n",
       "    </tr>\n",
       "    <tr>\n",
       "      <th>Date_Time</th>\n",
       "      <th></th>\n",
       "      <th></th>\n",
       "      <th></th>\n",
       "      <th></th>\n",
       "      <th></th>\n",
       "      <th></th>\n",
       "    </tr>\n",
       "  </thead>\n",
       "  <tbody>\n",
       "    <tr>\n",
       "      <th>1900-01-01 09:31:00</th>\n",
       "      <td>204.3900</td>\n",
       "      <td>204.390</td>\n",
       "      <td>203.020</td>\n",
       "      <td>203.2400</td>\n",
       "      <td>2055463</td>\n",
       "      <td>-5.642387e-03</td>\n",
       "    </tr>\n",
       "    <tr>\n",
       "      <th>1900-01-01 09:32:00</th>\n",
       "      <td>203.2600</td>\n",
       "      <td>204.390</td>\n",
       "      <td>202.280</td>\n",
       "      <td>202.4532</td>\n",
       "      <td>758040</td>\n",
       "      <td>-3.977199e-03</td>\n",
       "    </tr>\n",
       "    <tr>\n",
       "      <th>1900-01-01 09:33:00</th>\n",
       "      <td>202.4900</td>\n",
       "      <td>204.390</td>\n",
       "      <td>201.630</td>\n",
       "      <td>202.1100</td>\n",
       "      <td>903186</td>\n",
       "      <td>-1.878399e-03</td>\n",
       "    </tr>\n",
       "    <tr>\n",
       "      <th>1900-01-01 09:34:00</th>\n",
       "      <td>202.1600</td>\n",
       "      <td>204.390</td>\n",
       "      <td>201.700</td>\n",
       "      <td>202.4200</td>\n",
       "      <td>605879</td>\n",
       "      <td>1.285284e-03</td>\n",
       "    </tr>\n",
       "    <tr>\n",
       "      <th>1900-01-01 09:35:00</th>\n",
       "      <td>202.4200</td>\n",
       "      <td>204.390</td>\n",
       "      <td>202.390</td>\n",
       "      <td>203.1063</td>\n",
       "      <td>577415</td>\n",
       "      <td>3.384741e-03</td>\n",
       "    </tr>\n",
       "    <tr>\n",
       "      <th>...</th>\n",
       "      <td>...</td>\n",
       "      <td>...</td>\n",
       "      <td>...</td>\n",
       "      <td>...</td>\n",
       "      <td>...</td>\n",
       "      <td>...</td>\n",
       "    </tr>\n",
       "    <tr>\n",
       "      <th>1900-01-01 15:56:00</th>\n",
       "      <td>201.4000</td>\n",
       "      <td>201.680</td>\n",
       "      <td>201.312</td>\n",
       "      <td>201.6700</td>\n",
       "      <td>354583</td>\n",
       "      <td>1.339718e-03</td>\n",
       "    </tr>\n",
       "    <tr>\n",
       "      <th>1900-01-01 15:57:00</th>\n",
       "      <td>201.6750</td>\n",
       "      <td>201.675</td>\n",
       "      <td>201.470</td>\n",
       "      <td>201.6350</td>\n",
       "      <td>184265</td>\n",
       "      <td>-1.983586e-04</td>\n",
       "    </tr>\n",
       "    <tr>\n",
       "      <th>1900-01-01 15:58:00</th>\n",
       "      <td>201.6328</td>\n",
       "      <td>201.650</td>\n",
       "      <td>201.360</td>\n",
       "      <td>201.4600</td>\n",
       "      <td>252416</td>\n",
       "      <td>-8.573709e-04</td>\n",
       "    </tr>\n",
       "    <tr>\n",
       "      <th>1900-01-01 15:59:00</th>\n",
       "      <td>201.4500</td>\n",
       "      <td>201.520</td>\n",
       "      <td>201.310</td>\n",
       "      <td>201.4501</td>\n",
       "      <td>212732</td>\n",
       "      <td>4.964010e-07</td>\n",
       "    </tr>\n",
       "    <tr>\n",
       "      <th>1900-01-01 16:00:00</th>\n",
       "      <td>201.4500</td>\n",
       "      <td>201.890</td>\n",
       "      <td>201.290</td>\n",
       "      <td>201.5900</td>\n",
       "      <td>509096</td>\n",
       "      <td>6.947202e-04</td>\n",
       "    </tr>\n",
       "  </tbody>\n",
       "</table>\n",
       "<p>390 rows × 6 columns</p>\n",
       "</div>"
      ],
      "text/plain": [
       "                         open     high      low     close  Trade Volume  \\\n",
       "Date_Time                                                                 \n",
       "1900-01-01 09:31:00  204.3900  204.390  203.020  203.2400       2055463   \n",
       "1900-01-01 09:32:00  203.2600  204.390  202.280  202.4532        758040   \n",
       "1900-01-01 09:33:00  202.4900  204.390  201.630  202.1100        903186   \n",
       "1900-01-01 09:34:00  202.1600  204.390  201.700  202.4200        605879   \n",
       "1900-01-01 09:35:00  202.4200  204.390  202.390  203.1063        577415   \n",
       "...                       ...      ...      ...       ...           ...   \n",
       "1900-01-01 15:56:00  201.4000  201.680  201.312  201.6700        354583   \n",
       "1900-01-01 15:57:00  201.6750  201.675  201.470  201.6350        184265   \n",
       "1900-01-01 15:58:00  201.6328  201.650  201.360  201.4600        252416   \n",
       "1900-01-01 15:59:00  201.4500  201.520  201.310  201.4501        212732   \n",
       "1900-01-01 16:00:00  201.4500  201.890  201.290  201.5900        509096   \n",
       "\n",
       "                      log returns  \n",
       "Date_Time                          \n",
       "1900-01-01 09:31:00 -5.642387e-03  \n",
       "1900-01-01 09:32:00 -3.977199e-03  \n",
       "1900-01-01 09:33:00 -1.878399e-03  \n",
       "1900-01-01 09:34:00  1.285284e-03  \n",
       "1900-01-01 09:35:00  3.384741e-03  \n",
       "...                           ...  \n",
       "1900-01-01 15:56:00  1.339718e-03  \n",
       "1900-01-01 15:57:00 -1.983586e-04  \n",
       "1900-01-01 15:58:00 -8.573709e-04  \n",
       "1900-01-01 15:59:00  4.964010e-07  \n",
       "1900-01-01 16:00:00  6.947202e-04  \n",
       "\n",
       "[390 rows x 6 columns]"
      ]
     },
     "execution_count": 16,
     "metadata": {},
     "output_type": "execute_result"
    }
   ],
   "source": [
    "AAPL_1Minbars"
   ]
  },
  {
   "cell_type": "code",
   "execution_count": 17,
   "metadata": {},
   "outputs": [],
   "source": [
    "to_drop = []\n",
    "for time in IBM_1Minbars.index:\n",
    "    if time > pd.Timestamp('1900-01-01 16:00:00', freq='T'):\n",
    "        to_drop.append(time)\n",
    "        \n",
    "IBM_1Minbars = IBM_1Minbars.drop(to_drop)"
   ]
  },
  {
   "cell_type": "code",
   "execution_count": 18,
   "metadata": {},
   "outputs": [
    {
     "data": {
      "text/html": [
       "<div>\n",
       "<style scoped>\n",
       "    .dataframe tbody tr th:only-of-type {\n",
       "        vertical-align: middle;\n",
       "    }\n",
       "\n",
       "    .dataframe tbody tr th {\n",
       "        vertical-align: top;\n",
       "    }\n",
       "\n",
       "    .dataframe thead th {\n",
       "        text-align: right;\n",
       "    }\n",
       "</style>\n",
       "<table border=\"1\" class=\"dataframe\">\n",
       "  <thead>\n",
       "    <tr style=\"text-align: right;\">\n",
       "      <th></th>\n",
       "      <th>open</th>\n",
       "      <th>high</th>\n",
       "      <th>low</th>\n",
       "      <th>close</th>\n",
       "      <th>Trade Volume</th>\n",
       "      <th>log returns</th>\n",
       "    </tr>\n",
       "    <tr>\n",
       "      <th>Date_Time</th>\n",
       "      <th></th>\n",
       "      <th></th>\n",
       "      <th></th>\n",
       "      <th></th>\n",
       "      <th></th>\n",
       "      <th></th>\n",
       "    </tr>\n",
       "  </thead>\n",
       "  <tbody>\n",
       "    <tr>\n",
       "      <th>1900-01-01 09:31:00</th>\n",
       "      <td>116.3400</td>\n",
       "      <td>116.3400</td>\n",
       "      <td>115.9630</td>\n",
       "      <td>116.1000</td>\n",
       "      <td>24211</td>\n",
       "      <td>-0.002065</td>\n",
       "    </tr>\n",
       "    <tr>\n",
       "      <th>1900-01-01 09:32:00</th>\n",
       "      <td>116.1000</td>\n",
       "      <td>116.7562</td>\n",
       "      <td>116.0800</td>\n",
       "      <td>116.4811</td>\n",
       "      <td>39270</td>\n",
       "      <td>0.003277</td>\n",
       "    </tr>\n",
       "    <tr>\n",
       "      <th>1900-01-01 09:33:00</th>\n",
       "      <td>116.5000</td>\n",
       "      <td>116.6300</td>\n",
       "      <td>116.1000</td>\n",
       "      <td>116.4000</td>\n",
       "      <td>21832</td>\n",
       "      <td>-0.000859</td>\n",
       "    </tr>\n",
       "    <tr>\n",
       "      <th>1900-01-01 09:34:00</th>\n",
       "      <td>116.4450</td>\n",
       "      <td>116.6300</td>\n",
       "      <td>116.3900</td>\n",
       "      <td>116.6300</td>\n",
       "      <td>20725</td>\n",
       "      <td>0.001587</td>\n",
       "    </tr>\n",
       "    <tr>\n",
       "      <th>1900-01-01 09:35:00</th>\n",
       "      <td>116.5598</td>\n",
       "      <td>116.8900</td>\n",
       "      <td>116.5598</td>\n",
       "      <td>116.8900</td>\n",
       "      <td>27293</td>\n",
       "      <td>0.002829</td>\n",
       "    </tr>\n",
       "    <tr>\n",
       "      <th>...</th>\n",
       "      <td>...</td>\n",
       "      <td>...</td>\n",
       "      <td>...</td>\n",
       "      <td>...</td>\n",
       "      <td>...</td>\n",
       "      <td>...</td>\n",
       "    </tr>\n",
       "    <tr>\n",
       "      <th>1900-01-01 15:56:00</th>\n",
       "      <td>120.1700</td>\n",
       "      <td>120.2500</td>\n",
       "      <td>120.1072</td>\n",
       "      <td>120.2300</td>\n",
       "      <td>36757</td>\n",
       "      <td>0.000499</td>\n",
       "    </tr>\n",
       "    <tr>\n",
       "      <th>1900-01-01 15:57:00</th>\n",
       "      <td>120.2200</td>\n",
       "      <td>120.2900</td>\n",
       "      <td>120.2200</td>\n",
       "      <td>120.2800</td>\n",
       "      <td>40464</td>\n",
       "      <td>0.000499</td>\n",
       "    </tr>\n",
       "    <tr>\n",
       "      <th>1900-01-01 15:58:00</th>\n",
       "      <td>120.2750</td>\n",
       "      <td>120.2900</td>\n",
       "      <td>120.2300</td>\n",
       "      <td>120.2366</td>\n",
       "      <td>38395</td>\n",
       "      <td>-0.000319</td>\n",
       "    </tr>\n",
       "    <tr>\n",
       "      <th>1900-01-01 15:59:00</th>\n",
       "      <td>120.2300</td>\n",
       "      <td>120.2400</td>\n",
       "      <td>120.1400</td>\n",
       "      <td>120.1500</td>\n",
       "      <td>43922</td>\n",
       "      <td>-0.000666</td>\n",
       "    </tr>\n",
       "    <tr>\n",
       "      <th>1900-01-01 16:00:00</th>\n",
       "      <td>120.1500</td>\n",
       "      <td>120.1500</td>\n",
       "      <td>120.0500</td>\n",
       "      <td>120.0800</td>\n",
       "      <td>111184</td>\n",
       "      <td>-0.000583</td>\n",
       "    </tr>\n",
       "  </tbody>\n",
       "</table>\n",
       "<p>390 rows × 6 columns</p>\n",
       "</div>"
      ],
      "text/plain": [
       "                         open      high       low     close  Trade Volume  \\\n",
       "Date_Time                                                                   \n",
       "1900-01-01 09:31:00  116.3400  116.3400  115.9630  116.1000         24211   \n",
       "1900-01-01 09:32:00  116.1000  116.7562  116.0800  116.4811         39270   \n",
       "1900-01-01 09:33:00  116.5000  116.6300  116.1000  116.4000         21832   \n",
       "1900-01-01 09:34:00  116.4450  116.6300  116.3900  116.6300         20725   \n",
       "1900-01-01 09:35:00  116.5598  116.8900  116.5598  116.8900         27293   \n",
       "...                       ...       ...       ...       ...           ...   \n",
       "1900-01-01 15:56:00  120.1700  120.2500  120.1072  120.2300         36757   \n",
       "1900-01-01 15:57:00  120.2200  120.2900  120.2200  120.2800         40464   \n",
       "1900-01-01 15:58:00  120.2750  120.2900  120.2300  120.2366         38395   \n",
       "1900-01-01 15:59:00  120.2300  120.2400  120.1400  120.1500         43922   \n",
       "1900-01-01 16:00:00  120.1500  120.1500  120.0500  120.0800        111184   \n",
       "\n",
       "                     log returns  \n",
       "Date_Time                         \n",
       "1900-01-01 09:31:00    -0.002065  \n",
       "1900-01-01 09:32:00     0.003277  \n",
       "1900-01-01 09:33:00    -0.000859  \n",
       "1900-01-01 09:34:00     0.001587  \n",
       "1900-01-01 09:35:00     0.002829  \n",
       "...                          ...  \n",
       "1900-01-01 15:56:00     0.000499  \n",
       "1900-01-01 15:57:00     0.000499  \n",
       "1900-01-01 15:58:00    -0.000319  \n",
       "1900-01-01 15:59:00    -0.000666  \n",
       "1900-01-01 16:00:00    -0.000583  \n",
       "\n",
       "[390 rows x 6 columns]"
      ]
     },
     "execution_count": 18,
     "metadata": {},
     "output_type": "execute_result"
    }
   ],
   "source": [
    "IBM_1Minbars"
   ]
  },
  {
   "cell_type": "code",
   "execution_count": 19,
   "metadata": {},
   "outputs": [],
   "source": [
    "to_drop = []\n",
    "for time in MSFT_1Minbars.index:\n",
    "    if time > pd.Timestamp('1900-01-01 16:00:00', freq='T'):\n",
    "        to_drop.append(time)\n",
    "        \n",
    "MSFT_1Minbars = MSFT_1Minbars.drop(to_drop)"
   ]
  },
  {
   "cell_type": "code",
   "execution_count": 20,
   "metadata": {},
   "outputs": [
    {
     "data": {
      "text/html": [
       "<div>\n",
       "<style scoped>\n",
       "    .dataframe tbody tr th:only-of-type {\n",
       "        vertical-align: middle;\n",
       "    }\n",
       "\n",
       "    .dataframe tbody tr th {\n",
       "        vertical-align: top;\n",
       "    }\n",
       "\n",
       "    .dataframe thead th {\n",
       "        text-align: right;\n",
       "    }\n",
       "</style>\n",
       "<table border=\"1\" class=\"dataframe\">\n",
       "  <thead>\n",
       "    <tr style=\"text-align: right;\">\n",
       "      <th></th>\n",
       "      <th>open</th>\n",
       "      <th>high</th>\n",
       "      <th>low</th>\n",
       "      <th>close</th>\n",
       "      <th>Trade Volume</th>\n",
       "      <th>log returns</th>\n",
       "    </tr>\n",
       "    <tr>\n",
       "      <th>Date_Time</th>\n",
       "      <th></th>\n",
       "      <th></th>\n",
       "      <th></th>\n",
       "      <th></th>\n",
       "      <th></th>\n",
       "      <th></th>\n",
       "    </tr>\n",
       "  </thead>\n",
       "  <tbody>\n",
       "    <tr>\n",
       "      <th>1900-01-01 09:31:00</th>\n",
       "      <td>106.4900</td>\n",
       "      <td>106.5000</td>\n",
       "      <td>106.1200</td>\n",
       "      <td>106.4200</td>\n",
       "      <td>675660</td>\n",
       "      <td>-0.000658</td>\n",
       "    </tr>\n",
       "    <tr>\n",
       "      <th>1900-01-01 09:32:00</th>\n",
       "      <td>106.4296</td>\n",
       "      <td>106.4300</td>\n",
       "      <td>106.1400</td>\n",
       "      <td>106.1800</td>\n",
       "      <td>179764</td>\n",
       "      <td>-0.002348</td>\n",
       "    </tr>\n",
       "    <tr>\n",
       "      <th>1900-01-01 09:33:00</th>\n",
       "      <td>106.1800</td>\n",
       "      <td>106.3800</td>\n",
       "      <td>106.1300</td>\n",
       "      <td>106.2300</td>\n",
       "      <td>245306</td>\n",
       "      <td>0.000471</td>\n",
       "    </tr>\n",
       "    <tr>\n",
       "      <th>1900-01-01 09:34:00</th>\n",
       "      <td>106.2300</td>\n",
       "      <td>106.3200</td>\n",
       "      <td>106.0800</td>\n",
       "      <td>106.2650</td>\n",
       "      <td>230709</td>\n",
       "      <td>0.000329</td>\n",
       "    </tr>\n",
       "    <tr>\n",
       "      <th>1900-01-01 09:35:00</th>\n",
       "      <td>106.2600</td>\n",
       "      <td>106.5294</td>\n",
       "      <td>106.1800</td>\n",
       "      <td>106.2150</td>\n",
       "      <td>254629</td>\n",
       "      <td>-0.000424</td>\n",
       "    </tr>\n",
       "    <tr>\n",
       "      <th>...</th>\n",
       "      <td>...</td>\n",
       "      <td>...</td>\n",
       "      <td>...</td>\n",
       "      <td>...</td>\n",
       "      <td>...</td>\n",
       "      <td>...</td>\n",
       "    </tr>\n",
       "    <tr>\n",
       "      <th>1900-01-01 15:56:00</th>\n",
       "      <td>107.6400</td>\n",
       "      <td>107.7400</td>\n",
       "      <td>107.6350</td>\n",
       "      <td>107.6650</td>\n",
       "      <td>200114</td>\n",
       "      <td>0.000232</td>\n",
       "    </tr>\n",
       "    <tr>\n",
       "      <th>1900-01-01 15:57:00</th>\n",
       "      <td>107.6700</td>\n",
       "      <td>107.7100</td>\n",
       "      <td>107.5855</td>\n",
       "      <td>107.7000</td>\n",
       "      <td>143773</td>\n",
       "      <td>0.000279</td>\n",
       "    </tr>\n",
       "    <tr>\n",
       "      <th>1900-01-01 15:58:00</th>\n",
       "      <td>107.7000</td>\n",
       "      <td>107.7100</td>\n",
       "      <td>107.6500</td>\n",
       "      <td>107.6550</td>\n",
       "      <td>122849</td>\n",
       "      <td>-0.000418</td>\n",
       "    </tr>\n",
       "    <tr>\n",
       "      <th>1900-01-01 15:59:00</th>\n",
       "      <td>107.6600</td>\n",
       "      <td>107.6700</td>\n",
       "      <td>107.5200</td>\n",
       "      <td>107.5592</td>\n",
       "      <td>320923</td>\n",
       "      <td>-0.000937</td>\n",
       "    </tr>\n",
       "    <tr>\n",
       "      <th>1900-01-01 16:00:00</th>\n",
       "      <td>107.5600</td>\n",
       "      <td>107.5900</td>\n",
       "      <td>107.4700</td>\n",
       "      <td>107.4900</td>\n",
       "      <td>356611</td>\n",
       "      <td>-0.000651</td>\n",
       "    </tr>\n",
       "  </tbody>\n",
       "</table>\n",
       "<p>390 rows × 6 columns</p>\n",
       "</div>"
      ],
      "text/plain": [
       "                         open      high       low     close  Trade Volume  \\\n",
       "Date_Time                                                                   \n",
       "1900-01-01 09:31:00  106.4900  106.5000  106.1200  106.4200        675660   \n",
       "1900-01-01 09:32:00  106.4296  106.4300  106.1400  106.1800        179764   \n",
       "1900-01-01 09:33:00  106.1800  106.3800  106.1300  106.2300        245306   \n",
       "1900-01-01 09:34:00  106.2300  106.3200  106.0800  106.2650        230709   \n",
       "1900-01-01 09:35:00  106.2600  106.5294  106.1800  106.2150        254629   \n",
       "...                       ...       ...       ...       ...           ...   \n",
       "1900-01-01 15:56:00  107.6400  107.7400  107.6350  107.6650        200114   \n",
       "1900-01-01 15:57:00  107.6700  107.7100  107.5855  107.7000        143773   \n",
       "1900-01-01 15:58:00  107.7000  107.7100  107.6500  107.6550        122849   \n",
       "1900-01-01 15:59:00  107.6600  107.6700  107.5200  107.5592        320923   \n",
       "1900-01-01 16:00:00  107.5600  107.5900  107.4700  107.4900        356611   \n",
       "\n",
       "                     log returns  \n",
       "Date_Time                         \n",
       "1900-01-01 09:31:00    -0.000658  \n",
       "1900-01-01 09:32:00    -0.002348  \n",
       "1900-01-01 09:33:00     0.000471  \n",
       "1900-01-01 09:34:00     0.000329  \n",
       "1900-01-01 09:35:00    -0.000424  \n",
       "...                          ...  \n",
       "1900-01-01 15:56:00     0.000232  \n",
       "1900-01-01 15:57:00     0.000279  \n",
       "1900-01-01 15:58:00    -0.000418  \n",
       "1900-01-01 15:59:00    -0.000937  \n",
       "1900-01-01 16:00:00    -0.000651  \n",
       "\n",
       "[390 rows x 6 columns]"
      ]
     },
     "execution_count": 20,
     "metadata": {},
     "output_type": "execute_result"
    }
   ],
   "source": [
    "MSFT_1Minbars"
   ]
  },
  {
   "cell_type": "markdown",
   "metadata": {},
   "source": [
    "Although Pandas dataframes are very useful for a number of applications, they are probably not the best data structure to use in production code. There are a number of reasons for this and what you should use in ti's place depends on the production application. Below we create a standard type of structure that is typically used in production."
   ]
  },
  {
   "cell_type": "code",
   "execution_count": 21,
   "metadata": {
    "scrolled": true
   },
   "outputs": [],
   "source": [
    "mnLogReturns = np.vstack((np.array(AAPL_1Minbars['log returns']),np.array(IBM_1Minbars['log returns']),\n",
    "                                 np.array(MSFT_1Minbars['log returns'])))"
   ]
  },
  {
   "cell_type": "code",
   "execution_count": 22,
   "metadata": {},
   "outputs": [
    {
     "data": {
      "text/plain": [
       "array([[-5.64238673e-03, -3.97719898e-03, -1.87839897e-03, ...,\n",
       "        -8.57370861e-04,  4.96400969e-07,  6.94720155e-04],\n",
       "       [-2.06504978e-03,  3.27713938e-03, -8.58737708e-04, ...,\n",
       "        -3.19319320e-04, -6.65612804e-04, -5.82774857e-04],\n",
       "       [-6.57554859e-04, -2.34796655e-03,  4.70787636e-04, ...,\n",
       "        -4.17914612e-04, -9.36719469e-04, -6.51011416e-04]])"
      ]
     },
     "execution_count": 22,
     "metadata": {},
     "output_type": "execute_result"
    }
   ],
   "source": [
    "mnLogReturns"
   ]
  },
  {
   "cell_type": "code",
   "execution_count": 23,
   "metadata": {
    "scrolled": true
   },
   "outputs": [
    {
     "data": {
      "text/plain": [
       "DatetimeIndex(['1900-01-01 09:31:00', '1900-01-01 09:32:00',\n",
       "               '1900-01-01 09:33:00', '1900-01-01 09:34:00',\n",
       "               '1900-01-01 09:35:00', '1900-01-01 09:36:00',\n",
       "               '1900-01-01 09:37:00', '1900-01-01 09:38:00',\n",
       "               '1900-01-01 09:39:00', '1900-01-01 09:40:00',\n",
       "               ...\n",
       "               '1900-01-01 15:51:00', '1900-01-01 15:52:00',\n",
       "               '1900-01-01 15:53:00', '1900-01-01 15:54:00',\n",
       "               '1900-01-01 15:55:00', '1900-01-01 15:56:00',\n",
       "               '1900-01-01 15:57:00', '1900-01-01 15:58:00',\n",
       "               '1900-01-01 15:59:00', '1900-01-01 16:00:00'],\n",
       "              dtype='datetime64[ns]', name='Date_Time', length=390, freq='T')"
      ]
     },
     "execution_count": 23,
     "metadata": {},
     "output_type": "execute_result"
    }
   ],
   "source": [
    "AAPL_1Minbars.index"
   ]
  },
  {
   "cell_type": "code",
   "execution_count": 24,
   "metadata": {},
   "outputs": [],
   "source": [
    "vxCalendar = AAPL_1Minbars.index"
   ]
  },
  {
   "cell_type": "code",
   "execution_count": 25,
   "metadata": {
    "scrolled": true
   },
   "outputs": [],
   "source": [
    "dbLogReturns = [vxCalendar,['AAPL','IBM','MSFT'],mnLogReturns.transpose()]"
   ]
  },
  {
   "cell_type": "code",
   "execution_count": 26,
   "metadata": {},
   "outputs": [
    {
     "data": {
      "text/plain": [
       "[DatetimeIndex(['1900-01-01 09:31:00', '1900-01-01 09:32:00',\n",
       "                '1900-01-01 09:33:00', '1900-01-01 09:34:00',\n",
       "                '1900-01-01 09:35:00', '1900-01-01 09:36:00',\n",
       "                '1900-01-01 09:37:00', '1900-01-01 09:38:00',\n",
       "                '1900-01-01 09:39:00', '1900-01-01 09:40:00',\n",
       "                ...\n",
       "                '1900-01-01 15:51:00', '1900-01-01 15:52:00',\n",
       "                '1900-01-01 15:53:00', '1900-01-01 15:54:00',\n",
       "                '1900-01-01 15:55:00', '1900-01-01 15:56:00',\n",
       "                '1900-01-01 15:57:00', '1900-01-01 15:58:00',\n",
       "                '1900-01-01 15:59:00', '1900-01-01 16:00:00'],\n",
       "               dtype='datetime64[ns]', name='Date_Time', length=390, freq='T'),\n",
       " ['AAPL', 'IBM', 'MSFT'],\n",
       " array([[-5.64238673e-03, -2.06504978e-03, -6.57554859e-04],\n",
       "        [-3.97719898e-03,  3.27713938e-03, -2.34796655e-03],\n",
       "        [-1.87839897e-03, -8.58737708e-04,  4.70787636e-04],\n",
       "        ...,\n",
       "        [-8.57370861e-04, -3.19319320e-04, -4.17914612e-04],\n",
       "        [ 4.96400969e-07, -6.65612804e-04, -9.36719469e-04],\n",
       "        [ 6.94720155e-04, -5.82774857e-04, -6.51011416e-04]])]"
      ]
     },
     "execution_count": 26,
     "metadata": {},
     "output_type": "execute_result"
    }
   ],
   "source": [
    "dbLogReturns"
   ]
  },
  {
   "cell_type": "markdown",
   "metadata": {},
   "source": [
    "In quantitative trading volume contains a substantial amount of information as well. As such we will also create a data structure to hold our volume data."
   ]
  },
  {
   "cell_type": "code",
   "execution_count": 27,
   "metadata": {},
   "outputs": [],
   "source": [
    "mnTradeVolume = np.vstack((np.array(AAPL_1Minbars['Trade Volume']),np.array(IBM_1Minbars['Trade Volume']),\n",
    "                                 np.array(MSFT_1Minbars['Trade Volume'])))"
   ]
  },
  {
   "cell_type": "code",
   "execution_count": 28,
   "metadata": {},
   "outputs": [],
   "source": [
    "dbTradeVolume = [vxCalendar,['AAPL','IBM','MSFT'],mnTradeVolume.transpose()]"
   ]
  },
  {
   "cell_type": "code",
   "execution_count": 29,
   "metadata": {},
   "outputs": [
    {
     "data": {
      "text/plain": [
       "[DatetimeIndex(['1900-01-01 09:31:00', '1900-01-01 09:32:00',\n",
       "                '1900-01-01 09:33:00', '1900-01-01 09:34:00',\n",
       "                '1900-01-01 09:35:00', '1900-01-01 09:36:00',\n",
       "                '1900-01-01 09:37:00', '1900-01-01 09:38:00',\n",
       "                '1900-01-01 09:39:00', '1900-01-01 09:40:00',\n",
       "                ...\n",
       "                '1900-01-01 15:51:00', '1900-01-01 15:52:00',\n",
       "                '1900-01-01 15:53:00', '1900-01-01 15:54:00',\n",
       "                '1900-01-01 15:55:00', '1900-01-01 15:56:00',\n",
       "                '1900-01-01 15:57:00', '1900-01-01 15:58:00',\n",
       "                '1900-01-01 15:59:00', '1900-01-01 16:00:00'],\n",
       "               dtype='datetime64[ns]', name='Date_Time', length=390, freq='T'),\n",
       " ['AAPL', 'IBM', 'MSFT'],\n",
       " array([[2055463,   24211,  675660],\n",
       "        [ 758040,   39270,  179764],\n",
       "        [ 903186,   21832,  245306],\n",
       "        ...,\n",
       "        [ 252416,   38395,  122849],\n",
       "        [ 212732,   43922,  320923],\n",
       "        [ 509096,  111184,  356611]])]"
      ]
     },
     "execution_count": 29,
     "metadata": {},
     "output_type": "execute_result"
    }
   ],
   "source": [
    "dbTradeVolume"
   ]
  },
  {
   "cell_type": "markdown",
   "metadata": {},
   "source": [
    "## Exponential Smoothing"
   ]
  },
  {
   "cell_type": "markdown",
   "metadata": {},
   "source": [
    "Exponential smoothing (http://en.wikipedia.org/wiki/Exponential_smoothing) is a smoothing and forecasting method based on weights that decay exponentially the further back in time observations are observed. If we are smoothing a process $x_{t-1}$ to produce a forecast $s_t$], we begin with a smoothing parameter $0 < \\lambda < 1$ and initial condition $s_0$:\n",
    "$$s_1 = \\lambda x_0 + (1-\\lambda)s_0$$\n",
    "$$s_t = \\lambda x_{t-1} + (1-\\lambda)s_{t-1}$$\n",
    "Thus, the forecast or smooth for the present time $t$ (i.e., $s_t$)  is a weighted average of the previous observation and the previous forecast. In most cases, the initial condition is assumed to be 0, but if there is a better estimate then there is no reason not to use it."
   ]
  },
  {
   "cell_type": "markdown",
   "metadata": {},
   "source": [
    "If we assume history trails off into infinity, then the initial condition goes away and the iteration above is equivalent to:\n",
    "$$s_t = \\lambda \\sum_{i=1}^{t-1} (1-\\lambda)^i x_{t-i} + (1-\\lambda)^t s_0$$"
   ]
  },
  {
   "cell_type": "markdown",
   "metadata": {},
   "source": [
    "This form motivates the name exponential smoothing. The forecast employs an exponentially damped set of weights applied to the history. Further, examining the weights themselves it is straightforward to show:\n",
    "$$\\lambda \\sum_{i=1}^{t-1} (1-\\lambda)^i = 1-(1-\\lambda)^t \\rightarrow \\lambda \\sum_{i=1}^{t} (1-\\lambda)^i=1$$"
   ]
  },
  {
   "cell_type": "markdown",
   "metadata": {},
   "source": [
    "The weights add to unity; hence, this estimate is also called an exponentially smoothed moving average. Exponential smoothing is extremely easy to apply. It only requires a single parameter and  a single value $s_t$ to bootstrap the forecast from one time step to the next; nevertheless, it accomplishes the relatively sophisticated and intuitively appealing task of exponentially down weighting the past to estimate the future."
   ]
  },
  {
   "cell_type": "markdown",
   "metadata": {},
   "source": [
    "The parameter $\\lambda$ has a good interpretation as the model's half life $h$, i.e. the period at which the weight placed on an observation is half that of the initial weight. To see this take\n",
    "$$(1-\\lambda)^h = \\frac{1}{2} \\rightarrow \\lambda = 1 - 2^{-1/h} \\rightarrow h = -\\frac{ln(2)}{ln(1-\\lambda)}$$\n",
    "Thus, a half-life of $h = 20$ periods (roughly a month for daily data) sets $\\lambda \\approx 0.034$, and a smoothing parameter $\\lambda = 0.1$ sets the model's half life to $h \\approx 6.6$ periods."
   ]
  },
  {
   "cell_type": "code",
   "execution_count": 30,
   "metadata": {},
   "outputs": [
    {
     "data": {
      "text/plain": [
       "0.0340636710751544"
      ]
     },
     "execution_count": 30,
     "metadata": {},
     "output_type": "execute_result"
    }
   ],
   "source": [
    "es.xExponentialSmoothLambda(20)"
   ]
  },
  {
   "cell_type": "code",
   "execution_count": 31,
   "metadata": {},
   "outputs": [
    {
     "data": {
      "text/plain": [
       "6.578813478960585"
      ]
     },
     "execution_count": 31,
     "metadata": {},
     "output_type": "execute_result"
    }
   ],
   "source": [
    "es.xExponentialSmoothHalfLife(0.1)"
   ]
  },
  {
   "cell_type": "markdown",
   "metadata": {},
   "source": [
    "We will develop our own function to perform exponential smoothing. This function we employ will initialize using the initial value of the vector. May languages have built-in exponential smoothing functions. A material problem with the built-in functions is that they only work scalars or vectors. As will be covered shortly, smoothing linear regression models requires that the exponential smoothing function also extends to working with vectors of matrices."
   ]
  },
  {
   "cell_type": "code",
   "execution_count": 32,
   "metadata": {},
   "outputs": [
    {
     "data": {
      "text/plain": [
       "[1.0, 1.1, 1.29, 1.561, 1.9049]"
      ]
     },
     "execution_count": 32,
     "metadata": {},
     "output_type": "execute_result"
    }
   ],
   "source": [
    "es.xExponentialSmooth([1,2,3,4,5],0.1)"
   ]
  },
  {
   "cell_type": "code",
   "execution_count": 33,
   "metadata": {},
   "outputs": [
    {
     "data": {
      "text/plain": [
       "[array([1., 1., 1.]),\n",
       " array([1.1, 1.1, 1.1]),\n",
       " array([1.29, 1.29, 1.29]),\n",
       " array([1.561, 1.561, 1.561]),\n",
       " array([1.9049, 1.9049, 1.9049])]"
      ]
     },
     "execution_count": 33,
     "metadata": {},
     "output_type": "execute_result"
    }
   ],
   "source": [
    "es.xExponentialSmooth(np.array([[1,1,1],[2,2,2],[3,3,3],[4,4,4],[5,5,5]]),0.1)"
   ]
  },
  {
   "cell_type": "code",
   "execution_count": 34,
   "metadata": {},
   "outputs": [
    {
     "data": {
      "text/plain": [
       "[array([[1., 0., 0.],\n",
       "        [0., 1., 0.],\n",
       "        [0., 0., 1.]]),\n",
       " array([[1.1, 0. , 0. ],\n",
       "        [0. , 1.1, 0. ],\n",
       "        [0. , 0. , 1.1]]),\n",
       " array([[1.29, 0.  , 0.  ],\n",
       "        [0.  , 1.29, 0.  ],\n",
       "        [0.  , 0.  , 1.29]]),\n",
       " array([[1.561, 0.   , 0.   ],\n",
       "        [0.   , 1.561, 0.   ],\n",
       "        [0.   , 0.   , 1.561]])]"
      ]
     },
     "execution_count": 34,
     "metadata": {},
     "output_type": "execute_result"
    }
   ],
   "source": [
    "es.xExponentialSmooth([np.identity(3),2*np.identity(3),3*np.identity(3),4*np.identity(3)],0.1)"
   ]
  },
  {
   "cell_type": "markdown",
   "metadata": {},
   "source": [
    "The ability to smooth matrices is important because it allows us to compute exponentially smoothed regression models by smoothing the information matrix of the regression. It is important to note that both functions have lookahead because the smooth for time $t$ includes data up to and including time $t$. We have to be careful in aligning results so that lookahead is avoided."
   ]
  },
  {
   "cell_type": "markdown",
   "metadata": {},
   "source": [
    "## Exponentially Smoothed Regression"
   ]
  },
  {
   "cell_type": "markdown",
   "metadata": {},
   "source": [
    "This section covers the computation of an exponentially smoothed simple linear regression without lookahead. The extension to multiple linear regression is straightforward. A simple linear regression is the solution of:\n",
    "$$\\left(\n",
    "\\begin{array}{c}\n",
    " \\Sigma _i y_i \\\\\n",
    " \\Sigma _i x_i y_i \\\\\n",
    "\\end{array}\n",
    "\\right)=\\left(\n",
    "\\begin{array}{c}\n",
    " \\alpha  \\\\\n",
    " \\beta  \\\\\n",
    "\\end{array}\n",
    "\\right) \\left(\n",
    "\\begin{array}{cc}\n",
    " n & \\Sigma _i x_i \\\\\n",
    " \\Sigma _i x_i & \\Sigma _i x_i^2 \\\\\n",
    "\\end{array}\n",
    "\\right)$$"
   ]
  },
  {
   "cell_type": "markdown",
   "metadata": {},
   "source": [
    "We introduce some notation and note that the computation can be re-expressed as:\n",
    "$$m=\\left(\n",
    "\\begin{array}{c}\n",
    " \\Sigma _i y_i \\\\\n",
    " \\Sigma _i x_i y_i \\\\\n",
    "\\end{array}\n",
    "\\right)=\\sum _{i=1}^n y_i \\left(\n",
    "\\begin{array}{c}\n",
    " 1 \\\\\n",
    " x_i \\\\\n",
    "\\end{array}\n",
    "\\right)$$\n",
    "$$M=\\left(\n",
    "\\begin{array}{cc}\n",
    " n & \\Sigma _i x_i \\\\\n",
    " \\Sigma _i x_i & \\Sigma _i x_i^2 \\\\\n",
    "\\end{array}\n",
    "\\right)=\\sum _{i=1}^n \\left(\n",
    "\\begin{array}{c}\n",
    " 1 \\\\\n",
    " x_i \\\\\n",
    "\\end{array}\n",
    "\\right) \\left(\n",
    "\\begin{array}{c}\n",
    " 1 \\\\\n",
    " x_i \\\\\n",
    "\\end{array}\n",
    "\\right){}^T$$"
   ]
  },
  {
   "cell_type": "markdown",
   "metadata": {},
   "source": [
    "If we wished to write the equations for a regression that looked back over $m$ periods, giving each period a weight of $w_i$, then the computation of the regression without lookahead would be:\n",
    "$$m_t=\\sum _{i=t-m}^{t-1} w_i\\left(\n",
    "\\begin{array}{c}\n",
    " 1 \\\\\n",
    " x_i \\\\\n",
    "\\end{array}\n",
    "\\right)y_i$$\n",
    "$$M_t=\\sum _{i=t-m}^{t-1} w_i\\left(\n",
    "\\begin{array}{c}\n",
    " 1 \\\\\n",
    " x_i \\\\\n",
    "\\end{array}\n",
    "\\right){} \\left(\n",
    "\\begin{array}{c}\n",
    " 1 \\\\\n",
    " x_i \\\\\n",
    "\\end{array}\n",
    "\\right)^T$$\n",
    "$$\\left(\n",
    "\\begin{array}{c}\n",
    " \\alpha _t \\\\\n",
    " \\beta _t \\\\\n",
    "\\end{array}\n",
    "\\right)=\\frac{m_t}{M_t}$$"
   ]
  },
  {
   "cell_type": "markdown",
   "metadata": {},
   "source": [
    "Exponential smoothing can be viewed as a moving average whose weights decay exponentially as one goes further back in time. Clearly, then the exponentially smoothed version of the above is:\n",
    "$$m_t=(1-\\lambda ) m_{t-1}+\\lambda  y_{t-1}\\left(\n",
    "\\begin{array}{c}\n",
    " 1 \\\\\n",
    " x_{t-1} \\\\\n",
    "\\end{array}\n",
    "\\right)$$\n",
    "$$M_t=(1-\\lambda ) M_{t-1}+\\lambda  \\left(\n",
    "\\begin{array}{c}\n",
    " 1 \\\\\n",
    " x_{t-1} \\\\\n",
    "\\end{array}\n",
    "\\right) \\left(\n",
    "\\begin{array}{c}\n",
    " 1 \\\\\n",
    " x_{t-1} \\\\\n",
    "\\end{array}\n",
    "\\right){}^T$$\n",
    "$$\\left(\n",
    "\\begin{array}{c}\n",
    " \\alpha _t \\\\\n",
    " \\beta _t \\\\\n",
    "\\end{array}\n",
    "\\right)=\\frac{m_t}{M_t}$$"
   ]
  },
  {
   "cell_type": "markdown",
   "metadata": {},
   "source": [
    "Again, note that there is no lookahead the way the equations above are constructed; the estimates of $(\\alpha_t,\\beta_t)^T$ use data only from periods $t-1$ and earlier. The version of exponential smoothing we've created, unlike many built-in functions, handles  arbitrary objects, the only requirement being that the observation and the smooth conform so that the basic convex combination works."
   ]
  },
  {
   "cell_type": "markdown",
   "metadata": {},
   "source": [
    "## Volatility Smoothing"
   ]
  },
  {
   "cell_type": "markdown",
   "metadata": {},
   "source": [
    "Volatility smoothing is important. We want to use data across time and across a number of instruments, but the raw data displays large variations in volatility both cross-temporally and cross-sectionally."
   ]
  },
  {
   "cell_type": "code",
   "execution_count": 35,
   "metadata": {},
   "outputs": [
    {
     "data": {
      "text/plain": [
       "[0.0008723484387600651, 0.0007433063647429512, 0.0005775364235226612]"
      ]
     },
     "execution_count": 35,
     "metadata": {},
     "output_type": "execute_result"
    }
   ],
   "source": [
    "[np.std(dbLogReturns[2][0:-1,0]),np.std(dbLogReturns[2][0:-1,1]),np.std(dbLogReturns[2][0:-1,2])]"
   ]
  },
  {
   "cell_type": "code",
   "execution_count": 37,
   "metadata": {},
   "outputs": [
    {
     "data": {
      "text/plain": [
       "[-3.224640805801676e-05, 7.210411580413896e-05, 1.823756545518432e-05]"
      ]
     },
     "execution_count": 37,
     "metadata": {},
     "output_type": "execute_result"
    }
   ],
   "source": [
    "[np.mean(dbLogReturns[2][0:-1,0]),np.mean(dbLogReturns[2][0:-1,1]),np.mean(dbLogReturns[2][0:-1,2])]"
   ]
  },
  {
   "cell_type": "code",
   "execution_count": 36,
   "metadata": {},
   "outputs": [
    {
     "data": {
      "text/plain": [
       "['AAPL', 'IBM', 'MSFT']"
      ]
     },
     "execution_count": 36,
     "metadata": {},
     "output_type": "execute_result"
    }
   ],
   "source": [
    "dbLogReturns[1]"
   ]
  },
  {
   "cell_type": "markdown",
   "metadata": {},
   "source": [
    "$Var(r) = \\mathbb{E}(r^2) - \\mathbb{E}(r)^2$"
   ]
  },
  {
   "cell_type": "markdown",
   "metadata": {},
   "source": [
    "We can smooth these using exponential smoothing and observing the fact that at the intraday level\n",
    "$$\\mathbb{E}[r^2] \\sim Var[r]$$"
   ]
  },
  {
   "cell_type": "markdown",
   "metadata": {},
   "source": [
    "We can compute these normalized results and put them into a db. It is important to note the use of indexing in order to prevent look ahead."
   ]
  },
  {
   "cell_type": "code",
   "execution_count": 50,
   "metadata": {},
   "outputs": [],
   "source": [
    "mnVarSmoothedLogReturns = []\n",
    "for i in range(len(dbLogReturns[1])):\n",
    "    VarSmoothed = (dbLogReturns[2].transpose()[i][1:-1])/np.sqrt(es.xExponentialSmooth(dbLogReturns[2].transpose()[i][0:-2]**2,0.1))\n",
    "    mnVarSmoothedLogReturns.append(VarSmoothed)\n",
    "mnVarSmoothedLogReturns = np.array(mnVarSmoothedLogReturns)"
   ]
  },
  {
   "cell_type": "code",
   "execution_count": 51,
   "metadata": {},
   "outputs": [],
   "source": [
    "dbVarSmoothedLogReturns = [vxCalendar,['AAPL','IBM','MSFT'],mnVarSmoothedLogReturns.transpose()]"
   ]
  },
  {
   "cell_type": "code",
   "execution_count": 75,
   "metadata": {},
   "outputs": [
    {
     "data": {
      "text/plain": [
       "[DatetimeIndex(['1900-01-01 09:31:00', '1900-01-01 09:32:00',\n",
       "                '1900-01-01 09:33:00', '1900-01-01 09:34:00',\n",
       "                '1900-01-01 09:35:00', '1900-01-01 09:36:00',\n",
       "                '1900-01-01 09:37:00', '1900-01-01 09:38:00',\n",
       "                '1900-01-01 09:39:00', '1900-01-01 09:40:00',\n",
       "                ...\n",
       "                '1900-01-01 15:51:00', '1900-01-01 15:52:00',\n",
       "                '1900-01-01 15:53:00', '1900-01-01 15:54:00',\n",
       "                '1900-01-01 15:55:00', '1900-01-01 15:56:00',\n",
       "                '1900-01-01 15:57:00', '1900-01-01 15:58:00',\n",
       "                '1900-01-01 15:59:00', '1900-01-01 16:00:00'],\n",
       "               dtype='datetime64[ns]', name='Date_Time', length=390, freq='T'),\n",
       " ['AAPL', 'IBM', 'MSFT'],\n",
       " array([[-7.04878835e-01,  1.58695418e+00, -3.57075386e+00],\n",
       "        [-3.41613565e-01, -3.87465899e-01,  4.85467991e-01],\n",
       "        [ 2.44809029e-01,  7.48799330e-01,  3.53468291e-01],\n",
       "        ...,\n",
       "        [-3.21888445e-01,  1.03551323e+00,  5.49828362e-01],\n",
       "        [-1.45819711e+00, -6.60314164e-01, -8.55171495e-01],\n",
       "        [ 8.00394314e-04, -1.41694430e+00, -1.94307412e+00]])]"
      ]
     },
     "execution_count": 75,
     "metadata": {},
     "output_type": "execute_result"
    }
   ],
   "source": [
    "dbVarSmoothedLogReturns"
   ]
  },
  {
   "cell_type": "markdown",
   "metadata": {},
   "source": [
    "If we have done a reasonable job of estimating volatility then the standard deviation should be near unity."
   ]
  },
  {
   "cell_type": "code",
   "execution_count": 52,
   "metadata": {},
   "outputs": [
    {
     "data": {
      "text/plain": [
       "[0.9879617756282181, 1.0126861969268455, 1.072951684365099]"
      ]
     },
     "execution_count": 52,
     "metadata": {},
     "output_type": "execute_result"
    }
   ],
   "source": [
    "[np.std(dbVarSmoothedLogReturns[2][0:-1,0]),np.std(dbVarSmoothedLogReturns[2][0:-1,1]),np.std(dbVarSmoothedLogReturns[2][0:-1,2])]"
   ]
  },
  {
   "cell_type": "markdown",
   "metadata": {},
   "source": [
    "This can be done in the context of volume as well. One of the overall ideas here is that certain explanatory variable are on different scales. It is these differences in scale that can produce effects across assets that will fool models."
   ]
  },
  {
   "cell_type": "code",
   "execution_count": 53,
   "metadata": {},
   "outputs": [
    {
     "data": {
      "text/plain": [
       "[154625.3084832905, 20112.987146529562, 63483.12596401028]"
      ]
     },
     "execution_count": 53,
     "metadata": {},
     "output_type": "execute_result"
    }
   ],
   "source": [
    "[np.mean(dbTradeVolume[2][0:-1,0]),np.mean(dbTradeVolume[2][0:-1,1]),np.mean(dbTradeVolume[2][0:-1,2])]"
   ]
  },
  {
   "cell_type": "code",
   "execution_count": 54,
   "metadata": {},
   "outputs": [
    {
     "data": {
      "text/plain": [
       "[177304.51914942756, 12733.801653976585, 53021.110354564626]"
      ]
     },
     "execution_count": 54,
     "metadata": {},
     "output_type": "execute_result"
    }
   ],
   "source": [
    "[np.std(dbTradeVolume[2][0:-1,0]),np.std(dbTradeVolume[2][0:-1,1]),np.std(dbTradeVolume[2][0:-1,2])]"
   ]
  },
  {
   "cell_type": "markdown",
   "metadata": {},
   "source": [
    "As above we will use standard deviation to bring our scales into alignment, but any estiamte of scale could be used in it's place. Just think about why you are using the estimator you've picked. "
   ]
  },
  {
   "cell_type": "code",
   "execution_count": 70,
   "metadata": {},
   "outputs": [],
   "source": [
    "mnVarSmoothedTradeVolume = []\n",
    "for i in range(len(dbTradeVolume[1])):\n",
    "    VarSmooth = (dbTradeVolume[2].transpose()[i][1:-1])/np.sqrt(es.xExponentialSmooth(dbTradeVolume[2].transpose()[i][0:-2]**2,.9))\n",
    "    mnVarSmoothedTradeVolume.append(VarSmooth)\n",
    "mnVarSmoothedTradeVolume = np.array(mnVarSmoothedTradeVolume)"
   ]
  },
  {
   "cell_type": "code",
   "execution_count": 71,
   "metadata": {},
   "outputs": [],
   "source": [
    "dbVarSmoothedTradeVolume = [vxCalendar,['AAPL','IBM','MSFT'],mnVarSmoothedTradeVolume.transpose()]"
   ]
  },
  {
   "cell_type": "code",
   "execution_count": 72,
   "metadata": {},
   "outputs": [
    {
     "data": {
      "text/plain": [
       "[0.4848679158158858, 0.5611998722542082, 0.4963947285510212]"
      ]
     },
     "execution_count": 72,
     "metadata": {},
     "output_type": "execute_result"
    }
   ],
   "source": [
    "[np.std(dbVarSmoothedTradeVolume[2][0:-1,0]),np.std(dbVarSmoothedTradeVolume[2][0:-1,1]),np.std(dbVarSmoothedTradeVolume[2][0:-1,2])]"
   ]
  },
  {
   "cell_type": "code",
   "execution_count": 73,
   "metadata": {},
   "outputs": [
    {
     "data": {
      "text/plain": [
       "array([[0.36879282, 1.62199   , 0.26605689],\n",
       "       [0.93173623, 0.57402231, 0.89731615],\n",
       "       [0.66578665, 0.86532652, 0.92931884],\n",
       "       ...,\n",
       "       [0.54199257, 1.12256306, 0.73459793],\n",
       "       [1.22995688, 0.95881676, 0.82019523],\n",
       "       [0.85744103, 1.13896479, 2.55102018]])"
      ]
     },
     "execution_count": 73,
     "metadata": {},
     "output_type": "execute_result"
    }
   ],
   "source": [
    "dbVarSmoothedTradeVolume[2]"
   ]
  },
  {
   "cell_type": "code",
   "execution_count": 74,
   "metadata": {},
   "outputs": [
    {
     "data": {
      "text/plain": [
       "array([[2055463,   24211,  675660],\n",
       "       [ 758040,   39270,  179764],\n",
       "       [ 903186,   21832,  245306],\n",
       "       ...,\n",
       "       [ 252416,   38395,  122849],\n",
       "       [ 212732,   43922,  320923],\n",
       "       [ 509096,  111184,  356611]])"
      ]
     },
     "execution_count": 74,
     "metadata": {},
     "output_type": "execute_result"
    }
   ],
   "source": [
    "dbTradeVolume[2]"
   ]
  },
  {
   "cell_type": "code",
   "execution_count": null,
   "metadata": {},
   "outputs": [],
   "source": []
  }
 ],
 "metadata": {
  "kernelspec": {
   "display_name": "Python 3",
   "language": "python",
   "name": "python3"
  },
  "language_info": {
   "codemirror_mode": {
    "name": "ipython",
    "version": 3
   },
   "file_extension": ".py",
   "mimetype": "text/x-python",
   "name": "python",
   "nbconvert_exporter": "python",
   "pygments_lexer": "ipython3",
   "version": "3.7.1"
  }
 },
 "nbformat": 4,
 "nbformat_minor": 4
}
